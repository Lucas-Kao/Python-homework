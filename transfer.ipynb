{
 "cells": [
  {
   "cell_type": "code",
   "execution_count": 1,
   "metadata": {},
   "outputs": [],
   "source": [
    "import matplotlib.pyplot as plt\n",
    "import numpy as np\n",
    "\n",
    "from tensorflow.keras.models import Sequential\n",
    "from tensorflow.keras.layers import Dense\n",
    "from tensorflow.keras.layers import Flatten\n",
    "from tensorflow.keras.layers import Conv2D, MaxPool2D, GlobalAveragePooling2D\n",
    "from tensorflow.keras.optimizers import SGD, Adam\n",
    "\n",
    "from tensorflow.keras import datasets\n",
    "from tensorflow.keras.utils import to_categorical"
   ]
  },
  {
   "cell_type": "code",
   "execution_count": 2,
   "metadata": {},
   "outputs": [
    {
     "name": "stdout",
     "output_type": "stream",
     "text": [
      "Downloading data from https://www.cs.toronto.edu/~kriz/cifar-10-python.tar.gz\n",
      "170500096/170498071 [==============================] - 65s 0us/step\n"
     ]
    }
   ],
   "source": [
    "name_list = ['airplane', 'automobile', 'bird', 'cat', 'deer', 'dog', 'frog', 'horse', 'ship', 'truck'] \n",
    "(X_train, Y_train), (X_test, Y_test) = datasets.cifar10.load_data() "
   ]
  },
  {
   "cell_type": "code",
   "execution_count": 5,
   "metadata": {},
   "outputs": [],
   "source": [
    "X_train = X_train / X_train.max()\n",
    "X_test = X_test / X_test.max()\n",
    "\n",
    "\n",
    "Y_train = to_categorical(Y_train, 10)\n",
    "Y_test = to_categorical(Y_test, 10)"
   ]
  },
  {
   "cell_type": "code",
   "execution_count": 6,
   "metadata": {},
   "outputs": [],
   "source": [
    "CNN_layers = [Conv2D(64, (3, 3), input_shape=(32, 32, 3), padding='same', activation='relu', name='Conv_1'),\n",
    "              MaxPool2D(),\n",
    "              Conv2D(128, (3, 3), padding='same', activation='relu', name='Conv_2'),\n",
    "              MaxPool2D(),\n",
    "              Conv2D(256, (3, 3), padding='same', activation='relu', name='Conv_3'),\n",
    "              GlobalAveragePooling2D()]"
   ]
  },
  {
   "cell_type": "code",
   "execution_count": 7,
   "metadata": {},
   "outputs": [],
   "source": [
    "FC_layers = [Dense(units=512, activation='relu'),\n",
    "             Dense(units=256, activation='relu'),\n",
    "             Dense(units=128, activation='relu'),\n",
    "             Dense(units=10, activation='softmax')]"
   ]
  },
  {
   "cell_type": "code",
   "execution_count": 10,
   "metadata": {},
   "outputs": [
    {
     "name": "stdout",
     "output_type": "stream",
     "text": [
      "Model: \"sequential_1\"\n",
      "_________________________________________________________________\n",
      "Layer (type)                 Output Shape              Param #   \n",
      "=================================================================\n",
      "Conv_1 (Conv2D)              (None, 32, 32, 64)        1792      \n",
      "_________________________________________________________________\n",
      "max_pooling2d (MaxPooling2D) (None, 16, 16, 64)        0         \n",
      "_________________________________________________________________\n",
      "Conv_2 (Conv2D)              (None, 16, 16, 128)       73856     \n",
      "_________________________________________________________________\n",
      "max_pooling2d_1 (MaxPooling2 (None, 8, 8, 128)         0         \n",
      "_________________________________________________________________\n",
      "Conv_3 (Conv2D)              (None, 8, 8, 256)         295168    \n",
      "_________________________________________________________________\n",
      "global_average_pooling2d (Gl (None, 256)               0         \n",
      "_________________________________________________________________\n",
      "dense (Dense)                (None, 512)               131584    \n",
      "_________________________________________________________________\n",
      "dense_1 (Dense)              (None, 256)               131328    \n",
      "_________________________________________________________________\n",
      "dense_2 (Dense)              (None, 128)               32896     \n",
      "_________________________________________________________________\n",
      "dense_3 (Dense)              (None, 10)                1290      \n",
      "=================================================================\n",
      "Total params: 667,914\n",
      "Trainable params: 667,914\n",
      "Non-trainable params: 0\n",
      "_________________________________________________________________\n"
     ]
    }
   ],
   "source": [
    "_model = Sequential(CNN_layers+FC_layers)\n",
    "_model.summary()"
   ]
  },
  {
   "cell_type": "code",
   "execution_count": 14,
   "metadata": {},
   "outputs": [
    {
     "name": "stdout",
     "output_type": "stream",
     "text": [
      "Train on 50000 samples, validate on 10000 samples\n",
      "Epoch 1/10\n",
      "50000/50000 [==============================] - 163s 3ms/sample - loss: 1.8612 - categorical_accuracy: 0.2745 - val_loss: 1.5854 - val_categorical_accuracy: 0.3969\n",
      "Epoch 2/10\n",
      "50000/50000 [==============================] - 173s 3ms/sample - loss: 1.5152 - categorical_accuracy: 0.4257 - val_loss: 1.3467 - val_categorical_accuracy: 0.4978\n",
      "Epoch 3/10\n",
      "50000/50000 [==============================] - 163s 3ms/sample - loss: 1.3043 - categorical_accuracy: 0.5181 - val_loss: 1.2372 - val_categorical_accuracy: 0.5529\n",
      "Epoch 4/10\n",
      "50000/50000 [==============================] - 161s 3ms/sample - loss: 1.1801 - categorical_accuracy: 0.5655 - val_loss: 1.0989 - val_categorical_accuracy: 0.6042\n",
      "Epoch 5/10\n",
      "50000/50000 [==============================] - 160s 3ms/sample - loss: 1.0678 - categorical_accuracy: 0.6103 - val_loss: 1.0105 - val_categorical_accuracy: 0.6383\n",
      "Epoch 6/10\n",
      "50000/50000 [==============================] - 161s 3ms/sample - loss: 0.9879 - categorical_accuracy: 0.6417 - val_loss: 0.9717 - val_categorical_accuracy: 0.6501\n",
      "Epoch 7/10\n",
      "50000/50000 [==============================] - 161s 3ms/sample - loss: 0.9122 - categorical_accuracy: 0.6697 - val_loss: 0.9263 - val_categorical_accuracy: 0.6695\n",
      "Epoch 8/10\n",
      "50000/50000 [==============================] - 161s 3ms/sample - loss: 0.8499 - categorical_accuracy: 0.6928 - val_loss: 0.8512 - val_categorical_accuracy: 0.6970\n",
      "Epoch 9/10\n",
      "50000/50000 [==============================] - 161s 3ms/sample - loss: 0.8003 - categorical_accuracy: 0.7142 - val_loss: 0.8858 - val_categorical_accuracy: 0.6867\n",
      "Epoch 10/10\n",
      "50000/50000 [==============================] - 161s 3ms/sample - loss: 0.7537 - categorical_accuracy: 0.7300 - val_loss: 0.8076 - val_categorical_accuracy: 0.7154\n"
     ]
    },
    {
     "data": {
      "text/plain": [
       "<tensorflow.python.keras.callbacks.History at 0x21e71e50608>"
      ]
     },
     "execution_count": 14,
     "metadata": {},
     "output_type": "execute_result"
    }
   ],
   "source": [
    "_model.compile(loss='categorical_crossentropy', \n",
    "                    optimizer=Adam(),\n",
    "                    metrics=['categorical_accuracy'])\n",
    "\n",
    "_model.fit(X_train, Y_train,batch_size=188,epochs=10,validation_data=(X_test, Y_test))"
   ]
  },
  {
   "cell_type": "code",
   "execution_count": null,
   "metadata": {},
   "outputs": [],
   "source": []
  }
 ],
 "metadata": {
  "kernelspec": {
   "display_name": "Python 3",
   "language": "python",
   "name": "python3"
  },
  "language_info": {
   "codemirror_mode": {
    "name": "ipython",
    "version": 3
   },
   "file_extension": ".py",
   "mimetype": "text/x-python",
   "name": "python",
   "nbconvert_exporter": "python",
   "pygments_lexer": "ipython3",
   "version": "3.7.4"
  }
 },
 "nbformat": 4,
 "nbformat_minor": 2
}
