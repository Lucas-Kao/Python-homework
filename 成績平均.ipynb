{
 "cells": [
  {
   "cell_type": "code",
   "execution_count": 1,
   "metadata": {},
   "outputs": [
    {
     "name": "stdout",
     "output_type": "stream",
     "text": [
      "請依序輸入分數，每輸入完一個正整數後請按Enter，再接著輸入下一個:\n",
      "輸入第1個分數:1000\n",
      "剛剛輸入的第  1個分數範圍錯誤，故不加入串列中\n",
      "輸入第1個分數:32\n",
      "輸入第2個分數:3\n",
      "輸入第3個分數:5\n",
      "輸入第4個分數:324\n",
      "剛剛輸入的第  4個分數範圍錯誤，故不加入串列中\n",
      "輸入第4個分數:53\n",
      "輸入第5個分數:2\n",
      "輸入第6個分數:4\n",
      "輸入第7個分數:-1\n",
      "平均為 16.5\n",
      "輸入的成績由大到小為 [53.0, 32.0, 5.0, 4.0, 3.0, 2.0]\n"
     ]
    }
   ],
   "source": [
    "score=90\n",
    "scores=[]\n",
    "count=1\n",
    "print('請依序輸入分數，每輸入完一個正整數後請按Enter，再接著輸入下一個:')\n",
    "while score !=\"-1\":\n",
    "    score = input('輸入第'+str(count)+'個分數:')  \n",
    "    try:\n",
    "        if 0<=float(score)<=100:\n",
    "            data=float(score)  \n",
    "            scores.append(float(score))  \n",
    "            count+=1\n",
    "        elif float(score)>100 or float(score)<-1:\n",
    "            print(f\"剛剛輸入的第{count:3d}個分數範圍錯誤，故不加入串列中\")\n",
    "    except ValueError:\n",
    "          print(\"請輸入正確的分數格式\")\n",
    "total=0\n",
    "for i in range(len(scores)):\n",
    "    total+=scores[i]\n",
    "print(\"平均為\",total/len(scores))\n",
    "list_s=sorted(scores, reverse=True)\n",
    "print(\"輸入的成績由大到小為\", list_s)"
   ]
  },
  {
   "cell_type": "code",
   "execution_count": null,
   "metadata": {},
   "outputs": [],
   "source": []
  }
 ],
 "metadata": {
  "kernelspec": {
   "display_name": "Python 3",
   "language": "python",
   "name": "python3"
  },
  "language_info": {
   "codemirror_mode": {
    "name": "ipython",
    "version": 3
   },
   "file_extension": ".py",
   "mimetype": "text/x-python",
   "name": "python",
   "nbconvert_exporter": "python",
   "pygments_lexer": "ipython3",
   "version": "3.7.4"
  }
 },
 "nbformat": 4,
 "nbformat_minor": 2
}
