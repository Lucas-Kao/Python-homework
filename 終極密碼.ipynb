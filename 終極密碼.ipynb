{
 "cells": [
  {
   "cell_type": "code",
   "execution_count": 1,
   "metadata": {},
   "outputs": [],
   "source": [
    "%matplotlib inline\n",
    "import numpy as np\n"
   ]
  },
  {
   "cell_type": "code",
   "execution_count": 2,
   "metadata": {},
   "outputs": [
    {
     "name": "stdout",
     "output_type": "stream",
     "text": [
      "請輸入1~1000中的任一整數\n",
      "444\n",
      "比444還小呵呵呵\n",
      "222\n",
      "比222還小呵呵呵\n",
      "80\n",
      "比80還小呵呵呵\n",
      "40\n",
      "比40再大唷嘿嘿嘿\n",
      "67\n",
      "比67還小呵呵呵\n",
      "57\n",
      "比57還小呵呵呵\n",
      "49\n",
      "比49還小呵呵呵\n",
      "45\n",
      "比45再大唷嘿嘿嘿\n",
      "48\n",
      "比48還小呵呵呵\n",
      "47\n",
      "比47還小呵呵呵\n",
      "46\n",
      "哇，中了耶\n"
     ]
    }
   ],
   "source": [
    "X=np.random.randint(1,1001)\n",
    "print(\"請輸入1~1000中的任一整數\")\n",
    "ans=0\n",
    "while float(ans)!=X:\n",
    "    ans=input(\"\")\n",
    "    if 1<float(ans)<X:\n",
    "        print(\"比\"+ans+\"再大唷嘿嘿嘿\")\n",
    "    elif X<float(ans)<1000:\n",
    "        print(\"比\"+ans+\"還小呵呵呵\")\n",
    "\n",
    "    elif X ==float(ans):\n",
    "        print(\"哇，中了耶\")\n",
    "    else:\n",
    "        print(\"眼幹嗎\")\n"
   ]
  },
  {
   "cell_type": "code",
   "execution_count": null,
   "metadata": {},
   "outputs": [],
   "source": []
  }
 ],
 "metadata": {
  "kernelspec": {
   "display_name": "Python 3",
   "language": "python",
   "name": "python3"
  },
  "language_info": {
   "codemirror_mode": {
    "name": "ipython",
    "version": 3
   },
   "file_extension": ".py",
   "mimetype": "text/x-python",
   "name": "python",
   "nbconvert_exporter": "python",
   "pygments_lexer": "ipython3",
   "version": "3.7.4"
  }
 },
 "nbformat": 4,
 "nbformat_minor": 2
}
