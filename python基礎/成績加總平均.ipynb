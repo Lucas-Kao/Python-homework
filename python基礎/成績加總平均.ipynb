{
 "cells": [
  {
   "cell_type": "markdown",
   "metadata": {},
   "source": [
    "數學老師王老師的班上有15位同學，考完期中考後，王老師需要你的幫忙，寫一\n",
    "個程式可以讓王老師依序輸入15位同學的期中考分數後，你的程式可以幫忙計\n",
    "算並印出全班數學期中考的總平均分數。\n",
    "為了方便王老師檢查之前他所輸入的分數資料是否正確，請再將王老師所輸入的\n",
    "15位同學的成績也依序印出來讓王老師可以檢查。"
   ]
  },
  {
   "cell_type": "code",
   "execution_count": null,
   "metadata": {},
   "outputs": [
    {
     "name": "stdout",
     "output_type": "stream",
     "text": [
      "請依序輸入15個成績，每輸入完一個成績後請按Enter，再接著輸入下一個:\n",
      "輸入第1個成績:4.5\n",
      "剛剛輸入的第 1 個值並非正整數，故不加入串列中\n"
     ]
    }
   ],
   "source": [
    "count=15\n",
    "score=[]\n",
    "total=0\n",
    "print('請依序輸入15個成績，每輸入完一個成績後請按Enter，再接著輸入下一個:')\n",
    "for item in range(count):  \n",
    "    line =input('輸入第'+str(item+1)+'個成績:')  \n",
    "    if line.isdecimal(): \n",
    "        if 0<=int(line)<=100:\n",
    "            data=int(line)  \n",
    "            score.append(data)  \n",
    "        else:\n",
    "          print(\"剛剛輸入的第\",str(item+1),\"個值範圍錯誤，故不加入串列中\")  \n",
    "    else:\n",
    "        print(\"剛剛輸入的第\",str(item+1),\"個值並非正整數，故不加入串列中\")\n",
    "print('已完成輸入\\n')\n",
    "print(\"輸入的成績有:\",score,\"共有\",len(score),\"個\")\n",
    "\n",
    "sum=0\n",
    "for i in range(len(score)):\n",
    "    sum+=score[i]\n",
    "print(\"平均為:\",sum/len(score))"
   ]
  },
  {
   "cell_type": "markdown",
   "metadata": {},
   "source": []
  }
 ],
 "metadata": {
  "kernelspec": {
   "display_name": "Python 3",
   "language": "python",
   "name": "python3"
  },
  "language_info": {
   "codemirror_mode": {
    "name": "ipython",
    "version": 3
   },
   "file_extension": ".py",
   "mimetype": "text/x-python",
   "name": "python",
   "nbconvert_exporter": "python",
   "pygments_lexer": "ipython3",
   "version": "3.7.4"
  }
 },
 "nbformat": 4,
 "nbformat_minor": 2
}
