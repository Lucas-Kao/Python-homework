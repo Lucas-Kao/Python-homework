{
 "cells": [
  {
   "cell_type": "code",
   "execution_count": 1,
   "metadata": {},
   "outputs": [],
   "source": [
    "%matplotlib inline\n",
    "import numpy as np\n",
    "import matplotlib.pyplot as plt "
   ]
  },
  {
   "cell_type": "code",
   "execution_count": 2,
   "metadata": {},
   "outputs": [],
   "source": [
    "x=np.array([[2,4],[-2,3],[1,-1],[4,4]])\n",
    "y=np.array([1,1,2,2])"
   ]
  },
  {
   "cell_type": "code",
   "execution_count": 3,
   "metadata": {},
   "outputs": [
    {
     "data": {
      "text/plain": [
       "<matplotlib.collections.PathCollection at 0x223671e5908>"
      ]
     },
     "execution_count": 3,
     "metadata": {},
     "output_type": "execute_result"
    },
    {
     "data": {
      "image/png": "[encoded data removed]",
      "text/plain": [
       "<Figure size 432x288 with 1 Axes>"
      ]
     },
     "metadata": {
      "needs_background": "light"
     },
     "output_type": "display_data"
    }
   ],
   "source": [
    "plt.scatter([2,-2,1,4],[4,3,-1,4],c=y)"
   ]
  },
  {
   "cell_type": "code",
   "execution_count": 4,
   "metadata": {},
   "outputs": [
    {
     "data": {
      "text/plain": [
       "<matplotlib.collections.PathCollection at 0x2236a54e1c8>"
      ]
     },
     "execution_count": 4,
     "metadata": {},
     "output_type": "execute_result"
    },
    {
     "data": {
      "image/png": "[encoded data removed]",
      "text/plain": [
       "<Figure size 432x288 with 1 Axes>"
      ]
     },
     "metadata": {
      "needs_background": "light"
     },
     "output_type": "display_data"
    }
   ],
   "source": [
    "plt.scatter(x[:,0],x[:,1],c=y)"
   ]
  },
  {
   "cell_type": "code",
   "execution_count": 5,
   "metadata": {},
   "outputs": [],
   "source": [
    "from sklearn.svm import SVC"
   ]
  },
  {
   "cell_type": "code",
   "execution_count": 6,
   "metadata": {},
   "outputs": [],
   "source": [
    "clf=SVC()"
   ]
  },
  {
   "cell_type": "code",
   "execution_count": 7,
   "metadata": {},
   "outputs": [
    {
     "name": "stderr",
     "output_type": "stream",
     "text": [
      "C:\\Users\\blueo\\Anaconda3\\lib\\site-packages\\sklearn\\svm\\base.py:193: FutureWarning: The default value of gamma will change from 'auto' to 'scale' in version 0.22 to account better for unscaled features. Set gamma explicitly to 'auto' or 'scale' to avoid this warning.\n",
      "  \"avoid this warning.\", FutureWarning)\n"
     ]
    },
    {
     "data": {
      "text/plain": [
       "SVC(C=1.0, cache_size=200, class_weight=None, coef0=0.0,\n",
       "    decision_function_shape='ovr', degree=3, gamma='auto_deprecated',\n",
       "    kernel='rbf', max_iter=-1, probability=False, random_state=None,\n",
       "    shrinking=True, tol=0.001, verbose=False)"
      ]
     },
     "execution_count": 7,
     "metadata": {},
     "output_type": "execute_result"
    }
   ],
   "source": [
    "clf.fit(x,y)"
   ]
  },
  {
   "cell_type": "code",
   "execution_count": 8,
   "metadata": {},
   "outputs": [
    {
     "data": {
      "text/plain": [
       "array([1])"
      ]
     },
     "execution_count": 8,
     "metadata": {},
     "output_type": "execute_result"
    }
   ],
   "source": [
    "clf.predict([[2,4]])"
   ]
  },
  {
   "cell_type": "code",
   "execution_count": 9,
   "metadata": {},
   "outputs": [
    {
     "data": {
      "text/plain": [
       "array([1, 1, 2, 2])"
      ]
     },
     "execution_count": 9,
     "metadata": {},
     "output_type": "execute_result"
    }
   ],
   "source": [
    "clf.predict(x)"
   ]
  },
  {
   "cell_type": "code",
   "execution_count": 10,
   "metadata": {},
   "outputs": [
    {
     "data": {
      "text/plain": [
       "array([2])"
      ]
     },
     "execution_count": 10,
     "metadata": {},
     "output_type": "execute_result"
    }
   ],
   "source": [
    "clf.predict([[1,1]])"
   ]
  },
  {
   "cell_type": "code",
   "execution_count": 11,
   "metadata": {},
   "outputs": [],
   "source": [
    "xx=[1,2,3,4]\n",
    "yy=[5,6,7,8]"
   ]
  },
  {
   "cell_type": "code",
   "execution_count": 12,
   "metadata": {},
   "outputs": [],
   "source": [
    "X,Y=np.meshgrid(xx,yy)"
   ]
  },
  {
   "cell_type": "code",
   "execution_count": 13,
   "metadata": {},
   "outputs": [
    {
     "data": {
      "text/plain": [
       "array([[1, 2, 3, 4],\n",
       "       [1, 2, 3, 4],\n",
       "       [1, 2, 3, 4],\n",
       "       [1, 2, 3, 4]])"
      ]
     },
     "execution_count": 13,
     "metadata": {},
     "output_type": "execute_result"
    }
   ],
   "source": [
    "X"
   ]
  },
  {
   "cell_type": "code",
   "execution_count": 14,
   "metadata": {},
   "outputs": [
    {
     "data": {
      "text/plain": [
       "array([[5, 5, 5, 5],\n",
       "       [6, 6, 6, 6],\n",
       "       [7, 7, 7, 7],\n",
       "       [8, 8, 8, 8]])"
      ]
     },
     "execution_count": 14,
     "metadata": {},
     "output_type": "execute_result"
    }
   ],
   "source": [
    "Y\n"
   ]
  },
  {
   "cell_type": "code",
   "execution_count": 15,
   "metadata": {},
   "outputs": [],
   "source": [
    "X,Y=np.meshgrid(np.linspace(-6,3,30),np.linspace(-8,5,30))"
   ]
  },
  {
   "cell_type": "code",
   "execution_count": 16,
   "metadata": {},
   "outputs": [
    {
     "data": {
      "text/plain": [
       "array([[-6.        , -5.68965517, -5.37931034, -5.06896552, -4.75862069,\n",
       "        -4.44827586, -4.13793103, -3.82758621, -3.51724138, -3.20689655,\n",
       "        -2.89655172, -2.5862069 , -2.27586207, -1.96551724, -1.65517241,\n",
       "        -1.34482759, -1.03448276, -0.72413793, -0.4137931 , -0.10344828,\n",
       "         0.20689655,  0.51724138,  0.82758621,  1.13793103,  1.44827586,\n",
       "         1.75862069,  2.06896552,  2.37931034,  2.68965517,  3.        ],\n",
       "       [-6.        , -5.68965517, -5.37931034, -5.06896552, -4.75862069,\n",
       "        -4.44827586, -4.13793103, -3.82758621, -3.51724138, -3.20689655,\n",
       "        -2.89655172, -2.5862069 , -2.27586207, -1.96551724, -1.65517241,\n",
       "        -1.34482759, -1.03448276, -0.72413793, -0.4137931 , -0.10344828,\n",
       "         0.20689655,  0.51724138,  0.82758621,  1.13793103,  1.44827586,\n",
       "         1.75862069,  2.06896552,  2.37931034,  2.68965517,  3.        ],\n",
       "       [-6.        , -5.68965517, -5.37931034, -5.06896552, -4.75862069,\n",
       "        -4.44827586, -4.13793103, -3.82758621, -3.51724138, -3.20689655,\n",
       "        -2.89655172, -2.5862069 , -2.27586207, -1.96551724, -1.65517241,\n",
       "        -1.34482759, -1.03448276, -0.72413793, -0.4137931 , -0.10344828,\n",
       "         0.20689655,  0.51724138,  0.82758621,  1.13793103,  1.44827586,\n",
       "         1.75862069,  2.06896552,  2.37931034,  2.68965517,  3.        ],\n",
       "       [-6.        , -5.68965517, -5.37931034, -5.06896552, -4.75862069,\n",
       "        -4.44827586, -4.13793103, -3.82758621, -3.51724138, -3.20689655,\n",
       "        -2.89655172, -2.5862069 , -2.27586207, -1.96551724, -1.65517241,\n",
       "        -1.34482759, -1.03448276, -0.72413793, -0.4137931 , -0.10344828,\n",
       "         0.20689655,  0.51724138,  0.82758621,  1.13793103,  1.44827586,\n",
       "         1.75862069,  2.06896552,  2.37931034,  2.68965517,  3.        ],\n",
       "       [-6.        , -5.68965517, -5.37931034, -5.06896552, -4.75862069,\n",
       "        -4.44827586, -4.13793103, -3.82758621, -3.51724138, -3.20689655,\n",
       "        -2.89655172, -2.5862069 , -2.27586207, -1.96551724, -1.65517241,\n",
       "        -1.34482759, -1.03448276, -0.72413793, -0.4137931 , -0.10344828,\n",
       "         0.20689655,  0.51724138,  0.82758621,  1.13793103,  1.44827586,\n",
       "         1.75862069,  2.06896552,  2.37931034,  2.68965517,  3.        ],\n",
       "       [-6.        , -5.68965517, -5.37931034, -5.06896552, -4.75862069,\n",
       "        -4.44827586, -4.13793103, -3.82758621, -3.51724138, -3.20689655,\n",
       "        -2.89655172, -2.5862069 , -2.27586207, -1.96551724, -1.65517241,\n",
       "        -1.34482759, -1.03448276, -0.72413793, -0.4137931 , -0.10344828,\n",
       "         0.20689655,  0.51724138,  0.82758621,  1.13793103,  1.44827586,\n",
       "         1.75862069,  2.06896552,  2.37931034,  2.68965517,  3.        ],\n",
       "       [-6.        , -5.68965517, -5.37931034, -5.06896552, -4.75862069,\n",
       "        -4.44827586, -4.13793103, -3.82758621, -3.51724138, -3.20689655,\n",
       "        -2.89655172, -2.5862069 , -2.27586207, -1.96551724, -1.65517241,\n",
       "        -1.34482759, -1.03448276, -0.72413793, -0.4137931 , -0.10344828,\n",
       "         0.20689655,  0.51724138,  0.82758621,  1.13793103,  1.44827586,\n",
       "         1.75862069,  2.06896552,  2.37931034,  2.68965517,  3.        ],\n",
       "       [-6.        , -5.68965517, -5.37931034, -5.06896552, -4.75862069,\n",
       "        -4.44827586, -4.13793103, -3.82758621, -3.51724138, -3.20689655,\n",
       "        -2.89655172, -2.5862069 , -2.27586207, -1.96551724, -1.65517241,\n",
       "        -1.34482759, -1.03448276, -0.72413793, -0.4137931 , -0.10344828,\n",
       "         0.20689655,  0.51724138,  0.82758621,  1.13793103,  1.44827586,\n",
       "         1.75862069,  2.06896552,  2.37931034,  2.68965517,  3.        ],\n",
       "       [-6.        , -5.68965517, -5.37931034, -5.06896552, -4.75862069,\n",
       "        -4.44827586, -4.13793103, -3.82758621, -3.51724138, -3.20689655,\n",
       "        -2.89655172, -2.5862069 , -2.27586207, -1.96551724, -1.65517241,\n",
       "        -1.34482759, -1.03448276, -0.72413793, -0.4137931 , -0.10344828,\n",
       "         0.20689655,  0.51724138,  0.82758621,  1.13793103,  1.44827586,\n",
       "         1.75862069,  2.06896552,  2.37931034,  2.68965517,  3.        ],\n",
       "       [-6.        , -5.68965517, -5.37931034, -5.06896552, -4.75862069,\n",
       "        -4.44827586, -4.13793103, -3.82758621, -3.51724138, -3.20689655,\n",
       "        -2.89655172, -2.5862069 , -2.27586207, -1.96551724, -1.65517241,\n",
       "        -1.34482759, -1.03448276, -0.72413793, -0.4137931 , -0.10344828,\n",
       "         0.20689655,  0.51724138,  0.82758621,  1.13793103,  1.44827586,\n",
       "         1.75862069,  2.06896552,  2.37931034,  2.68965517,  3.        ],\n",
       "       [-6.        , -5.68965517, -5.37931034, -5.06896552, -4.75862069,\n",
       "        -4.44827586, -4.13793103, -3.82758621, -3.51724138, -3.20689655,\n",
       "        -2.89655172, -2.5862069 , -2.27586207, -1.96551724, -1.65517241,\n",
       "        -1.34482759, -1.03448276, -0.72413793, -0.4137931 , -0.10344828,\n",
       "         0.20689655,  0.51724138,  0.82758621,  1.13793103,  1.44827586,\n",
       "         1.75862069,  2.06896552,  2.37931034,  2.68965517,  3.        ],\n",
       "       [-6.        , -5.68965517, -5.37931034, -5.06896552, -4.75862069,\n",
       "        -4.44827586, -4.13793103, -3.82758621, -3.51724138, -3.20689655,\n",
       "        -2.89655172, -2.5862069 , -2.27586207, -1.96551724, -1.65517241,\n",
       "        -1.34482759, -1.03448276, -0.72413793, -0.4137931 , -0.10344828,\n",
       "         0.20689655,  0.51724138,  0.82758621,  1.13793103,  1.44827586,\n",
       "         1.75862069,  2.06896552,  2.37931034,  2.68965517,  3.        ],\n",
       "       [-6.        , -5.68965517, -5.37931034, -5.06896552, -4.75862069,\n",
       "        -4.44827586, -4.13793103, -3.82758621, -3.51724138, -3.20689655,\n",
       "        -2.89655172, -2.5862069 , -2.27586207, -1.96551724, -1.65517241,\n",
       "        -1.34482759, -1.03448276, -0.72413793, -0.4137931 , -0.10344828,\n",
       "         0.20689655,  0.51724138,  0.82758621,  1.13793103,  1.44827586,\n",
       "         1.75862069,  2.06896552,  2.37931034,  2.68965517,  3.        ],\n",
       "       [-6.        , -5.68965517, -5.37931034, -5.06896552, -4.75862069,\n",
       "        -4.44827586, -4.13793103, -3.82758621, -3.51724138, -3.20689655,\n",
       "        -2.89655172, -2.5862069 , -2.27586207, -1.96551724, -1.65517241,\n",
       "        -1.34482759, -1.03448276, -0.72413793, -0.4137931 , -0.10344828,\n",
       "         0.20689655,  0.51724138,  0.82758621,  1.13793103,  1.44827586,\n",
       "         1.75862069,  2.06896552,  2.37931034,  2.68965517,  3.        ],\n",
       "       [-6.        , -5.68965517, -5.37931034, -5.06896552, -4.75862069,\n",
       "        -4.44827586, -4.13793103, -3.82758621, -3.51724138, -3.20689655,\n",
       "        -2.89655172, -2.5862069 , -2.27586207, -1.96551724, -1.65517241,\n",
       "        -1.34482759, -1.03448276, -0.72413793, -0.4137931 , -0.10344828,\n",
       "         0.20689655,  0.51724138,  0.82758621,  1.13793103,  1.44827586,\n",
       "         1.75862069,  2.06896552,  2.37931034,  2.68965517,  3.        ],\n",
       "       [-6.        , -5.68965517, -5.37931034, -5.06896552, -4.75862069,\n",
       "        -4.44827586, -4.13793103, -3.82758621, -3.51724138, -3.20689655,\n",
       "        -2.89655172, -2.5862069 , -2.27586207, -1.96551724, -1.65517241,\n",
       "        -1.34482759, -1.03448276, -0.72413793, -0.4137931 , -0.10344828,\n",
       "         0.20689655,  0.51724138,  0.82758621,  1.13793103,  1.44827586,\n",
       "         1.75862069,  2.06896552,  2.37931034,  2.68965517,  3.        ],\n",
       "       [-6.        , -5.68965517, -5.37931034, -5.06896552, -4.75862069,\n",
       "        -4.44827586, -4.13793103, -3.82758621, -3.51724138, -3.20689655,\n",
       "        -2.89655172, -2.5862069 , -2.27586207, -1.96551724, -1.65517241,\n",
       "        -1.34482759, -1.03448276, -0.72413793, -0.4137931 , -0.10344828,\n",
       "         0.20689655,  0.51724138,  0.82758621,  1.13793103,  1.44827586,\n",
       "         1.75862069,  2.06896552,  2.37931034,  2.68965517,  3.        ],\n",
       "       [-6.        , -5.68965517, -5.37931034, -5.06896552, -4.75862069,\n",
       "        -4.44827586, -4.13793103, -3.82758621, -3.51724138, -3.20689655,\n",
       "        -2.89655172, -2.5862069 , -2.27586207, -1.96551724, -1.65517241,\n",
       "        -1.34482759, -1.03448276, -0.72413793, -0.4137931 , -0.10344828,\n",
       "         0.20689655,  0.51724138,  0.82758621,  1.13793103,  1.44827586,\n",
       "         1.75862069,  2.06896552,  2.37931034,  2.68965517,  3.        ],\n",
       "       [-6.        , -5.68965517, -5.37931034, -5.06896552, -4.75862069,\n",
       "        -4.44827586, -4.13793103, -3.82758621, -3.51724138, -3.20689655,\n",
       "        -2.89655172, -2.5862069 , -2.27586207, -1.96551724, -1.65517241,\n",
       "        -1.34482759, -1.03448276, -0.72413793, -0.4137931 , -0.10344828,\n",
       "         0.20689655,  0.51724138,  0.82758621,  1.13793103,  1.44827586,\n",
       "         1.75862069,  2.06896552,  2.37931034,  2.68965517,  3.        ],\n",
       "       [-6.        , -5.68965517, -5.37931034, -5.06896552, -4.75862069,\n",
       "        -4.44827586, -4.13793103, -3.82758621, -3.51724138, -3.20689655,\n",
       "        -2.89655172, -2.5862069 , -2.27586207, -1.96551724, -1.65517241,\n",
       "        -1.34482759, -1.03448276, -0.72413793, -0.4137931 , -0.10344828,\n",
       "         0.20689655,  0.51724138,  0.82758621,  1.13793103,  1.44827586,\n",
       "         1.75862069,  2.06896552,  2.37931034,  2.68965517,  3.        ],\n",
       "       [-6.        , -5.68965517, -5.37931034, -5.06896552, -4.75862069,\n",
       "        -4.44827586, -4.13793103, -3.82758621, -3.51724138, -3.20689655,\n",
       "        -2.89655172, -2.5862069 , -2.27586207, -1.96551724, -1.65517241,\n",
       "        -1.34482759, -1.03448276, -0.72413793, -0.4137931 , -0.10344828,\n",
       "         0.20689655,  0.51724138,  0.82758621,  1.13793103,  1.44827586,\n",
       "         1.75862069,  2.06896552,  2.37931034,  2.68965517,  3.        ],\n",
       "       [-6.        , -5.68965517, -5.37931034, -5.06896552, -4.75862069,\n",
       "        -4.44827586, -4.13793103, -3.82758621, -3.51724138, -3.20689655,\n",
       "        -2.89655172, -2.5862069 , -2.27586207, -1.96551724, -1.65517241,\n",
       "        -1.34482759, -1.03448276, -0.72413793, -0.4137931 , -0.10344828,\n",
       "         0.20689655,  0.51724138,  0.82758621,  1.13793103,  1.44827586,\n",
       "         1.75862069,  2.06896552,  2.37931034,  2.68965517,  3.        ],\n",
       "       [-6.        , -5.68965517, -5.37931034, -5.06896552, -4.75862069,\n",
       "        -4.44827586, -4.13793103, -3.82758621, -3.51724138, -3.20689655,\n",
       "        -2.89655172, -2.5862069 , -2.27586207, -1.96551724, -1.65517241,\n",
       "        -1.34482759, -1.03448276, -0.72413793, -0.4137931 , -0.10344828,\n",
       "         0.20689655,  0.51724138,  0.82758621,  1.13793103,  1.44827586,\n",
       "         1.75862069,  2.06896552,  2.37931034,  2.68965517,  3.        ],\n",
       "       [-6.        , -5.68965517, -5.37931034, -5.06896552, -4.75862069,\n",
       "        -4.44827586, -4.13793103, -3.82758621, -3.51724138, -3.20689655,\n",
       "        -2.89655172, -2.5862069 , -2.27586207, -1.96551724, -1.65517241,\n",
       "        -1.34482759, -1.03448276, -0.72413793, -0.4137931 , -0.10344828,\n",
       "         0.20689655,  0.51724138,  0.82758621,  1.13793103,  1.44827586,\n",
       "         1.75862069,  2.06896552,  2.37931034,  2.68965517,  3.        ],\n",
       "       [-6.        , -5.68965517, -5.37931034, -5.06896552, -4.75862069,\n",
       "        -4.44827586, -4.13793103, -3.82758621, -3.51724138, -3.20689655,\n",
       "        -2.89655172, -2.5862069 , -2.27586207, -1.96551724, -1.65517241,\n",
       "        -1.34482759, -1.03448276, -0.72413793, -0.4137931 , -0.10344828,\n",
       "         0.20689655,  0.51724138,  0.82758621,  1.13793103,  1.44827586,\n",
       "         1.75862069,  2.06896552,  2.37931034,  2.68965517,  3.        ],\n",
       "       [-6.        , -5.68965517, -5.37931034, -5.06896552, -4.75862069,\n",
       "        -4.44827586, -4.13793103, -3.82758621, -3.51724138, -3.20689655,\n",
       "        -2.89655172, -2.5862069 , -2.27586207, -1.96551724, -1.65517241,\n",
       "        -1.34482759, -1.03448276, -0.72413793, -0.4137931 , -0.10344828,\n",
       "         0.20689655,  0.51724138,  0.82758621,  1.13793103,  1.44827586,\n",
       "         1.75862069,  2.06896552,  2.37931034,  2.68965517,  3.        ],\n",
       "       [-6.        , -5.68965517, -5.37931034, -5.06896552, -4.75862069,\n",
       "        -4.44827586, -4.13793103, -3.82758621, -3.51724138, -3.20689655,\n",
       "        -2.89655172, -2.5862069 , -2.27586207, -1.96551724, -1.65517241,\n",
       "        -1.34482759, -1.03448276, -0.72413793, -0.4137931 , -0.10344828,\n",
       "         0.20689655,  0.51724138,  0.82758621,  1.13793103,  1.44827586,\n",
       "         1.75862069,  2.06896552,  2.37931034,  2.68965517,  3.        ],\n",
       "       [-6.        , -5.68965517, -5.37931034, -5.06896552, -4.75862069,\n",
       "        -4.44827586, -4.13793103, -3.82758621, -3.51724138, -3.20689655,\n",
       "        -2.89655172, -2.5862069 , -2.27586207, -1.96551724, -1.65517241,\n",
       "        -1.34482759, -1.03448276, -0.72413793, -0.4137931 , -0.10344828,\n",
       "         0.20689655,  0.51724138,  0.82758621,  1.13793103,  1.44827586,\n",
       "         1.75862069,  2.06896552,  2.37931034,  2.68965517,  3.        ],\n",
       "       [-6.        , -5.68965517, -5.37931034, -5.06896552, -4.75862069,\n",
       "        -4.44827586, -4.13793103, -3.82758621, -3.51724138, -3.20689655,\n",
       "        -2.89655172, -2.5862069 , -2.27586207, -1.96551724, -1.65517241,\n",
       "        -1.34482759, -1.03448276, -0.72413793, -0.4137931 , -0.10344828,\n",
       "         0.20689655,  0.51724138,  0.82758621,  1.13793103,  1.44827586,\n",
       "         1.75862069,  2.06896552,  2.37931034,  2.68965517,  3.        ],\n",
       "       [-6.        , -5.68965517, -5.37931034, -5.06896552, -4.75862069,\n",
       "        -4.44827586, -4.13793103, -3.82758621, -3.51724138, -3.20689655,\n",
       "        -2.89655172, -2.5862069 , -2.27586207, -1.96551724, -1.65517241,\n",
       "        -1.34482759, -1.03448276, -0.72413793, -0.4137931 , -0.10344828,\n",
       "         0.20689655,  0.51724138,  0.82758621,  1.13793103,  1.44827586,\n",
       "         1.75862069,  2.06896552,  2.37931034,  2.68965517,  3.        ]])"
      ]
     },
     "execution_count": 16,
     "metadata": {},
     "output_type": "execute_result"
    }
   ],
   "source": [
    "X"
   ]
  },
  {
   "cell_type": "code",
   "execution_count": 17,
   "metadata": {},
   "outputs": [
    {
     "data": {
      "text/plain": [
       "array([-6.        , -5.68965517, -5.37931034, -5.06896552, -4.75862069,\n",
       "       -4.44827586, -4.13793103, -3.82758621, -3.51724138, -3.20689655,\n",
       "       -2.89655172, -2.5862069 , -2.27586207, -1.96551724, -1.65517241,\n",
       "       -1.34482759, -1.03448276, -0.72413793, -0.4137931 , -0.10344828,\n",
       "        0.20689655,  0.51724138,  0.82758621,  1.13793103,  1.44827586,\n",
       "        1.75862069,  2.06896552,  2.37931034,  2.68965517,  3.        ,\n",
       "       -6.        , -5.68965517, -5.37931034, -5.06896552, -4.75862069,\n",
       "       -4.44827586, -4.13793103, -3.82758621, -3.51724138, -3.20689655,\n",
       "       -2.89655172, -2.5862069 , -2.27586207, -1.96551724, -1.65517241,\n",
       "       -1.34482759, -1.03448276, -0.72413793, -0.4137931 , -0.10344828,\n",
       "        0.20689655,  0.51724138,  0.82758621,  1.13793103,  1.44827586,\n",
       "        1.75862069,  2.06896552,  2.37931034,  2.68965517,  3.        ,\n",
       "       -6.        , -5.68965517, -5.37931034, -5.06896552, -4.75862069,\n",
       "       -4.44827586, -4.13793103, -3.82758621, -3.51724138, -3.20689655,\n",
       "       -2.89655172, -2.5862069 , -2.27586207, -1.96551724, -1.65517241,\n",
       "       -1.34482759, -1.03448276, -0.72413793, -0.4137931 , -0.10344828,\n",
       "        0.20689655,  0.51724138,  0.82758621,  1.13793103,  1.44827586,\n",
       "        1.75862069,  2.06896552,  2.37931034,  2.68965517,  3.        ,\n",
       "       -6.        , -5.68965517, -5.37931034, -5.06896552, -4.75862069,\n",
       "       -4.44827586, -4.13793103, -3.82758621, -3.51724138, -3.20689655,\n",
       "       -2.89655172, -2.5862069 , -2.27586207, -1.96551724, -1.65517241,\n",
       "       -1.34482759, -1.03448276, -0.72413793, -0.4137931 , -0.10344828,\n",
       "        0.20689655,  0.51724138,  0.82758621,  1.13793103,  1.44827586,\n",
       "        1.75862069,  2.06896552,  2.37931034,  2.68965517,  3.        ,\n",
       "       -6.        , -5.68965517, -5.37931034, -5.06896552, -4.75862069,\n",
       "       -4.44827586, -4.13793103, -3.82758621, -3.51724138, -3.20689655,\n",
       "       -2.89655172, -2.5862069 , -2.27586207, -1.96551724, -1.65517241,\n",
       "       -1.34482759, -1.03448276, -0.72413793, -0.4137931 , -0.10344828,\n",
       "        0.20689655,  0.51724138,  0.82758621,  1.13793103,  1.44827586,\n",
       "        1.75862069,  2.06896552,  2.37931034,  2.68965517,  3.        ,\n",
       "       -6.        , -5.68965517, -5.37931034, -5.06896552, -4.75862069,\n",
       "       -4.44827586, -4.13793103, -3.82758621, -3.51724138, -3.20689655,\n",
       "       -2.89655172, -2.5862069 , -2.27586207, -1.96551724, -1.65517241,\n",
       "       -1.34482759, -1.03448276, -0.72413793, -0.4137931 , -0.10344828,\n",
       "        0.20689655,  0.51724138,  0.82758621,  1.13793103,  1.44827586,\n",
       "        1.75862069,  2.06896552,  2.37931034,  2.68965517,  3.        ,\n",
       "       -6.        , -5.68965517, -5.37931034, -5.06896552, -4.75862069,\n",
       "       -4.44827586, -4.13793103, -3.82758621, -3.51724138, -3.20689655,\n",
       "       -2.89655172, -2.5862069 , -2.27586207, -1.96551724, -1.65517241,\n",
       "       -1.34482759, -1.03448276, -0.72413793, -0.4137931 , -0.10344828,\n",
       "        0.20689655,  0.51724138,  0.82758621,  1.13793103,  1.44827586,\n",
       "        1.75862069,  2.06896552,  2.37931034,  2.68965517,  3.        ,\n",
       "       -6.        , -5.68965517, -5.37931034, -5.06896552, -4.75862069,\n",
       "       -4.44827586, -4.13793103, -3.82758621, -3.51724138, -3.20689655,\n",
       "       -2.89655172, -2.5862069 , -2.27586207, -1.96551724, -1.65517241,\n",
       "       -1.34482759, -1.03448276, -0.72413793, -0.4137931 , -0.10344828,\n",
       "        0.20689655,  0.51724138,  0.82758621,  1.13793103,  1.44827586,\n",
       "        1.75862069,  2.06896552,  2.37931034,  2.68965517,  3.        ,\n",
       "       -6.        , -5.68965517, -5.37931034, -5.06896552, -4.75862069,\n",
       "       -4.44827586, -4.13793103, -3.82758621, -3.51724138, -3.20689655,\n",
       "       -2.89655172, -2.5862069 , -2.27586207, -1.96551724, -1.65517241,\n",
       "       -1.34482759, -1.03448276, -0.72413793, -0.4137931 , -0.10344828,\n",
       "        0.20689655,  0.51724138,  0.82758621,  1.13793103,  1.44827586,\n",
       "        1.75862069,  2.06896552,  2.37931034,  2.68965517,  3.        ,\n",
       "       -6.        , -5.68965517, -5.37931034, -5.06896552, -4.75862069,\n",
       "       -4.44827586, -4.13793103, -3.82758621, -3.51724138, -3.20689655,\n",
       "       -2.89655172, -2.5862069 , -2.27586207, -1.96551724, -1.65517241,\n",
       "       -1.34482759, -1.03448276, -0.72413793, -0.4137931 , -0.10344828,\n",
       "        0.20689655,  0.51724138,  0.82758621,  1.13793103,  1.44827586,\n",
       "        1.75862069,  2.06896552,  2.37931034,  2.68965517,  3.        ,\n",
       "       -6.        , -5.68965517, -5.37931034, -5.06896552, -4.75862069,\n",
       "       -4.44827586, -4.13793103, -3.82758621, -3.51724138, -3.20689655,\n",
       "       -2.89655172, -2.5862069 , -2.27586207, -1.96551724, -1.65517241,\n",
       "       -1.34482759, -1.03448276, -0.72413793, -0.4137931 , -0.10344828,\n",
       "        0.20689655,  0.51724138,  0.82758621,  1.13793103,  1.44827586,\n",
       "        1.75862069,  2.06896552,  2.37931034,  2.68965517,  3.        ,\n",
       "       -6.        , -5.68965517, -5.37931034, -5.06896552, -4.75862069,\n",
       "       -4.44827586, -4.13793103, -3.82758621, -3.51724138, -3.20689655,\n",
       "       -2.89655172, -2.5862069 , -2.27586207, -1.96551724, -1.65517241,\n",
       "       -1.34482759, -1.03448276, -0.72413793, -0.4137931 , -0.10344828,\n",
       "        0.20689655,  0.51724138,  0.82758621,  1.13793103,  1.44827586,\n",
       "        1.75862069,  2.06896552,  2.37931034,  2.68965517,  3.        ,\n",
       "       -6.        , -5.68965517, -5.37931034, -5.06896552, -4.75862069,\n",
       "       -4.44827586, -4.13793103, -3.82758621, -3.51724138, -3.20689655,\n",
       "       -2.89655172, -2.5862069 , -2.27586207, -1.96551724, -1.65517241,\n",
       "       -1.34482759, -1.03448276, -0.72413793, -0.4137931 , -0.10344828,\n",
       "        0.20689655,  0.51724138,  0.82758621,  1.13793103,  1.44827586,\n",
       "        1.75862069,  2.06896552,  2.37931034,  2.68965517,  3.        ,\n",
       "       -6.        , -5.68965517, -5.37931034, -5.06896552, -4.75862069,\n",
       "       -4.44827586, -4.13793103, -3.82758621, -3.51724138, -3.20689655,\n",
       "       -2.89655172, -2.5862069 , -2.27586207, -1.96551724, -1.65517241,\n",
       "       -1.34482759, -1.03448276, -0.72413793, -0.4137931 , -0.10344828,\n",
       "        0.20689655,  0.51724138,  0.82758621,  1.13793103,  1.44827586,\n",
       "        1.75862069,  2.06896552,  2.37931034,  2.68965517,  3.        ,\n",
       "       -6.        , -5.68965517, -5.37931034, -5.06896552, -4.75862069,\n",
       "       -4.44827586, -4.13793103, -3.82758621, -3.51724138, -3.20689655,\n",
       "       -2.89655172, -2.5862069 , -2.27586207, -1.96551724, -1.65517241,\n",
       "       -1.34482759, -1.03448276, -0.72413793, -0.4137931 , -0.10344828,\n",
       "        0.20689655,  0.51724138,  0.82758621,  1.13793103,  1.44827586,\n",
       "        1.75862069,  2.06896552,  2.37931034,  2.68965517,  3.        ,\n",
       "       -6.        , -5.68965517, -5.37931034, -5.06896552, -4.75862069,\n",
       "       -4.44827586, -4.13793103, -3.82758621, -3.51724138, -3.20689655,\n",
       "       -2.89655172, -2.5862069 , -2.27586207, -1.96551724, -1.65517241,\n",
       "       -1.34482759, -1.03448276, -0.72413793, -0.4137931 , -0.10344828,\n",
       "        0.20689655,  0.51724138,  0.82758621,  1.13793103,  1.44827586,\n",
       "        1.75862069,  2.06896552,  2.37931034,  2.68965517,  3.        ,\n",
       "       -6.        , -5.68965517, -5.37931034, -5.06896552, -4.75862069,\n",
       "       -4.44827586, -4.13793103, -3.82758621, -3.51724138, -3.20689655,\n",
       "       -2.89655172, -2.5862069 , -2.27586207, -1.96551724, -1.65517241,\n",
       "       -1.34482759, -1.03448276, -0.72413793, -0.4137931 , -0.10344828,\n",
       "        0.20689655,  0.51724138,  0.82758621,  1.13793103,  1.44827586,\n",
       "        1.75862069,  2.06896552,  2.37931034,  2.68965517,  3.        ,\n",
       "       -6.        , -5.68965517, -5.37931034, -5.06896552, -4.75862069,\n",
       "       -4.44827586, -4.13793103, -3.82758621, -3.51724138, -3.20689655,\n",
       "       -2.89655172, -2.5862069 , -2.27586207, -1.96551724, -1.65517241,\n",
       "       -1.34482759, -1.03448276, -0.72413793, -0.4137931 , -0.10344828,\n",
       "        0.20689655,  0.51724138,  0.82758621,  1.13793103,  1.44827586,\n",
       "        1.75862069,  2.06896552,  2.37931034,  2.68965517,  3.        ,\n",
       "       -6.        , -5.68965517, -5.37931034, -5.06896552, -4.75862069,\n",
       "       -4.44827586, -4.13793103, -3.82758621, -3.51724138, -3.20689655,\n",
       "       -2.89655172, -2.5862069 , -2.27586207, -1.96551724, -1.65517241,\n",
       "       -1.34482759, -1.03448276, -0.72413793, -0.4137931 , -0.10344828,\n",
       "        0.20689655,  0.51724138,  0.82758621,  1.13793103,  1.44827586,\n",
       "        1.75862069,  2.06896552,  2.37931034,  2.68965517,  3.        ,\n",
       "       -6.        , -5.68965517, -5.37931034, -5.06896552, -4.75862069,\n",
       "       -4.44827586, -4.13793103, -3.82758621, -3.51724138, -3.20689655,\n",
       "       -2.89655172, -2.5862069 , -2.27586207, -1.96551724, -1.65517241,\n",
       "       -1.34482759, -1.03448276, -0.72413793, -0.4137931 , -0.10344828,\n",
       "        0.20689655,  0.51724138,  0.82758621,  1.13793103,  1.44827586,\n",
       "        1.75862069,  2.06896552,  2.37931034,  2.68965517,  3.        ,\n",
       "       -6.        , -5.68965517, -5.37931034, -5.06896552, -4.75862069,\n",
       "       -4.44827586, -4.13793103, -3.82758621, -3.51724138, -3.20689655,\n",
       "       -2.89655172, -2.5862069 , -2.27586207, -1.96551724, -1.65517241,\n",
       "       -1.34482759, -1.03448276, -0.72413793, -0.4137931 , -0.10344828,\n",
       "        0.20689655,  0.51724138,  0.82758621,  1.13793103,  1.44827586,\n",
       "        1.75862069,  2.06896552,  2.37931034,  2.68965517,  3.        ,\n",
       "       -6.        , -5.68965517, -5.37931034, -5.06896552, -4.75862069,\n",
       "       -4.44827586, -4.13793103, -3.82758621, -3.51724138, -3.20689655,\n",
       "       -2.89655172, -2.5862069 , -2.27586207, -1.96551724, -1.65517241,\n",
       "       -1.34482759, -1.03448276, -0.72413793, -0.4137931 , -0.10344828,\n",
       "        0.20689655,  0.51724138,  0.82758621,  1.13793103,  1.44827586,\n",
       "        1.75862069,  2.06896552,  2.37931034,  2.68965517,  3.        ,\n",
       "       -6.        , -5.68965517, -5.37931034, -5.06896552, -4.75862069,\n",
       "       -4.44827586, -4.13793103, -3.82758621, -3.51724138, -3.20689655,\n",
       "       -2.89655172, -2.5862069 , -2.27586207, -1.96551724, -1.65517241,\n",
       "       -1.34482759, -1.03448276, -0.72413793, -0.4137931 , -0.10344828,\n",
       "        0.20689655,  0.51724138,  0.82758621,  1.13793103,  1.44827586,\n",
       "        1.75862069,  2.06896552,  2.37931034,  2.68965517,  3.        ,\n",
       "       -6.        , -5.68965517, -5.37931034, -5.06896552, -4.75862069,\n",
       "       -4.44827586, -4.13793103, -3.82758621, -3.51724138, -3.20689655,\n",
       "       -2.89655172, -2.5862069 , -2.27586207, -1.96551724, -1.65517241,\n",
       "       -1.34482759, -1.03448276, -0.72413793, -0.4137931 , -0.10344828,\n",
       "        0.20689655,  0.51724138,  0.82758621,  1.13793103,  1.44827586,\n",
       "        1.75862069,  2.06896552,  2.37931034,  2.68965517,  3.        ,\n",
       "       -6.        , -5.68965517, -5.37931034, -5.06896552, -4.75862069,\n",
       "       -4.44827586, -4.13793103, -3.82758621, -3.51724138, -3.20689655,\n",
       "       -2.89655172, -2.5862069 , -2.27586207, -1.96551724, -1.65517241,\n",
       "       -1.34482759, -1.03448276, -0.72413793, -0.4137931 , -0.10344828,\n",
       "        0.20689655,  0.51724138,  0.82758621,  1.13793103,  1.44827586,\n",
       "        1.75862069,  2.06896552,  2.37931034,  2.68965517,  3.        ,\n",
       "       -6.        , -5.68965517, -5.37931034, -5.06896552, -4.75862069,\n",
       "       -4.44827586, -4.13793103, -3.82758621, -3.51724138, -3.20689655,\n",
       "       -2.89655172, -2.5862069 , -2.27586207, -1.96551724, -1.65517241,\n",
       "       -1.34482759, -1.03448276, -0.72413793, -0.4137931 , -0.10344828,\n",
       "        0.20689655,  0.51724138,  0.82758621,  1.13793103,  1.44827586,\n",
       "        1.75862069,  2.06896552,  2.37931034,  2.68965517,  3.        ,\n",
       "       -6.        , -5.68965517, -5.37931034, -5.06896552, -4.75862069,\n",
       "       -4.44827586, -4.13793103, -3.82758621, -3.51724138, -3.20689655,\n",
       "       -2.89655172, -2.5862069 , -2.27586207, -1.96551724, -1.65517241,\n",
       "       -1.34482759, -1.03448276, -0.72413793, -0.4137931 , -0.10344828,\n",
       "        0.20689655,  0.51724138,  0.82758621,  1.13793103,  1.44827586,\n",
       "        1.75862069,  2.06896552,  2.37931034,  2.68965517,  3.        ,\n",
       "       -6.        , -5.68965517, -5.37931034, -5.06896552, -4.75862069,\n",
       "       -4.44827586, -4.13793103, -3.82758621, -3.51724138, -3.20689655,\n",
       "       -2.89655172, -2.5862069 , -2.27586207, -1.96551724, -1.65517241,\n",
       "       -1.34482759, -1.03448276, -0.72413793, -0.4137931 , -0.10344828,\n",
       "        0.20689655,  0.51724138,  0.82758621,  1.13793103,  1.44827586,\n",
       "        1.75862069,  2.06896552,  2.37931034,  2.68965517,  3.        ,\n",
       "       -6.        , -5.68965517, -5.37931034, -5.06896552, -4.75862069,\n",
       "       -4.44827586, -4.13793103, -3.82758621, -3.51724138, -3.20689655,\n",
       "       -2.89655172, -2.5862069 , -2.27586207, -1.96551724, -1.65517241,\n",
       "       -1.34482759, -1.03448276, -0.72413793, -0.4137931 , -0.10344828,\n",
       "        0.20689655,  0.51724138,  0.82758621,  1.13793103,  1.44827586,\n",
       "        1.75862069,  2.06896552,  2.37931034,  2.68965517,  3.        ,\n",
       "       -6.        , -5.68965517, -5.37931034, -5.06896552, -4.75862069,\n",
       "       -4.44827586, -4.13793103, -3.82758621, -3.51724138, -3.20689655,\n",
       "       -2.89655172, -2.5862069 , -2.27586207, -1.96551724, -1.65517241,\n",
       "       -1.34482759, -1.03448276, -0.72413793, -0.4137931 , -0.10344828,\n",
       "        0.20689655,  0.51724138,  0.82758621,  1.13793103,  1.44827586,\n",
       "        1.75862069,  2.06896552,  2.37931034,  2.68965517,  3.        ])"
      ]
     },
     "execution_count": 17,
     "metadata": {},
     "output_type": "execute_result"
    }
   ],
   "source": [
    "X.ravel()"
   ]
  },
  {
   "cell_type": "code",
   "execution_count": 18,
   "metadata": {},
   "outputs": [],
   "source": [
    "X=X.ravel()\n",
    "Y=Y.ravel()"
   ]
  },
  {
   "cell_type": "code",
   "execution_count": 19,
   "metadata": {},
   "outputs": [
    {
     "data": {
      "text/plain": [
       "<matplotlib.collections.PathCollection at 0x2236bc1bf88>"
      ]
     },
     "execution_count": 19,
     "metadata": {},
     "output_type": "execute_result"
    },
    {
     "data": {
      "image/png": "[encoded data removed]",
      "text/plain": [
       "<Figure size 432x288 with 1 Axes>"
      ]
     },
     "metadata": {
      "needs_background": "light"
     },
     "output_type": "display_data"
    }
   ],
   "source": [
    "plt.scatter(X,Y)"
   ]
  },
  {
   "cell_type": "code",
   "execution_count": 20,
   "metadata": {},
   "outputs": [
    {
     "data": {
      "text/plain": [
       "[(1, 5), (2, 6), (3, 7), (4, 8)]"
      ]
     },
     "execution_count": 20,
     "metadata": {},
     "output_type": "execute_result"
    }
   ],
   "source": [
    "list(zip(xx,yy))"
   ]
  },
  {
   "cell_type": "code",
   "execution_count": 23,
   "metadata": {},
   "outputs": [],
   "source": [
    "z=clf.predict(list(zip(X,Y)))"
   ]
  },
  {
   "cell_type": "code",
   "execution_count": 24,
   "metadata": {},
   "outputs": [
    {
     "data": {
      "text/plain": [
       "array([2, 2, 2, 2, 2, 2, 2, 2, 2, 2, 2, 2, 2, 2, 2, 2, 2, 2, 2, 2, 2, 2,\n",
       "       2, 2, 2, 2, 2, 2, 2, 2, 2, 2, 2, 2, 2, 2, 2, 2, 2, 2, 2, 2, 2, 2,\n",
       "       2, 2, 2, 2, 2, 2, 2, 2, 2, 2, 2, 2, 2, 2, 2, 2, 2, 2, 2, 2, 2, 2,\n",
       "       2, 2, 2, 2, 2, 2, 2, 2, 2, 2, 2, 2, 2, 2, 2, 2, 2, 2, 2, 2, 2, 2,\n",
       "       2, 2, 2, 2, 2, 2, 2, 2, 2, 2, 2, 2, 2, 2, 2, 2, 2, 2, 2, 2, 2, 2,\n",
       "       2, 2, 2, 2, 2, 2, 2, 2, 2, 2, 2, 2, 2, 2, 2, 2, 2, 2, 2, 2, 2, 2,\n",
       "       2, 2, 2, 2, 2, 2, 2, 2, 2, 2, 2, 2, 2, 2, 2, 2, 2, 2, 2, 2, 2, 2,\n",
       "       2, 2, 2, 2, 2, 2, 2, 2, 2, 2, 2, 2, 2, 2, 2, 2, 2, 2, 2, 2, 2, 2,\n",
       "       2, 2, 2, 2, 2, 2, 2, 2, 2, 2, 2, 2, 2, 2, 2, 2, 2, 2, 2, 2, 2, 2,\n",
       "       2, 2, 2, 2, 2, 2, 2, 2, 2, 2, 2, 2, 2, 2, 2, 2, 2, 2, 2, 2, 2, 2,\n",
       "       2, 2, 2, 2, 2, 2, 2, 2, 2, 2, 2, 2, 2, 2, 2, 2, 2, 2, 2, 2, 2, 2,\n",
       "       2, 2, 2, 2, 2, 2, 2, 2, 2, 2, 2, 2, 2, 2, 2, 2, 2, 2, 2, 2, 2, 2,\n",
       "       2, 2, 2, 2, 2, 2, 2, 2, 2, 2, 2, 2, 2, 2, 2, 2, 2, 2, 2, 2, 2, 2,\n",
       "       2, 2, 2, 2, 2, 2, 2, 2, 2, 2, 2, 2, 2, 2, 2, 2, 2, 2, 2, 2, 2, 2,\n",
       "       2, 2, 2, 2, 2, 2, 2, 2, 2, 2, 2, 2, 2, 2, 2, 2, 2, 2, 2, 2, 2, 2,\n",
       "       2, 2, 2, 2, 2, 2, 2, 2, 2, 2, 2, 2, 2, 2, 2, 2, 2, 2, 2, 2, 2, 2,\n",
       "       2, 2, 2, 2, 2, 2, 2, 2, 2, 2, 2, 2, 2, 2, 2, 2, 2, 2, 2, 2, 2, 2,\n",
       "       2, 2, 2, 2, 2, 2, 2, 2, 2, 2, 2, 2, 2, 2, 2, 2, 2, 2, 2, 2, 2, 2,\n",
       "       2, 2, 2, 2, 2, 2, 2, 2, 2, 2, 2, 2, 2, 2, 2, 2, 2, 2, 2, 2, 2, 2,\n",
       "       2, 2, 2, 2, 2, 2, 2, 2, 2, 2, 2, 2, 2, 2, 2, 2, 2, 2, 2, 2, 2, 2,\n",
       "       2, 2, 2, 2, 2, 2, 2, 2, 2, 2, 2, 2, 2, 2, 2, 2, 2, 2, 2, 2, 2, 2,\n",
       "       2, 2, 2, 2, 2, 2, 2, 2, 2, 2, 2, 2, 2, 2, 2, 2, 2, 2, 2, 2, 2, 2,\n",
       "       2, 2, 2, 1, 1, 1, 2, 2, 2, 2, 2, 2, 2, 2, 2, 2, 2, 2, 2, 2, 2, 2,\n",
       "       2, 2, 2, 2, 2, 2, 2, 2, 2, 1, 1, 1, 1, 1, 1, 1, 2, 2, 2, 2, 2, 2,\n",
       "       2, 2, 2, 2, 2, 2, 2, 2, 2, 2, 2, 2, 2, 2, 2, 1, 1, 1, 1, 1, 1, 1,\n",
       "       1, 1, 1, 1, 2, 2, 2, 2, 2, 2, 2, 2, 2, 2, 2, 2, 2, 2, 2, 2, 2, 2,\n",
       "       1, 1, 1, 1, 1, 1, 1, 1, 1, 1, 1, 1, 1, 1, 2, 2, 2, 2, 2, 2, 2, 2,\n",
       "       2, 2, 2, 2, 2, 2, 2, 1, 1, 1, 1, 1, 1, 1, 1, 1, 1, 1, 1, 1, 1, 1,\n",
       "       1, 1, 2, 2, 2, 2, 2, 2, 2, 2, 2, 2, 2, 2, 2, 1, 1, 1, 1, 1, 1, 1,\n",
       "       1, 1, 1, 1, 1, 1, 1, 1, 1, 1, 1, 1, 2, 2, 2, 2, 2, 2, 2, 1, 2, 2,\n",
       "       1, 1, 1, 1, 1, 1, 1, 1, 1, 1, 1, 1, 1, 1, 1, 1, 1, 1, 1, 1, 1, 1,\n",
       "       1, 1, 1, 1, 1, 1, 1, 2, 1, 1, 1, 1, 1, 1, 1, 1, 1, 1, 1, 1, 1, 1,\n",
       "       1, 1, 1, 1, 1, 1, 1, 1, 1, 1, 1, 1, 1, 1, 1, 2, 1, 1, 1, 1, 1, 1,\n",
       "       1, 1, 1, 1, 1, 1, 1, 1, 1, 1, 1, 1, 1, 1, 1, 1, 1, 1, 1, 1, 1, 1,\n",
       "       1, 2, 1, 1, 1, 1, 1, 1, 1, 1, 1, 1, 1, 1, 1, 1, 1, 1, 1, 1, 1, 1,\n",
       "       1, 1, 1, 1, 1, 1, 1, 1, 1, 2, 1, 1, 1, 1, 1, 1, 1, 1, 1, 1, 1, 1,\n",
       "       1, 1, 1, 1, 1, 1, 1, 1, 1, 1, 1, 1, 1, 1, 1, 1, 1, 2, 1, 1, 1, 1,\n",
       "       1, 1, 1, 1, 1, 1, 1, 1, 1, 1, 1, 1, 1, 1, 1, 1, 1, 1, 1, 1, 1, 1,\n",
       "       1, 1, 1, 2, 2, 1, 1, 1, 1, 1, 1, 1, 1, 1, 1, 1, 1, 1, 1, 1, 1, 1,\n",
       "       1, 1, 1, 1, 1, 1, 1, 1, 1, 1, 1, 2, 2, 1, 1, 1, 1, 1, 1, 1, 1, 1,\n",
       "       1, 1, 1, 1, 1, 1, 1, 1, 1, 1, 1, 1, 1, 1, 1, 1, 1, 1, 1, 2])"
      ]
     },
     "execution_count": 24,
     "metadata": {},
     "output_type": "execute_result"
    }
   ],
   "source": [
    "z"
   ]
  },
  {
   "cell_type": "code",
   "execution_count": 25,
   "metadata": {},
   "outputs": [
    {
     "data": {
      "text/plain": [
       "<matplotlib.collections.PathCollection at 0x2236cd895c8>"
      ]
     },
     "execution_count": 25,
     "metadata": {},
     "output_type": "execute_result"
    },
    {
     "data": {
      "image/png": "[encoded data removed]",
      "text/plain": [
       "<Figure size 432x288 with 1 Axes>"
      ]
     },
     "metadata": {
      "needs_background": "light"
     },
     "output_type": "display_data"
    }
   ],
   "source": [
    "plt.scatter(X,Y,c=z)"
   ]
  },
  {
   "cell_type": "code",
   "execution_count": 26,
   "metadata": {},
   "outputs": [],
   "source": [
    "from sklearn.datasets import load_iris"
   ]
  },
  {
   "cell_type": "code",
   "execution_count": 27,
   "metadata": {},
   "outputs": [],
   "source": [
    "i=load_iris()"
   ]
  },
  {
   "cell_type": "code",
   "execution_count": 29,
   "metadata": {},
   "outputs": [
    {
     "name": "stdout",
     "output_type": "stream",
     "text": [
      ".. _iris_dataset:\n",
      "\n",
      "Iris plants dataset\n",
      "--------------------\n",
      "\n",
      "**Data Set Characteristics:**\n",
      "\n",
      "    :Number of Instances: 150 (50 in each of three classes)\n",
      "    :Number of Attributes: 4 numeric, predictive attributes and the class\n",
      "    :Attribute Information:\n",
      "        - sepal length in cm\n",
      "        - sepal width in cm\n",
      "        - petal length in cm\n",
      "        - petal width in cm\n",
      "        - class:\n",
      "                - Iris-Setosa\n",
      "                - Iris-Versicolour\n",
      "                - Iris-Virginica\n",
      "                \n",
      "    :Summary Statistics:\n",
      "\n",
      "    ============== ==== ==== ======= ===== ====================\n",
      "                    Min  Max   Mean    SD   Class Correlation\n",
      "    ============== ==== ==== ======= ===== ====================\n",
      "    sepal length:   4.3  7.9   5.84   0.83    0.7826\n",
      "    sepal width:    2.0  4.4   3.05   0.43   -0.4194\n",
      "    petal length:   1.0  6.9   3.76   1.76    0.9490  (high!)\n",
      "    petal width:    0.1  2.5   1.20   0.76    0.9565  (high!)\n",
      "    ============== ==== ==== ======= ===== ====================\n",
      "\n",
      "    :Missing Attribute Values: None\n",
      "    :Class Distribution: 33.3% for each of 3 classes.\n",
      "    :Creator: R.A. Fisher\n",
      "    :Donor: Michael Marshall (MARSHALL%PLU@io.arc.nasa.gov)\n",
      "    :Date: July, 1988\n",
      "\n",
      "The famous Iris database, first used by Sir R.A. Fisher. The dataset is taken\n",
      "from Fisher's paper. Note that it's the same as in R, but not as in the UCI\n",
      "Machine Learning Repository, which has two wrong data points.\n",
      "\n",
      "This is perhaps the best known database to be found in the\n",
      "pattern recognition literature.  Fisher's paper is a classic in the field and\n",
      "is referenced frequently to this day.  (See Duda & Hart, for example.)  The\n",
      "data set contains 3 classes of 50 instances each, where each class refers to a\n",
      "type of iris plant.  One class is linearly separable from the other 2; the\n",
      "latter are NOT linearly separable from each other.\n",
      "\n",
      ".. topic:: References\n",
      "\n",
      "   - Fisher, R.A. \"The use of multiple measurements in taxonomic problems\"\n",
      "     Annual Eugenics, 7, Part II, 179-188 (1936); also in \"Contributions to\n",
      "     Mathematical Statistics\" (John Wiley, NY, 1950).\n",
      "   - Duda, R.O., & Hart, P.E. (1973) Pattern Classification and Scene Analysis.\n",
      "     (Q327.D83) John Wiley & Sons.  ISBN 0-471-22361-1.  See page 218.\n",
      "   - Dasarathy, B.V. (1980) \"Nosing Around the Neighborhood: A New System\n",
      "     Structure and Classification Rule for Recognition in Partially Exposed\n",
      "     Environments\".  IEEE Transactions on Pattern Analysis and Machine\n",
      "     Intelligence, Vol. PAMI-2, No. 1, 67-71.\n",
      "   - Gates, G.W. (1972) \"The Reduced Nearest Neighbor Rule\".  IEEE Transactions\n",
      "     on Information Theory, May 1972, 431-433.\n",
      "   - See also: 1988 MLC Proceedings, 54-64.  Cheeseman et al\"s AUTOCLASS II\n",
      "     conceptual clustering system finds 3 classes in the data.\n",
      "   - Many, many more ...\n"
     ]
    }
   ],
   "source": [
    "print(i.DESCR)"
   ]
  },
  {
   "cell_type": "code",
   "execution_count": 46,
   "metadata": {},
   "outputs": [],
   "source": [
    "x=i.data\n",
    "y=i.target"
   ]
  },
  {
   "cell_type": "code",
   "execution_count": 32,
   "metadata": {},
   "outputs": [
    {
     "data": {
      "text/plain": [
       "array([5.1, 3.5, 1.4, 0.2])"
      ]
     },
     "execution_count": 32,
     "metadata": {},
     "output_type": "execute_result"
    }
   ],
   "source": [
    "x[0]"
   ]
  },
  {
   "cell_type": "code",
   "execution_count": 33,
   "metadata": {},
   "outputs": [
    {
     "data": {
      "text/plain": [
       "array([1.4, 0.2])"
      ]
     },
     "execution_count": 33,
     "metadata": {},
     "output_type": "execute_result"
    }
   ],
   "source": [
    "x[0][2:]"
   ]
  },
  {
   "cell_type": "code",
   "execution_count": 48,
   "metadata": {},
   "outputs": [],
   "source": [
    "x=x[:,2:]"
   ]
  },
  {
   "cell_type": "code",
   "execution_count": 49,
   "metadata": {},
   "outputs": [
    {
     "data": {
      "text/plain": [
       "150"
      ]
     },
     "execution_count": 49,
     "metadata": {},
     "output_type": "execute_result"
    }
   ],
   "source": [
    "len(x)"
   ]
  },
  {
   "cell_type": "code",
   "execution_count": 45,
   "metadata": {},
   "outputs": [
    {
     "data": {
      "text/plain": [
       "150"
      ]
     },
     "execution_count": 45,
     "metadata": {},
     "output_type": "execute_result"
    }
   ],
   "source": [
    "len(y)"
   ]
  },
  {
   "cell_type": "code",
   "execution_count": 41,
   "metadata": {},
   "outputs": [],
   "source": [
    "from sklearn.model_selection import train_test_split as tt"
   ]
  },
  {
   "cell_type": "code",
   "execution_count": 50,
   "metadata": {},
   "outputs": [],
   "source": [
    "x_train,x_test,y_train,y_test=tt(x,y,test_size=0.2,random_state=2)"
   ]
  },
  {
   "cell_type": "code",
   "execution_count": 51,
   "metadata": {},
   "outputs": [
    {
     "data": {
      "text/plain": [
       "<matplotlib.collections.PathCollection at 0x2236ec196c8>"
      ]
     },
     "execution_count": 51,
     "metadata": {},
     "output_type": "execute_result"
    },
    {
     "data": {
      "image/png": "[encoded data removed]",
      "text/plain": [
       "<Figure size 432x288 with 1 Axes>"
      ]
     },
     "metadata": {
      "needs_background": "light"
     },
     "output_type": "display_data"
    }
   ],
   "source": [
    "plt.scatter(x_train[:,0],x_train[:,1],c=y_train)"
   ]
  },
  {
   "cell_type": "code",
   "execution_count": 52,
   "metadata": {},
   "outputs": [
    {
     "name": "stderr",
     "output_type": "stream",
     "text": [
      "C:\\Users\\blueo\\Anaconda3\\lib\\site-packages\\sklearn\\svm\\base.py:193: FutureWarning: The default value of gamma will change from 'auto' to 'scale' in version 0.22 to account better for unscaled features. Set gamma explicitly to 'auto' or 'scale' to avoid this warning.\n",
      "  \"avoid this warning.\", FutureWarning)\n"
     ]
    },
    {
     "data": {
      "text/plain": [
       "SVC(C=1.0, cache_size=200, class_weight=None, coef0=0.0,\n",
       "    decision_function_shape='ovr', degree=3, gamma='auto_deprecated',\n",
       "    kernel='rbf', max_iter=-1, probability=False, random_state=None,\n",
       "    shrinking=True, tol=0.001, verbose=False)"
      ]
     },
     "execution_count": 52,
     "metadata": {},
     "output_type": "execute_result"
    }
   ],
   "source": [
    "clf.fit(x_train,y_train)"
   ]
  },
  {
   "cell_type": "code",
   "execution_count": 54,
   "metadata": {},
   "outputs": [],
   "source": [
    "y_pre=clf.predict(x_test)"
   ]
  },
  {
   "cell_type": "code",
   "execution_count": 56,
   "metadata": {},
   "outputs": [
    {
     "data": {
      "text/plain": [
       "<matplotlib.collections.PathCollection at 0x2236f4ecf48>"
      ]
     },
     "execution_count": 56,
     "metadata": {},
     "output_type": "execute_result"
    },
    {
     "data": {
      "image/png": "[encoded data removed]",
      "text/plain": [
       "<Figure size 432x288 with 1 Axes>"
      ]
     },
     "metadata": {
      "needs_background": "light"
     },
     "output_type": "display_data"
    }
   ],
   "source": [
    "plt.scatter(x_test[:,0],x_test[:,1],c=y_pre-y_test)"
   ]
  },
  {
   "cell_type": "code",
   "execution_count": null,
   "metadata": {},
   "outputs": [],
   "source": []
  }
 ],
 "metadata": {
  "kernelspec": {
   "display_name": "Python 3",
   "language": "python",
   "name": "python3"
  },
  "language_info": {
   "codemirror_mode": {
    "name": "ipython",
    "version": 3
   },
   "file_extension": ".py",
   "mimetype": "text/x-python",
   "name": "python",
   "nbconvert_exporter": "python",
   "pygments_lexer": "ipython3",
   "version": "3.7.4"
  }
 },
 "nbformat": 4,
 "nbformat_minor": 2
}
