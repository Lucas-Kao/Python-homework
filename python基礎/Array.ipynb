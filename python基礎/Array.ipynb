{
 "cells": [
  {
   "cell_type": "code",
   "execution_count": 7,
   "metadata": {},
   "outputs": [],
   "source": [
    "import numpy as np\n",
    "import matplotlib.pyplot as plt\n",
    "%matplotlib inline\n",
    "\n",
    "p=[20,48,57]\n",
    "T=np.array(p)"
   ]
  },
  {
   "cell_type": "code",
   "execution_count": 5,
   "metadata": {},
   "outputs": [
    {
     "data": {
      "text/plain": [
       "array([ 980, 2352, 2793])"
      ]
     },
     "execution_count": 5,
     "metadata": {},
     "output_type": "execute_result"
    }
   ],
   "source": [
    "49*T"
   ]
  },
  {
   "cell_type": "code",
   "execution_count": 12,
   "metadata": {},
   "outputs": [
    {
     "data": {
      "text/plain": [
       "86.89999999999999"
      ]
     },
     "execution_count": 12,
     "metadata": {},
     "output_type": "execute_result"
    }
   ],
   "source": [
    "score=[77,88,99]\n",
    "weight=[0.3,0.5,0.2]\n",
    "np.array(score)*np.array(weight)\n",
    "G=np.array(score)*np.array(weight)\n",
    "sum(G)\n"
   ]
  },
  {
   "cell_type": "code",
   "execution_count": 11,
   "metadata": {},
   "outputs": [
    {
     "data": {
      "text/plain": [
       "86.89999999999999"
      ]
     },
     "execution_count": 11,
     "metadata": {},
     "output_type": "execute_result"
    }
   ],
   "source": [
    "s=np.array(score)\n",
    "w=np.array(weight)\n",
    "np.dot(s,w)"
   ]
  },
  {
   "cell_type": "code",
   "execution_count": 13,
   "metadata": {},
   "outputs": [
    {
     "data": {
      "text/plain": [
       "array([44. , 62.6, 59.7])"
      ]
     },
     "execution_count": 13,
     "metadata": {},
     "output_type": "execute_result"
    }
   ],
   "source": [
    "grade=np.array([[88,44,33],[34,56,78],[95,74,33]])\n",
    "weights=np.array([0.1,0.5,0.4])\n",
    "np.dot(grade,weights)\n"
   ]
  },
  {
   "cell_type": "code",
   "execution_count": 14,
   "metadata": {},
   "outputs": [
    {
     "data": {
      "text/plain": [
       "array([ 0.18607737,  0.34664465, -0.22746118, -1.40713655, -2.15153145,\n",
       "       -0.54689616,  1.24005591,  0.68979136, -0.1838402 ,  0.20384662,\n",
       "        0.38173322,  1.13843387, -1.36698682, -0.98868606, -0.47902051,\n",
       "        1.94535684, -0.36975281, -0.30238025, -0.75368447,  0.07594254,\n",
       "        0.69886484, -1.38827567, -0.56842212, -0.11764182, -1.25364466,\n",
       "       -0.6182953 ,  0.00973031, -0.33276301, -1.40004558, -0.68922417,\n",
       "       -0.69114825, -1.00414312, -0.84593658, -1.91502529, -1.43232359,\n",
       "        0.21498508,  0.875197  ,  0.25065301,  0.641011  ,  0.24090221,\n",
       "        1.31871641, -0.41387757, -1.06071668,  0.08177689,  0.91454971,\n",
       "        0.12768222, -1.7810297 , -0.24231767, -0.74668218, -0.72236816,\n",
       "        0.97981046,  0.78208041,  2.23065164,  0.10958178,  1.17826031,\n",
       "       -2.14001382,  1.39301473,  0.7299589 , -1.08532115,  0.59479077,\n",
       "       -0.03619601, -0.41386473,  0.9777096 ,  1.02739236, -1.06822027,\n",
       "       -0.96054821, -0.02987265,  1.51040896,  0.25403291,  0.09284541,\n",
       "        0.30333033, -0.88098135,  0.96541232,  1.38173282, -0.57600762,\n",
       "       -1.83555385,  0.80568525, -1.54602139,  0.67681043,  0.21075153,\n",
       "       -0.62864996,  0.85672714, -0.89636047,  0.60867871, -0.20960915,\n",
       "       -0.0349749 , -0.71005747, -0.3755516 , -0.02871492, -0.17901284,\n",
       "        1.51517113,  0.0235128 ,  0.70444259, -0.21896301,  0.83394649,\n",
       "       -0.90327767,  0.50410449,  0.43686225, -1.41952051, -1.85249816])"
      ]
     },
     "execution_count": 14,
     "metadata": {},
     "output_type": "execute_result"
    }
   ],
   "source": [
    "A=np.array(np.random.randn(100))\n",
    "A"
   ]
  },
  {
   "cell_type": "code",
   "execution_count": 15,
   "metadata": {},
   "outputs": [
    {
     "data": {
      "text/plain": [
       "(100,)"
      ]
     },
     "execution_count": 15,
     "metadata": {},
     "output_type": "execute_result"
    }
   ],
   "source": [
    "A.shape"
   ]
  },
  {
   "cell_type": "code",
   "execution_count": 18,
   "metadata": {},
   "outputs": [],
   "source": [
    "A.shape=(25,4)"
   ]
  },
  {
   "cell_type": "code",
   "execution_count": 19,
   "metadata": {},
   "outputs": [
    {
     "data": {
      "text/plain": [
       "array([[ 0.18607737,  0.34664465, -0.22746118, -1.40713655],\n",
       "       [-2.15153145, -0.54689616,  1.24005591,  0.68979136],\n",
       "       [-0.1838402 ,  0.20384662,  0.38173322,  1.13843387],\n",
       "       [-1.36698682, -0.98868606, -0.47902051,  1.94535684],\n",
       "       [-0.36975281, -0.30238025, -0.75368447,  0.07594254],\n",
       "       [ 0.69886484, -1.38827567, -0.56842212, -0.11764182],\n",
       "       [-1.25364466, -0.6182953 ,  0.00973031, -0.33276301],\n",
       "       [-1.40004558, -0.68922417, -0.69114825, -1.00414312],\n",
       "       [-0.84593658, -1.91502529, -1.43232359,  0.21498508],\n",
       "       [ 0.875197  ,  0.25065301,  0.641011  ,  0.24090221],\n",
       "       [ 1.31871641, -0.41387757, -1.06071668,  0.08177689],\n",
       "       [ 0.91454971,  0.12768222, -1.7810297 , -0.24231767],\n",
       "       [-0.74668218, -0.72236816,  0.97981046,  0.78208041],\n",
       "       [ 2.23065164,  0.10958178,  1.17826031, -2.14001382],\n",
       "       [ 1.39301473,  0.7299589 , -1.08532115,  0.59479077],\n",
       "       [-0.03619601, -0.41386473,  0.9777096 ,  1.02739236],\n",
       "       [-1.06822027, -0.96054821, -0.02987265,  1.51040896],\n",
       "       [ 0.25403291,  0.09284541,  0.30333033, -0.88098135],\n",
       "       [ 0.96541232,  1.38173282, -0.57600762, -1.83555385],\n",
       "       [ 0.80568525, -1.54602139,  0.67681043,  0.21075153],\n",
       "       [-0.62864996,  0.85672714, -0.89636047,  0.60867871],\n",
       "       [-0.20960915, -0.0349749 , -0.71005747, -0.3755516 ],\n",
       "       [-0.02871492, -0.17901284,  1.51517113,  0.0235128 ],\n",
       "       [ 0.70444259, -0.21896301,  0.83394649, -0.90327767],\n",
       "       [ 0.50410449,  0.43686225, -1.41952051, -1.85249816]])"
      ]
     },
     "execution_count": 19,
     "metadata": {},
     "output_type": "execute_result"
    }
   ],
   "source": [
    "A"
   ]
  },
  {
   "cell_type": "code",
   "execution_count": 20,
   "metadata": {},
   "outputs": [
    {
     "data": {
      "text/plain": [
       "array([[ 0.18607737],\n",
       "       [ 0.34664465],\n",
       "       [-0.22746118],\n",
       "       [-1.40713655],\n",
       "       [-2.15153145],\n",
       "       [-0.54689616],\n",
       "       [ 1.24005591],\n",
       "       [ 0.68979136],\n",
       "       [-0.1838402 ],\n",
       "       [ 0.20384662],\n",
       "       [ 0.38173322],\n",
       "       [ 1.13843387],\n",
       "       [-1.36698682],\n",
       "       [-0.98868606],\n",
       "       [-0.47902051],\n",
       "       [ 1.94535684],\n",
       "       [-0.36975281],\n",
       "       [-0.30238025],\n",
       "       [-0.75368447],\n",
       "       [ 0.07594254],\n",
       "       [ 0.69886484],\n",
       "       [-1.38827567],\n",
       "       [-0.56842212],\n",
       "       [-0.11764182],\n",
       "       [-1.25364466],\n",
       "       [-0.6182953 ],\n",
       "       [ 0.00973031],\n",
       "       [-0.33276301],\n",
       "       [-1.40004558],\n",
       "       [-0.68922417],\n",
       "       [-0.69114825],\n",
       "       [-1.00414312],\n",
       "       [-0.84593658],\n",
       "       [-1.91502529],\n",
       "       [-1.43232359],\n",
       "       [ 0.21498508],\n",
       "       [ 0.875197  ],\n",
       "       [ 0.25065301],\n",
       "       [ 0.641011  ],\n",
       "       [ 0.24090221],\n",
       "       [ 1.31871641],\n",
       "       [-0.41387757],\n",
       "       [-1.06071668],\n",
       "       [ 0.08177689],\n",
       "       [ 0.91454971],\n",
       "       [ 0.12768222],\n",
       "       [-1.7810297 ],\n",
       "       [-0.24231767],\n",
       "       [-0.74668218],\n",
       "       [-0.72236816],\n",
       "       [ 0.97981046],\n",
       "       [ 0.78208041],\n",
       "       [ 2.23065164],\n",
       "       [ 0.10958178],\n",
       "       [ 1.17826031],\n",
       "       [-2.14001382],\n",
       "       [ 1.39301473],\n",
       "       [ 0.7299589 ],\n",
       "       [-1.08532115],\n",
       "       [ 0.59479077],\n",
       "       [-0.03619601],\n",
       "       [-0.41386473],\n",
       "       [ 0.9777096 ],\n",
       "       [ 1.02739236],\n",
       "       [-1.06822027],\n",
       "       [-0.96054821],\n",
       "       [-0.02987265],\n",
       "       [ 1.51040896],\n",
       "       [ 0.25403291],\n",
       "       [ 0.09284541],\n",
       "       [ 0.30333033],\n",
       "       [-0.88098135],\n",
       "       [ 0.96541232],\n",
       "       [ 1.38173282],\n",
       "       [-0.57600762],\n",
       "       [-1.83555385],\n",
       "       [ 0.80568525],\n",
       "       [-1.54602139],\n",
       "       [ 0.67681043],\n",
       "       [ 0.21075153],\n",
       "       [-0.62864996],\n",
       "       [ 0.85672714],\n",
       "       [-0.89636047],\n",
       "       [ 0.60867871],\n",
       "       [-0.20960915],\n",
       "       [-0.0349749 ],\n",
       "       [-0.71005747],\n",
       "       [-0.3755516 ],\n",
       "       [-0.02871492],\n",
       "       [-0.17901284],\n",
       "       [ 1.51517113],\n",
       "       [ 0.0235128 ],\n",
       "       [ 0.70444259],\n",
       "       [-0.21896301],\n",
       "       [ 0.83394649],\n",
       "       [-0.90327767],\n",
       "       [ 0.50410449],\n",
       "       [ 0.43686225],\n",
       "       [-1.41952051],\n",
       "       [-1.85249816]])"
      ]
     },
     "execution_count": 20,
     "metadata": {},
     "output_type": "execute_result"
    }
   ],
   "source": [
    "A.reshape(100,1)#產生新的,A不變"
   ]
  },
  {
   "cell_type": "code",
   "execution_count": 21,
   "metadata": {},
   "outputs": [
    {
     "data": {
      "text/plain": [
       "array([[ 0.18607737,  0.34664465, -0.22746118, -1.40713655],\n",
       "       [-2.15153145, -0.54689616,  1.24005591,  0.68979136],\n",
       "       [-0.1838402 ,  0.20384662,  0.38173322,  1.13843387],\n",
       "       [-1.36698682, -0.98868606, -0.47902051,  1.94535684],\n",
       "       [-0.36975281, -0.30238025, -0.75368447,  0.07594254],\n",
       "       [ 0.69886484, -1.38827567, -0.56842212, -0.11764182],\n",
       "       [-1.25364466, -0.6182953 ,  0.00973031, -0.33276301],\n",
       "       [-1.40004558, -0.68922417, -0.69114825, -1.00414312],\n",
       "       [-0.84593658, -1.91502529, -1.43232359,  0.21498508],\n",
       "       [ 0.875197  ,  0.25065301,  0.641011  ,  0.24090221],\n",
       "       [ 1.31871641, -0.41387757, -1.06071668,  0.08177689],\n",
       "       [ 0.91454971,  0.12768222, -1.7810297 , -0.24231767],\n",
       "       [-0.74668218, -0.72236816,  0.97981046,  0.78208041],\n",
       "       [ 2.23065164,  0.10958178,  1.17826031, -2.14001382],\n",
       "       [ 1.39301473,  0.7299589 , -1.08532115,  0.59479077],\n",
       "       [-0.03619601, -0.41386473,  0.9777096 ,  1.02739236],\n",
       "       [-1.06822027, -0.96054821, -0.02987265,  1.51040896],\n",
       "       [ 0.25403291,  0.09284541,  0.30333033, -0.88098135],\n",
       "       [ 0.96541232,  1.38173282, -0.57600762, -1.83555385],\n",
       "       [ 0.80568525, -1.54602139,  0.67681043,  0.21075153],\n",
       "       [-0.62864996,  0.85672714, -0.89636047,  0.60867871],\n",
       "       [-0.20960915, -0.0349749 , -0.71005747, -0.3755516 ],\n",
       "       [-0.02871492, -0.17901284,  1.51517113,  0.0235128 ],\n",
       "       [ 0.70444259, -0.21896301,  0.83394649, -0.90327767],\n",
       "       [ 0.50410449,  0.43686225, -1.41952051, -1.85249816]])"
      ]
     },
     "execution_count": 21,
     "metadata": {},
     "output_type": "execute_result"
    }
   ],
   "source": [
    "A"
   ]
  },
  {
   "cell_type": "code",
   "execution_count": 23,
   "metadata": {},
   "outputs": [
    {
     "data": {
      "text/plain": [
       "array([[0, 0],\n",
       "       [0, 1],\n",
       "       [0, 2],\n",
       "       [1, 0],\n",
       "       [1, 1],\n",
       "       [1, 2],\n",
       "       [2, 0],\n",
       "       [2, 1],\n",
       "       [2, 2],\n",
       "       [3, 0],\n",
       "       [3, 1],\n",
       "       [3, 2],\n",
       "       [4, 0],\n",
       "       [4, 1],\n",
       "       [4, 2]])"
      ]
     },
     "execution_count": 23,
     "metadata": {},
     "output_type": "execute_result"
    }
   ],
   "source": [
    "xy=[[x,y] for x in range(5) for y in range(3)]\n",
    "xy\n",
    "np.array(xy)"
   ]
  },
  {
   "cell_type": "code",
   "execution_count": 27,
   "metadata": {},
   "outputs": [
    {
     "data": {
      "text/plain": [
       "array([[0., 0., 0.],\n",
       "       [0., 0., 0.]])"
      ]
     },
     "execution_count": 27,
     "metadata": {},
     "output_type": "execute_result"
    }
   ],
   "source": [
    "np.zeros(3)\n",
    "np.zeros([2,3])"
   ]
  },
  {
   "cell_type": "code",
   "execution_count": 30,
   "metadata": {},
   "outputs": [
    {
     "data": {
      "text/plain": [
       "array([1., 1., 1.])"
      ]
     },
     "execution_count": 30,
     "metadata": {},
     "output_type": "execute_result"
    }
   ],
   "source": [
    "np.ones(3)"
   ]
  },
  {
   "cell_type": "code",
   "execution_count": 34,
   "metadata": {},
   "outputs": [],
   "source": [
    "q=np.eye(2)"
   ]
  },
  {
   "cell_type": "code",
   "execution_count": 35,
   "metadata": {},
   "outputs": [
    {
     "data": {
      "text/plain": [
       "(2, 2)"
      ]
     },
     "execution_count": 35,
     "metadata": {},
     "output_type": "execute_result"
    }
   ],
   "source": [
    "q.shape"
   ]
  },
  {
   "cell_type": "code",
   "execution_count": 36,
   "metadata": {},
   "outputs": [
    {
     "data": {
      "text/plain": [
       "array([[1., 0.],\n",
       "       [0., 1.]])"
      ]
     },
     "execution_count": 36,
     "metadata": {},
     "output_type": "execute_result"
    }
   ],
   "source": [
    "q"
   ]
  },
  {
   "cell_type": "code",
   "execution_count": 37,
   "metadata": {},
   "outputs": [
    {
     "data": {
      "text/plain": [
       "[<matplotlib.lines.Line2D at 0x2aaf7ad86c8>]"
      ]
     },
     "execution_count": 37,
     "metadata": {},
     "output_type": "execute_result"
    },
    {
     "data": {
      "image/png": "[encoded data removed]",
      "text/plain": [
       "<Figure size 432x288 with 1 Axes>"
      ]
     },
     "metadata": {
      "needs_background": "light"
     },
     "output_type": "display_data"
    }
   ],
   "source": [
    "x=np.linspace(3,5,200)\n",
    "plt.plot(x,np.sin(x)+0.5)"
   ]
  },
  {
   "cell_type": "code",
   "execution_count": null,
   "metadata": {},
   "outputs": [],
   "source": []
  }
 ],
 "metadata": {
  "kernelspec": {
   "display_name": "Python 3",
   "language": "python",
   "name": "python3"
  },
  "language_info": {
   "codemirror_mode": {
    "name": "ipython",
    "version": 3
   },
   "file_extension": ".py",
   "mimetype": "text/x-python",
   "name": "python",
   "nbconvert_exporter": "python",
   "pygments_lexer": "ipython3",
   "version": "3.7.4"
  }
 },
 "nbformat": 4,
 "nbformat_minor": 2
}
