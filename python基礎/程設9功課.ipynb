{
 "cells": [
  {
   "cell_type": "code",
   "execution_count": 1,
   "metadata": {},
   "outputs": [
    {
     "name": "stdout",
     "output_type": "stream",
     "text": [
      "請猜一個1-100之間的數字:2\n",
      "請再猜一個大一點的數字。\n",
      "請猜一個1-100之間的數字:2\n",
      "請再猜一個大一點的數字。\n",
      "請猜一個1-100之間的數字:6\n",
      "請再猜一個大一點的數字。\n",
      "請猜一個1-100之間的數字:95\n",
      "請再猜一個小一點的數字。\n",
      "請猜一個1-100之間的數字:55\n",
      "請再猜一個小一點的數字。\n",
      "請猜一個1-100之間的數字:33\n",
      "請再猜一個小一點的數字。\n",
      "請猜一個1-100之間的數字:22\n",
      "請再猜一個大一點的數字。\n",
      "請猜一個1-100之間的數字:30\n",
      "請再猜一個小一點的數字。\n",
      "請猜一個1-100之間的數字:28\n",
      "請再猜一個大一點的數字。\n",
      "請猜一個1-100之間的數字:29\n",
      "恭喜你猜對了，數字是: 29\n"
     ]
    }
   ],
   "source": [
    "#Programming 101\n",
    "#week09\n",
    "#discussion 1\n",
    "import random  #匯入random這個模組\n",
    "number=random.randint(1,100)  #使用random這個模組中的randint()這個函數，來隨機產生一個1~100間的整數\n",
    "x=101\n",
    "while int(x)!=number:\n",
    "    x=int(input('請猜一個1-100之間的數字:'))\n",
    "    if int(x)==number:\n",
    "        print('恭喜你猜對了，數字是:',number)\n",
    "    elif int(x)>number:\n",
    "        print('請再猜一個小一點的數字。')\n",
    "    elif int(x)<number:\n",
    "        print('請再猜一個大一點的數字。')"
   ]
  },
  {
   "cell_type": "code",
   "execution_count": 7,
   "metadata": {},
   "outputs": [
    {
     "name": "stdout",
     "output_type": "stream",
     "text": [
      "這個程式會印出使用者輸入的起始與結尾數字區間內所有7的倍數\n",
      "請輸入起始數字:2\n",
      "請輸入結尾數字:499\n",
      "7 14 21 28 35 42 49 56 63 70 77 84 91 98 105 112 119 126 133 140 147 154 161 168 175 182 189 196 203 210 217 224 231 238 245 252 259 266 273 280 287 294 301 308 315 322 329 336 343 350 357 364 371 378 385 392 399 406 413 420 427 434 441 448 455 462 469 476 483 490 497 "
     ]
    }
   ],
   "source": [
    "#Programming 101\n",
    "#week09\n",
    "#discussion 2\n",
    "\n",
    "print('這個程式會印出使用者輸入的起始與結尾數字區間內所有7的倍數')\n",
    "s1=int(input('請輸入起始數字:'))\n",
    "s2=int(input('請輸入結尾數字:'))\n",
    "\n",
    "for i in range(s1,s2+1):\n",
    "    if(i%7==0):\n",
    "        print (f'{i:d}', end=' ')\n",
    "\n",
    "    "
   ]
  },
  {
   "cell_type": "code",
   "execution_count": 8,
   "metadata": {},
   "outputs": [
    {
     "data": {
      "text/plain": [
       "1"
      ]
     },
     "execution_count": 8,
     "metadata": {},
     "output_type": "execute_result"
    }
   ],
   "source": [
    "8%7"
   ]
  },
  {
   "cell_type": "code",
   "execution_count": null,
   "metadata": {},
   "outputs": [],
   "source": []
  }
 ],
 "metadata": {
  "kernelspec": {
   "display_name": "Python 3",
   "language": "python",
   "name": "python3"
  },
  "language_info": {
   "codemirror_mode": {
    "name": "ipython",
    "version": 3
   },
   "file_extension": ".py",
   "mimetype": "text/x-python",
   "name": "python",
   "nbconvert_exporter": "python",
   "pygments_lexer": "ipython3",
   "version": "3.7.4"
  }
 },
 "nbformat": 4,
 "nbformat_minor": 2
}
