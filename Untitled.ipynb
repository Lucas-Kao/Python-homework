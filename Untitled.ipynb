{
 "cells": [
  {
   "cell_type": "code",
   "execution_count": null,
   "metadata": {},
   "outputs": [],
   "source": [
    "import tkinter\n",
    "from tkinter import messagebox\n",
    "def showMsg():\n",
    "    result = ''\n",
    "    for i in check_v:\n",
    "        if check_v[i].get() == True:\n",
    "            result = result + country[i] + '  '\n",
    "    messagebox.showinfo('核取結果', '您想去的國家為：'+result)#設定函數，函數裡的迴圈會依依看布林值字典，若TRUE就印出想去的國家有哪些\n",
    "\n",
    "win=tkinter.Tk() #建立新視窗\n",
    "win.title('想要旅遊國家調查')#視窗的標題\n",
    "win.geometry('300x150')#視窗大小\n",
    "\n",
    "label=tkinter.Label(win, text='請選取您想要旅遊的國家：').pack()#設定標籤並安裝在視窗\n",
    "\n",
    "country ={0:'土耳其', 1:'英國', 2:'日本', 3:'埃及'}#建立字典\n",
    "check_v ={}#建立空字典\n",
    "for i in range(len(country)):\n",
    "    check_v[i] = tkinter.BooleanVar()#把是否有打勾勾的國家加入空字典以布林值顯示\n",
    "    tkinter.Checkbutton(win, text=country[i], variable=check_v[i]).pack()#建立checkbutton依國家排下來，並安裝在視窗\n",
    "\n",
    "tkinter.Button(win, text='確定', command=showMsg).pack()#建立一個Button的元件，按了會執行showMsg函數，並安裝在視窗\n",
    "\n",
    "win.mainloop()"
   ]
  },
  {
   "cell_type": "code",
   "execution_count": null,
   "metadata": {},
   "outputs": [],
   "source": []
  }
 ],
 "metadata": {
  "kernelspec": {
   "display_name": "Python 3",
   "language": "python",
   "name": "python3"
  },
  "language_info": {
   "codemirror_mode": {
    "name": "ipython",
    "version": 3
   },
   "file_extension": ".py",
   "mimetype": "text/x-python",
   "name": "python",
   "nbconvert_exporter": "python",
   "pygments_lexer": "ipython3",
   "version": "3.7.4"
  }
 },
 "nbformat": 4,
 "nbformat_minor": 2
}
