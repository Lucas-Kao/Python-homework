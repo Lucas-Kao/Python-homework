{
 "cells": [
  {
   "cell_type": "code",
   "execution_count": 8,
   "metadata": {},
   "outputs": [],
   "source": [
    "import numpy as np\n",
    "from ipywidgets import interact_manual\n",
    "def avr(三學分課成績,二學分課成績):\n",
    "    三學分課成績=三學分課成績.split(\",\")\n",
    "    二學分課成績=二學分課成績.split(\",\")\n",
    "    for i in range(len(三學分課成績)):\n",
    "        三學分課成績[i]=float(三學分課成績[i])\n",
    "    for i in range(len(二學分課成績)):\n",
    "        二學分課成績[i]=float(二學分課成績[i])\n",
    "    return((3*sum(np.array(三學分課成績))+2*sum(np.array(二學分課成績)))/(3*(len(三學分課成績))+2*len(二學分課成績)))"
   ]
  },
  {
   "cell_type": "code",
   "execution_count": 9,
   "metadata": {},
   "outputs": [
    {
     "name": "stdout",
     "output_type": "stream",
     "text": [
      "輸入三學分課成績90\n",
      "輸入二學分課成績97\n"
     ]
    },
    {
     "data": {
      "application/vnd.jupyter.widget-view+json": {
       "model_id": "e6c64ba4a85b49b8b1a4982a10f122fd",
       "version_major": 2,
       "version_minor": 0
      },
      "text/plain": [
       "interactive(children=(Text(value='90', description='三學分課成績'), Text(value='97', description='二學分課成績'), Button(d…"
      ]
     },
     "metadata": {},
     "output_type": "display_data"
    },
    {
     "data": {
      "text/plain": [
       "<function __main__.avr(三學分課成績, 二學分課成績)>"
      ]
     },
     "execution_count": 9,
     "metadata": {},
     "output_type": "execute_result"
    }
   ],
   "source": [
    "interact_manual(avr,三學分課成績=input(\"輸入三學分課成績\"),二學分課成績=input(\"輸入二學分課成績\"))"
   ]
  },
  {
   "cell_type": "code",
   "execution_count": null,
   "metadata": {},
   "outputs": [],
   "source": []
  }
 ],
 "metadata": {
  "kernelspec": {
   "display_name": "Python 3",
   "language": "python",
   "name": "python3"
  },
  "language_info": {
   "codemirror_mode": {
    "name": "ipython",
    "version": 3
   },
   "file_extension": ".py",
   "mimetype": "text/x-python",
   "name": "python",
   "nbconvert_exporter": "python",
   "pygments_lexer": "ipython3",
   "version": "3.7.4"
  }
 },
 "nbformat": 4,
 "nbformat_minor": 2
}
