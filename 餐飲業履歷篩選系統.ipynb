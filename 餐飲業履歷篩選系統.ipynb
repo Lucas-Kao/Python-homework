{
 "cells": [
  {
   "cell_type": "code",
   "execution_count": 1,
   "metadata": {},
   "outputs": [
    {
     "name": "stdout",
     "output_type": "stream",
     "text": [
      "每周可上班時數(整數)48\n",
      "是否有餐飲業的工作經驗，請輸入\"是\" or \"否\"是\n",
      "是否願意長期(一年)工作，請輸入\"是\"或\"否\"是\n",
      "是否有機車駕照，請輸入\"是\"或\"否\"是\n",
      "是否能接受假日排班，請輸入\"是\"或\"否\"否\n",
      "期望薪資(整數台幣)30000\n",
      "總分為: 100\n"
     ]
    }
   ],
   "source": [
    "a=input(\"每周可上班時數(整數)\")    \n",
    "b=input(\"是否有餐飲業的工作經驗，請輸入\\\"是\\\" or \\\"否\\\"\")\n",
    "c=input(\"是否願意長期(一年)工作，請輸入\\\"是\\\"或\\\"否\\\"\")\n",
    "d=input(\"是否有機車駕照，請輸入\\\"是\\\"或\\\"否\\\"\")\n",
    "e=input(\"是否能接受假日排班，請輸入\\\"是\\\"或\\\"否\\\"\")\n",
    "f=input(\"期望薪資(整數台幣)\")\n",
    "try:\n",
    "    if int(f)>40000:\n",
    "        print(\"總分為:0\")\n",
    "    elif int(f)<=33000:\n",
    "        F=20\n",
    "        if int(a)>=35:\n",
    "            A=20\n",
    "        else:\n",
    "            A=0\n",
    "        if \"是\" in b:\n",
    "            B=20\n",
    "        else:\n",
    "            B=0\n",
    "        if \"是\" in c:\n",
    "            C=20\n",
    "        else :\n",
    "            C=0\n",
    "        if \"是\" in d:\n",
    "            D=20\n",
    "        else:\n",
    "            D=0\n",
    "        if \"是\" in e:\n",
    "            E=20\n",
    "        else:\n",
    "            E=0\n",
    "        print(\"總分為:\",A+B+C+D+E+F)\n",
    "    elif 33000<int(f)<=4000:\n",
    "        F=0\n",
    "        if int(a)>=35:\n",
    "            A=20\n",
    "        else:\n",
    "            A=0\n",
    "        if \"是\" in b:\n",
    "            B=20\n",
    "        else:\n",
    "            B=0\n",
    "        if \"是\" in c:\n",
    "            C=20\n",
    "        else :\n",
    "            C=0\n",
    "        if \"是\" in d:\n",
    "            D=20\n",
    "        else:\n",
    "            D=0\n",
    "        if \"是\" in e:\n",
    "            E=20\n",
    "        else:\n",
    "            E=0\n",
    "        print(\"總分為:\",A+B+C+D+E+F)\n",
    "except ValueError:\n",
    "    print(\"輸入有誤，請重新輸入\")"
   ]
  },
  {
   "cell_type": "code",
   "execution_count": null,
   "metadata": {},
   "outputs": [],
   "source": []
  }
 ],
 "metadata": {
  "kernelspec": {
   "display_name": "Python 3",
   "language": "python",
   "name": "python3"
  },
  "language_info": {
   "codemirror_mode": {
    "name": "ipython",
    "version": 3
   },
   "file_extension": ".py",
   "mimetype": "text/x-python",
   "name": "python",
   "nbconvert_exporter": "python",
   "pygments_lexer": "ipython3",
   "version": "3.7.4"
  }
 },
 "nbformat": 4,
 "nbformat_minor": 2
}
