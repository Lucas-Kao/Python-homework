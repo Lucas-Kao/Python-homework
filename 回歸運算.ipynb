{
 "cells": [
  {
   "cell_type": "code",
   "execution_count": 17,
   "metadata": {},
   "outputs": [
    {
     "name": "stdout",
     "output_type": "stream",
     "text": [
      "請輸入第1個x值32\n",
      "請輸入第1個y值35\n",
      "請輸入第2個x值13\n",
      "請輸入第2個y值45\n",
      "請輸入第3個x值24\n",
      "請輸入第3個y值46\n",
      "請輸入第4個x值結束\n",
      "請輸入第4個y值結束\n",
      "輸入完畢\n"
     ]
    }
   ],
   "source": [
    "X=[]\n",
    "Y=[]\n",
    "x=\"\"\n",
    "y=\"\"\n",
    "count=1\n",
    "while x!=\"結束\" or y!=\"結束\":\n",
    "    x=input(\"請輸入第\"+str(count)+\"個x值\")\n",
    "    y=input(\"請輸入第\"+str(count)+\"個y值\")\n",
    "    try:\n",
    "        if str(int(x)).isalnum() and str(int(y)).isalnum():\n",
    "            X.append(float(x))\n",
    "            Y.append(float(y))\n",
    "            count+=1\n",
    "    except ValueError:\n",
    "        if  x==\"結束\" and y==\"結束\":\n",
    "            print(\"輸入完畢\")                     \n",
    "        else:\n",
    "            print(\"輸入有誤，剛才輸入的不算\")      \n"
   ]
  },
  {
   "cell_type": "code",
   "execution_count": 18,
   "metadata": {},
   "outputs": [
    {
     "name": "stdout",
     "output_type": "stream",
     "text": [
      "yi_hat=53.247252747252745+-0.489010989010989xi\n"
     ]
    }
   ],
   "source": [
    "    X_bar=sum(X)/len(X)\n",
    "    Y_bar=sum(Y)/len(Y)\n",
    "    X_d=[]\n",
    "    Y_d=[]\n",
    "    X_dXY_d=[]\n",
    "    X_dXX_d=[]\n",
    "    for i in range(len(X)):\n",
    "        h=X[i]-X_bar\n",
    "        X_d.append(h)\n",
    "    for j in range (len(Y)):\n",
    "        w=Y[j]-Y_bar\n",
    "        Y_d.append(w)\n",
    "    for k in range(len(X)):\n",
    "        hw=X_d[k]*Y_d[k]\n",
    "        X_dXY_d.append(hw)\n",
    "    離均差乘積和=sum(X_dXY_d)\n",
    "    for i in range(len(X)):\n",
    "        q=(X[i]-X_bar)*(X[i]-X_bar)\n",
    "        X_dXX_d.append(q)\n",
    "    離均差平方和=sum(X_dXX_d)\n",
    "    b1=離均差乘積和/離均差平方和\n",
    "    b1\n",
    "    b0=Y_bar-b1*X_bar\n",
    "    b0\n",
    "    print(\"yi_hat=\"+str(b0)+\"+\"+str(b1)+\"xi\")\n"
   ]
  },
  {
   "cell_type": "code",
   "execution_count": null,
   "metadata": {},
   "outputs": [],
   "source": []
  },
  {
   "cell_type": "code",
   "execution_count": 19,
   "metadata": {},
   "outputs": [
    {
     "data": {
      "text/plain": [
       "[32.0, 13.0, 24.0]"
      ]
     },
     "execution_count": 19,
     "metadata": {},
     "output_type": "execute_result"
    }
   ],
   "source": [
    "X"
   ]
  },
  {
   "cell_type": "code",
   "execution_count": 20,
   "metadata": {},
   "outputs": [
    {
     "data": {
      "text/plain": [
       "[35.0, 45.0, 46.0]"
      ]
     },
     "execution_count": 20,
     "metadata": {},
     "output_type": "execute_result"
    }
   ],
   "source": [
    "Y"
   ]
  },
  {
   "cell_type": "code",
   "execution_count": null,
   "metadata": {},
   "outputs": [],
   "source": []
  }
 ],
 "metadata": {
  "kernelspec": {
   "display_name": "Python 3",
   "language": "python",
   "name": "python3"
  }
 },
 "nbformat": 4,
 "nbformat_minor": 2
}
