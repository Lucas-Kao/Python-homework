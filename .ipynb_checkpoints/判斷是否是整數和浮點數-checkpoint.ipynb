{
 "cells": [
  {
   "cell_type": "code",
   "execution_count": 1,
   "metadata": {},
   "outputs": [
    {
     "name": "stdout",
     "output_type": "stream",
     "text": [
      "輸入一個可以成功轉為浮點數的資料:se\n",
      "輸入資料有錯誤，請重新輸入一個可以成功轉為浮點數的資料:32.3\n",
      "輸入的資料可以成功轉為浮點數 32.3\n"
     ]
    }
   ],
   "source": [
    "\n",
    "def check_float(num):\n",
    "    try:\n",
    "        float(num)\n",
    "    except:\n",
    "        result=False                \n",
    "    else:\n",
    "        result=True                     \n",
    "    finally:\n",
    "        return(result)                        \n",
    "\n",
    "while True:\n",
    "    a=input('輸入一個可以成功轉為浮點數的資料:')\n",
    "    if (not check_float(a)):\n",
    "        print('輸入資料有錯誤，請重新', end='')\n",
    "        continue\n",
    "    else:\n",
    "        print('輸入的資料可以成功轉為浮點數', float(a))\n",
    "        break\n",
    "\n"
   ]
  },
  {
   "cell_type": "code",
   "execution_count": 2,
   "metadata": {},
   "outputs": [
    {
     "name": "stdout",
     "output_type": "stream",
     "text": [
      "輸入一個可以成功轉為整數的資料:d\n",
      "輸入資料有錯誤，請重新輸入一個可以成功轉為整數的資料:asd\n",
      "輸入資料有錯誤，請重新輸入一個可以成功轉為整數的資料:2.21\n",
      "輸入資料有錯誤，請重新輸入一個可以成功轉為整數的資料:2\n",
      "輸入的資料可以成功轉為整數 2.0\n"
     ]
    }
   ],
   "source": [
    "def check_int(num):\n",
    "     try:\n",
    "        int(num)\n",
    "     except:\n",
    "        result1=False                \n",
    "     else:\n",
    "        result1=True                     \n",
    "     finally:\n",
    "        return(result1) \n",
    "\n",
    "while True:\n",
    "    b=input('輸入一個可以成功轉為整數的資料:')\n",
    "    if (not check_int(b)):\n",
    "        print('輸入資料有錯誤，請重新', end='')\n",
    "        continue\n",
    "    else:\n",
    "        print('輸入的資料可以成功轉為整數', float(b))\n",
    "        break\n",
    "    "
   ]
  },
  {
   "cell_type": "code",
   "execution_count": null,
   "metadata": {},
   "outputs": [],
   "source": []
  }
 ],
 "metadata": {
  "kernelspec": {
   "display_name": "Python 3",
   "language": "python",
   "name": "python3"
  },
  "language_info": {
   "codemirror_mode": {
    "name": "ipython",
    "version": 3
   },
   "file_extension": ".py",
   "mimetype": "text/x-python",
   "name": "python",
   "nbconvert_exporter": "python",
   "pygments_lexer": "ipython3",
   "version": "3.7.4"
  }
 },
 "nbformat": 4,
 "nbformat_minor": 2
}
