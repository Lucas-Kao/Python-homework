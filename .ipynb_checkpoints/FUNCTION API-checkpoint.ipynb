{
 "cells": [
  {
   "cell_type": "code",
   "execution_count": 1,
   "metadata": {},
   "outputs": [],
   "source": [
    "%matplotlib inline\n",
    "import numpy as np\n",
    "import matplotlib.pyplot as plt\n",
    "import pandas as pd"
   ]
  },
  {
   "cell_type": "code",
   "execution_count": 2,
   "metadata": {},
   "outputs": [],
   "source": [
    "from tensorflow.keras.models import Sequential, Model\n",
    "from tensorflow.keras.layers import Dense, Flatten, Conv2D, MaxPool2D, Input, concatenate, add\n",
    "from tensorflow.keras.optimizers import SGD, Adam\n",
    "from tensorflow.keras import datasets\n",
    "from tensorflow.keras.utils import to_categorical"
   ]
  },
  {
   "cell_type": "code",
   "execution_count": 3,
   "metadata": {},
   "outputs": [],
   "source": [
    "(X_train, y_train0), (X_test, y_test0) = datasets.fashion_mnist.load_data()"
   ]
  },
  {
   "cell_type": "code",
   "execution_count": 6,
   "metadata": {},
   "outputs": [],
   "source": [
    "X_train=X_train.reshape(-1, 28*28)\n",
    "X_test=X_test.reshape(-1, 28*28)\n",
    "X_train=X_train / X_train.max()\n",
    "X_test=X_test / X_test.max()"
   ]
  },
  {
   "cell_type": "code",
   "execution_count": 7,
   "metadata": {},
   "outputs": [],
   "source": [
    "y_train=to_categorical(y_train0, 10)\n",
    "y_test=to_categorical(y_test0, 10)"
   ]
  },
  {
   "cell_type": "code",
   "execution_count": 8,
   "metadata": {},
   "outputs": [],
   "source": [
    "x=Input(shape=(784,))\n",
    "f1=Dense(666, activation='sigmoid')\n",
    "f2=Dense(444, activation='sigmoid')\n",
    "f3=Dense(222,activation='sigmoid')\n",
    "f4=Dense(350,activation='sigmoid')\n",
    "f5=Dense(10,activation='softmax')"
   ]
  },
  {
   "cell_type": "code",
   "execution_count": 11,
   "metadata": {},
   "outputs": [],
   "source": [
    "h1=f1(x)\n",
    "h2=f2(h1)\n",
    "h3=f3(h1)\n",
    "h4=f4(h1)\n",
    "r=concatenate([h2,h3,h4])\n",
    "t=f5(r)"
   ]
  },
  {
   "cell_type": "code",
   "execution_count": 13,
   "metadata": {},
   "outputs": [
    {
     "name": "stdout",
     "output_type": "stream",
     "text": [
      "Model: \"model_1\"\n",
      "__________________________________________________________________________________________________\n",
      "Layer (type)                    Output Shape         Param #     Connected to                     \n",
      "==================================================================================================\n",
      "input_1 (InputLayer)            [(None, 784)]        0                                            \n",
      "__________________________________________________________________________________________________\n",
      "dense (Dense)                   (None, 666)          522810      input_1[0][0]                    \n",
      "__________________________________________________________________________________________________\n",
      "dense_1 (Dense)                 (None, 444)          296148      dense[2][0]                      \n",
      "__________________________________________________________________________________________________\n",
      "dense_2 (Dense)                 (None, 222)          148074      dense[2][0]                      \n",
      "__________________________________________________________________________________________________\n",
      "dense_3 (Dense)                 (None, 350)          233450      dense[2][0]                      \n",
      "__________________________________________________________________________________________________\n",
      "concatenate_1 (Concatenate)     (None, 1016)         0           dense_1[1][0]                    \n",
      "                                                                 dense_2[1][0]                    \n",
      "                                                                 dense_3[1][0]                    \n",
      "__________________________________________________________________________________________________\n",
      "dense_4 (Dense)                 (None, 10)           10170       concatenate_1[0][0]              \n",
      "==================================================================================================\n",
      "Total params: 1,210,652\n",
      "Trainable params: 1,210,652\n",
      "Non-trainable params: 0\n",
      "__________________________________________________________________________________________________\n"
     ]
    }
   ],
   "source": [
    "model=Model(x,t)\n",
    "model.summary()"
   ]
  },
  {
   "cell_type": "code",
   "execution_count": 14,
   "metadata": {},
   "outputs": [],
   "source": [
    "model.compile(loss='mse', optimizer=Adam(), metrics=['accuracy'])"
   ]
  },
  {
   "cell_type": "code",
   "execution_count": 15,
   "metadata": {},
   "outputs": [
    {
     "name": "stdout",
     "output_type": "stream",
     "text": [
      "Train on 60000 samples\n",
      "Epoch 1/9\n",
      "60000/60000 [==============================] - 10s 162us/sample - loss: 0.0376 - accuracy: 0.7244\n",
      "Epoch 2/9\n",
      "60000/60000 [==============================] - 8s 134us/sample - loss: 0.0224 - accuracy: 0.8426\n",
      "Epoch 3/9\n",
      "60000/60000 [==============================] - 8s 133us/sample - loss: 0.0204 - accuracy: 0.8592\n",
      "Epoch 4/9\n",
      "60000/60000 [==============================] - 8s 134us/sample - loss: 0.0192 - accuracy: 0.8666\n",
      "Epoch 5/9\n",
      "60000/60000 [==============================] - 8s 133us/sample - loss: 0.0184 - accuracy: 0.8732\n",
      "Epoch 6/9\n",
      "60000/60000 [==============================] - 8s 130us/sample - loss: 0.0175 - accuracy: 0.8802\n",
      "Epoch 7/9\n",
      "60000/60000 [==============================] - 8s 130us/sample - loss: 0.0168 - accuracy: 0.8854\n",
      "Epoch 8/9\n",
      "60000/60000 [==============================] - 8s 134us/sample - loss: 0.0164 - accuracy: 0.8881\n",
      "Epoch 9/9\n",
      "60000/60000 [==============================] - 8s 134us/sample - loss: 0.0157 - accuracy: 0.8930 - l\n"
     ]
    },
    {
     "data": {
      "text/plain": [
       "<tensorflow.python.keras.callbacks.History at 0x1b0329c4308>"
      ]
     },
     "execution_count": 15,
     "metadata": {},
     "output_type": "execute_result"
    }
   ],
   "source": [
    "model.fit(X_train, y_train, batch_size=222, epochs=9)"
   ]
  },
  {
   "cell_type": "code",
   "execution_count": 16,
   "metadata": {},
   "outputs": [
    {
     "name": "stdout",
     "output_type": "stream",
     "text": [
      "60000/60000 [==============================] - 3s 51us/sample - loss: 0.0161 - accuracy: 0.8892\n",
      "Loss: 0.016105585421125095\n",
      "準確率: 88.9216661453247\n"
     ]
    }
   ],
   "source": [
    "score = model.evaluate(X_train, y_train, batch_size=10000)\n",
    "print(f'Loss: {score[0]}')\n",
    "print(f'準確率: {score[1]*100}')"
   ]
  },
  {
   "cell_type": "code",
   "execution_count": null,
   "metadata": {},
   "outputs": [],
   "source": []
  }
 ],
 "metadata": {
  "kernelspec": {
   "display_name": "Python 3",
   "language": "python",
   "name": "python3"
  },
  "language_info": {
   "codemirror_mode": {
    "name": "ipython",
    "version": 3
   },
   "file_extension": ".py",
   "mimetype": "text/x-python",
   "name": "python",
   "nbconvert_exporter": "python",
   "pygments_lexer": "ipython3",
   "version": "3.7.4"
  }
 },
 "nbformat": 4,
 "nbformat_minor": 2
}
