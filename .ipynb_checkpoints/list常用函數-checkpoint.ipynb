{
 "cells": [
  {
   "cell_type": "code",
   "execution_count": 3,
   "metadata": {},
   "outputs": [
    {
     "name": "stdout",
     "output_type": "stream",
     "text": [
      "#1: [49, 52, 13, 13, 13, 78, 24, 13, 100]\n",
      "#2: [49, 52, 13, 13, 13, 78, 24, 13, 100, 14, 5, 2]\n",
      "#3: [55, 49, 52, 13, 13, 13, 78, 24, 13, 100, 14, 5, 2]\n",
      "#4: [55, 49, 13, 13, 13, 78, 24, 13, 100, 14, 5, 2]\n",
      "#5: 78\n",
      "[55, 49, 13, 13, 13, 24, 13, 100, 14, 5, 2]\n",
      "#6: [2, 5, 14, 100, 13, 24, 13, 13, 13, 49, 55]\n",
      "#7: 4\n",
      "#8: 5\n",
      "4\n",
      "6\n",
      "#9: 11\n",
      "#10: 301\n",
      "#11: 2\n",
      "#12: 100\n",
      "#13: [100, 55, 49, 24, 14, 13, 13, 13, 13, 5, 2]\n",
      "#14: []\n"
     ]
    }
   ],
   "source": [
    "#Programming 101\n",
    "#week10\n",
    "#demo 1\n",
    "\n",
    "#List常用函數\n",
    "data3=[49,52,13,13,13,78,24,13]\n",
    "#1\n",
    "data3.append(100)\n",
    "print('#1:',data3)\n",
    "#2\n",
    "data3.extend([14,5,2])\n",
    "print('#2:',data3)\n",
    "#3\n",
    "data3.insert(0,55)\n",
    "print('#3:',data3)\n",
    "#4\n",
    "data3.remove(52)\n",
    "print('#4:',data3)\n",
    "#5\n",
    "ele5=data3.pop(5)\n",
    "print('#5:',ele5)\n",
    "print(data3)\n",
    "#6\n",
    "data3.reverse()\n",
    "print('#6:',data3)\n",
    "#7\n",
    "num13=data3.count(13)\n",
    "print('#7:',num13)\n",
    "#8\n",
    "i=data3.index(24)\n",
    "print('#8:',i)\n",
    "\n",
    "i_13=data3.index(13)\n",
    "print(i_13)\n",
    "i_13=data3.index(13,i_13+1)\n",
    "print(i_13)\n",
    "#9\n",
    "print('#9:',len(data3))\n",
    "#10\n",
    "print('#10:',sum(data3))\n",
    "#11\n",
    "print('#11:',min(data3))\n",
    "#12\n",
    "print('#12:',max(data3))\n",
    "#13\n",
    "data3_sorted=sorted(data3,reverse=True)\n",
    "print('#13:',data3_sorted)\n",
    "#14\n",
    "data3.clear()\n",
    "print('#14:',data3)\n",
    "\n"
   ]
  },
  {
   "cell_type": "code",
   "execution_count": null,
   "metadata": {},
   "outputs": [],
   "source": []
  }
 ],
 "metadata": {
  "kernelspec": {
   "display_name": "Python 3",
   "language": "python",
   "name": "python3"
  },
  "language_info": {
   "codemirror_mode": {
    "name": "ipython",
    "version": 3
   },
   "file_extension": ".py",
   "mimetype": "text/x-python",
   "name": "python",
   "nbconvert_exporter": "python",
   "pygments_lexer": "ipython3",
   "version": "3.7.4"
  }
 },
 "nbformat": 4,
 "nbformat_minor": 2
}
