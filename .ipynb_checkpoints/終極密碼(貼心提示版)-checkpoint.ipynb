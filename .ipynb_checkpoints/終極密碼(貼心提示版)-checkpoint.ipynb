{
 "cells": [
  {
   "cell_type": "code",
   "execution_count": 1,
   "metadata": {},
   "outputs": [],
   "source": [
    "%matplotlib inline\n",
    "import numpy as np"
   ]
  },
  {
   "cell_type": "code",
   "execution_count": null,
   "metadata": {},
   "outputs": [
    {
     "name": "stdout",
     "output_type": "stream",
     "text": [
      "請輸入1~1000中的任一整數\n",
      "7777\n",
      "眼幹是不是\n",
      "跟你說要輸入1到1000的數\n",
      "666\n",
      "比666再大唷嘿嘿嘿\n",
      "請輸入667到1000的數\n",
      "666\n",
      "眼幹是不是\n",
      "跟你說要輸入667到1000的數\n"
     ]
    }
   ],
   "source": [
    "X=np.random.randint(1,1001)\n",
    "print(\"請輸入1~1000中的任一整數\")\n",
    "ans=0\n",
    "a=1\n",
    "b=1000\n",
    "while float(ans)!=X:\n",
    "    ans=input(\"\")\n",
    "    if a<=int(ans) and b>=int(ans):\n",
    "        if float(ans)<X:\n",
    "            a=int(ans)+1\n",
    "            print(\"比\"+ans+\"再大唷嘿嘿嘿\")\n",
    "            print(\"請輸入\"+str(a)+\"到\"+str(b)+\"的數\")\n",
    "        elif X<float(ans):\n",
    "            b=int(ans)-1\n",
    "            print(\"比\"+ans+\"還小呵呵呵\")\n",
    "            print(\"請輸入\"+str(a)+\"到\"+str(b)+\"的數\")\n",
    "        elif X ==float(ans):\n",
    "            print(\"哇，中了耶\")\n",
    "    else:\n",
    "        print(\"眼幹是不是\")\n",
    "        print(\"跟你說要輸入\"+str(a)+\"到\"+str(b)+\"的數\")"
   ]
  },
  {
   "cell_type": "code",
   "execution_count": null,
   "metadata": {},
   "outputs": [],
   "source": []
  }
 ],
 "metadata": {
  "kernelspec": {
   "display_name": "Python 3",
   "language": "python",
   "name": "python3"
  },
  "language_info": {
   "codemirror_mode": {
    "name": "ipython",
    "version": 3
   },
   "file_extension": ".py",
   "mimetype": "text/x-python",
   "name": "python",
   "nbconvert_exporter": "python",
   "pygments_lexer": "ipython3",
   "version": "3.7.4"
  }
 },
 "nbformat": 4,
 "nbformat_minor": 2
}
