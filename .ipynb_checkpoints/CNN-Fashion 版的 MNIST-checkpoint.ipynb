{
 "cells": [
  {
   "cell_type": "code",
   "execution_count": 1,
   "metadata": {},
   "outputs": [],
   "source": [
    "%matplotlib inline\n",
    "import numpy as np\n",
    "import matplotlib.pyplot as plt\n",
    "import pandas as pd"
   ]
  },
  {
   "cell_type": "code",
   "execution_count": 2,
   "metadata": {},
   "outputs": [],
   "source": [
    "from tensorflow.keras.datasets import fashion_mnist\n",
    "(x_train, y_train), (x_test, y_test) = fashion_mnist.load_data()"
   ]
  },
  {
   "cell_type": "code",
   "execution_count": 3,
   "metadata": {},
   "outputs": [
    {
     "data": {
      "text/plain": [
       "(60000, 28, 28)"
      ]
     },
     "execution_count": 3,
     "metadata": {},
     "output_type": "execute_result"
    }
   ],
   "source": [
    "x_train.shape"
   ]
  },
  {
   "cell_type": "code",
   "execution_count": 4,
   "metadata": {},
   "outputs": [],
   "source": [
    "x_train=x_train.reshape(60000,28,28,1)/255\n",
    "x_test=x_test.reshape(10000,28,28,1)/255"
   ]
  },
  {
   "cell_type": "code",
   "execution_count": 5,
   "metadata": {},
   "outputs": [
    {
     "data": {
      "text/plain": [
       "(28, 28, 1)"
      ]
     },
     "execution_count": 5,
     "metadata": {},
     "output_type": "execute_result"
    }
   ],
   "source": [
    "x_train[8787].shape"
   ]
  },
  {
   "cell_type": "code",
   "execution_count": 6,
   "metadata": {},
   "outputs": [],
   "source": [
    "from tensorflow.keras.utils import to_categorical"
   ]
  },
  {
   "cell_type": "code",
   "execution_count": 7,
   "metadata": {},
   "outputs": [],
   "source": [
    "y_train=to_categorical(y_train,10)\n",
    "y_test=to_categorical(y_test,10)"
   ]
  },
  {
   "cell_type": "code",
   "execution_count": 8,
   "metadata": {},
   "outputs": [],
   "source": [
    "from tensorflow.keras.models import Sequential\n",
    "from tensorflow.keras.layers import Dense, Flatten\n",
    "from tensorflow.keras.optimizers import SGD\n",
    "from tensorflow.keras.layers import Conv2D, MaxPooling2D"
   ]
  },
  {
   "cell_type": "code",
   "execution_count": 9,
   "metadata": {},
   "outputs": [],
   "source": [
    "model=Sequential()"
   ]
  },
  {
   "cell_type": "code",
   "execution_count": 10,
   "metadata": {},
   "outputs": [],
   "source": [
    "model.add(Conv2D(32,(3,3),padding=\"same\",input_shape=(28,28,1),activation=\"relu\"))"
   ]
  },
  {
   "cell_type": "code",
   "execution_count": 11,
   "metadata": {},
   "outputs": [],
   "source": [
    "model.add(MaxPooling2D(pool_size=(2,2)))"
   ]
  },
  {
   "cell_type": "code",
   "execution_count": 12,
   "metadata": {},
   "outputs": [],
   "source": [
    "model.add(Conv2D(64,(3,3),padding=\"same\",activation=\"relu\"))"
   ]
  },
  {
   "cell_type": "code",
   "execution_count": 13,
   "metadata": {},
   "outputs": [],
   "source": [
    "model.add(MaxPooling2D(pool_size=(2,2)))"
   ]
  },
  {
   "cell_type": "code",
   "execution_count": 14,
   "metadata": {},
   "outputs": [],
   "source": [
    "model.add(Conv2D(128,(3,3),padding=\"same\",activation=\"relu\"))"
   ]
  },
  {
   "cell_type": "code",
   "execution_count": 15,
   "metadata": {},
   "outputs": [],
   "source": [
    "model.add(MaxPooling2D(pool_size=(2,2)))"
   ]
  },
  {
   "cell_type": "code",
   "execution_count": 16,
   "metadata": {},
   "outputs": [],
   "source": [
    "model.add(Flatten())"
   ]
  },
  {
   "cell_type": "code",
   "execution_count": 17,
   "metadata": {},
   "outputs": [],
   "source": [
    "model.add(Dense(66,activation=\"relu\"))\n",
    "model.add(Dense(66,activation=\"relu\"))"
   ]
  },
  {
   "cell_type": "code",
   "execution_count": 18,
   "metadata": {},
   "outputs": [],
   "source": [
    "model.add(Dense(10,activation=\"softmax\"))"
   ]
  },
  {
   "cell_type": "code",
   "execution_count": 19,
   "metadata": {},
   "outputs": [
    {
     "name": "stdout",
     "output_type": "stream",
     "text": [
      "Model: \"sequential\"\n",
      "_________________________________________________________________\n",
      "Layer (type)                 Output Shape              Param #   \n",
      "=================================================================\n",
      "conv2d (Conv2D)              (None, 28, 28, 32)        320       \n",
      "_________________________________________________________________\n",
      "max_pooling2d (MaxPooling2D) (None, 14, 14, 32)        0         \n",
      "_________________________________________________________________\n",
      "conv2d_1 (Conv2D)            (None, 14, 14, 64)        18496     \n",
      "_________________________________________________________________\n",
      "max_pooling2d_1 (MaxPooling2 (None, 7, 7, 64)          0         \n",
      "_________________________________________________________________\n",
      "conv2d_2 (Conv2D)            (None, 7, 7, 128)         73856     \n",
      "_________________________________________________________________\n",
      "max_pooling2d_2 (MaxPooling2 (None, 3, 3, 128)         0         \n",
      "_________________________________________________________________\n",
      "flatten (Flatten)            (None, 1152)              0         \n",
      "_________________________________________________________________\n",
      "dense (Dense)                (None, 66)                76098     \n",
      "_________________________________________________________________\n",
      "dense_1 (Dense)              (None, 66)                4422      \n",
      "_________________________________________________________________\n",
      "dense_2 (Dense)              (None, 10)                670       \n",
      "=================================================================\n",
      "Total params: 173,862\n",
      "Trainable params: 173,862\n",
      "Non-trainable params: 0\n",
      "_________________________________________________________________\n"
     ]
    }
   ],
   "source": [
    "model.summary()"
   ]
  },
  {
   "cell_type": "code",
   "execution_count": 20,
   "metadata": {},
   "outputs": [],
   "source": [
    "model.compile(loss=\"mse\",optimizer=SGD(lr=0.092),metrics=[\"accuracy\"])"
   ]
  },
  {
   "cell_type": "code",
   "execution_count": 21,
   "metadata": {},
   "outputs": [
    {
     "name": "stdout",
     "output_type": "stream",
     "text": [
      "Train on 60000 samples\n",
      "Epoch 1/11\n",
      "60000/60000 [==============================] - 107s 2ms/sample - loss: 0.0898 - accuracy: 0.1588\n",
      "Epoch 2/11\n",
      "60000/60000 [==============================] - 107s 2ms/sample - loss: 0.0893 - accuracy: 0.3278\n",
      "Epoch 3/11\n",
      "60000/60000 [==============================] - 107s 2ms/sample - loss: 0.0878 - accuracy: 0.4133\n",
      "Epoch 4/11\n",
      "60000/60000 [==============================] - 106s 2ms/sample - loss: 0.0678 - accuracy: 0.5132\n",
      "Epoch 5/11\n",
      "60000/60000 [==============================] - 110s 2ms/sample - loss: 0.0445 - accuracy: 0.6625\n",
      "Epoch 6/11\n",
      "60000/60000 [==============================] - 111s 2ms/sample - loss: 0.0386 - accuracy: 0.7172\n",
      "Epoch 7/11\n",
      "60000/60000 [==============================] - 110s 2ms/sample - loss: 0.0351 - accuracy: 0.7476\n",
      "Epoch 8/11\n",
      "60000/60000 [==============================] - 110s 2ms/sample - loss: 0.0325 - accuracy: 0.7699\n",
      "Epoch 9/11\n",
      "60000/60000 [==============================] - 109s 2ms/sample - loss: 0.0309 - accuracy: 0.7833\n",
      "Epoch 10/11\n",
      "60000/60000 [==============================] - 107s 2ms/sample - loss: 0.0296 - accuracy: 0.7922\n",
      "Epoch 11/11\n",
      "60000/60000 [==============================] - 107s 2ms/sample - loss: 0.0282 - accuracy: 0.8036\n"
     ]
    },
    {
     "data": {
      "text/plain": [
       "<tensorflow.python.keras.callbacks.History at 0x22d08c01388>"
      ]
     },
     "execution_count": 21,
     "metadata": {},
     "output_type": "execute_result"
    }
   ],
   "source": [
    "model.fit(x_train,y_train,batch_size=121,epochs=11)"
   ]
  },
  {
   "cell_type": "code",
   "execution_count": 22,
   "metadata": {},
   "outputs": [
    {
     "name": "stdout",
     "output_type": "stream",
     "text": [
      "Train on 60000 samples\n",
      "Epoch 1/7\n",
      "60000/60000 [==============================] - 111s 2ms/sample - loss: 0.0274 - accuracy: 0.8080\n",
      "Epoch 2/7\n",
      "60000/60000 [==============================] - 110s 2ms/sample - loss: 0.0262 - accuracy: 0.8176\n",
      "Epoch 3/7\n",
      "60000/60000 [==============================] - 111s 2ms/sample - loss: 0.0252 - accuracy: 0.8248\n",
      "Epoch 4/7\n",
      "60000/60000 [==============================] - 112s 2ms/sample - loss: 0.0244 - accuracy: 0.8307 - los - ETA: 2s - los\n",
      "Epoch 5/7\n",
      "60000/60000 [==============================] - 111s 2ms/sample - loss: 0.0235 - accuracy: 0.8376\n",
      "Epoch 6/7\n",
      "60000/60000 [==============================] - 110s 2ms/sample - loss: 0.0228 - accuracy: 0.8423\n",
      "Epoch 7/7\n",
      "60000/60000 [==============================] - 109s 2ms/sample - loss: 0.0222 - accuracy: 0.8459\n"
     ]
    },
    {
     "data": {
      "text/plain": [
       "<tensorflow.python.keras.callbacks.History at 0x22d2eb7c2c8>"
      ]
     },
     "execution_count": 22,
     "metadata": {},
     "output_type": "execute_result"
    }
   ],
   "source": [
    "model.fit(x_train,y_train,batch_size=100,epochs=7)"
   ]
  },
  {
   "cell_type": "code",
   "execution_count": 23,
   "metadata": {},
   "outputs": [
    {
     "name": "stdout",
     "output_type": "stream",
     "text": [
      "Train on 60000 samples\n",
      "Epoch 1/9\n",
      "60000/60000 [==============================] - 108s 2ms/sample - loss: 0.0215 - accuracy: 0.8520\n",
      "Epoch 2/9\n",
      "60000/60000 [==============================] - 110s 2ms/sample - loss: 0.0210 - accuracy: 0.8561\n",
      "Epoch 3/9\n",
      "60000/60000 [==============================] - 109s 2ms/sample - loss: 0.0207 - accuracy: 0.8587\n",
      "Epoch 4/9\n",
      "60000/60000 [==============================] - 110s 2ms/sample - loss: 0.0202 - accuracy: 0.8609\n",
      "Epoch 5/9\n",
      "60000/60000 [==============================] - 108s 2ms/sample - loss: 0.0199 - accuracy: 0.8636 - los\n",
      "Epoch 6/9\n",
      "60000/60000 [==============================] - 109s 2ms/sample - loss: 0.0195 - accuracy: 0.8662\n",
      "Epoch 7/9\n",
      "60000/60000 [==============================] - 110s 2ms/sample - loss: 0.0193 - accuracy: 0.8675\n",
      "Epoch 8/9\n",
      "60000/60000 [==============================] - 110s 2ms/sample - loss: 0.0190 - accuracy: 0.8706\n",
      "Epoch 9/9\n",
      "60000/60000 [==============================] - 110s 2ms/sample - loss: 0.0186 - accuracy: 0.8735\n"
     ]
    },
    {
     "data": {
      "text/plain": [
       "<tensorflow.python.keras.callbacks.History at 0x22d2ed601c8>"
      ]
     },
     "execution_count": 23,
     "metadata": {},
     "output_type": "execute_result"
    }
   ],
   "source": [
    "model.fit(x_train,y_train,batch_size=110,epochs=9)"
   ]
  },
  {
   "cell_type": "code",
   "execution_count": 24,
   "metadata": {},
   "outputs": [
    {
     "name": "stdout",
     "output_type": "stream",
     "text": [
      "Train on 60000 samples\n",
      "Epoch 1/6\n",
      "60000/60000 [==============================] - 98s 2ms/sample - loss: 0.0179 - accuracy: 0.8783\n",
      "Epoch 2/6\n",
      "60000/60000 [==============================] - 97s 2ms/sample - loss: 0.0178 - accuracy: 0.8782\n",
      "Epoch 3/6\n",
      "60000/60000 [==============================] - 97s 2ms/sample - loss: 0.0177 - accuracy: 0.8793\n",
      "Epoch 4/6\n",
      "60000/60000 [==============================] - 97s 2ms/sample - loss: 0.0176 - accuracy: 0.8806\n",
      "Epoch 5/6\n",
      "60000/60000 [==============================] - 95s 2ms/sample - loss: 0.0175 - accuracy: 0.8813\n",
      "Epoch 6/6\n",
      "60000/60000 [==============================] - 97s 2ms/sample - loss: 0.0173 - accuracy: 0.8819\n"
     ]
    },
    {
     "data": {
      "text/plain": [
       "<tensorflow.python.keras.callbacks.History at 0x22d2edae088>"
      ]
     },
     "execution_count": 24,
     "metadata": {},
     "output_type": "execute_result"
    }
   ],
   "source": [
    "model.fit(x_train,y_train,batch_size=200,epochs=6)"
   ]
  },
  {
   "cell_type": "code",
   "execution_count": 25,
   "metadata": {},
   "outputs": [],
   "source": [
    "result=model.predict_classes(x_test)"
   ]
  },
  {
   "cell_type": "code",
   "execution_count": 29,
   "metadata": {},
   "outputs": [],
   "source": [
    "class_names = ['T-shirt/top', 'Trouser', 'Pullover', 'Dress', 'Coat',\n",
    "               'Sandal', 'Shirt', 'Sneaker', 'Bag', 'Ankle boot']\n",
    "def mypre(n):\n",
    "    print(\"CNN預測是\",class_names[result[n]])\n",
    "    x=x_test[n].reshape(28,28)\n",
    "    plt.imshow(x,cmap=\"Greys\")"
   ]
  },
  {
   "cell_type": "code",
   "execution_count": 30,
   "metadata": {},
   "outputs": [
    {
     "name": "stdout",
     "output_type": "stream",
     "text": [
      "CNN預測是 Coat\n"
     ]
    },
    {
     "data": {
      "image/png": "[encoded data removed]",
      "text/plain": [
       "<Figure size 432x288 with 1 Axes>"
      ]
     },
     "metadata": {
      "needs_background": "light"
     },
     "output_type": "display_data"
    }
   ],
   "source": [
    "mypre(877)"
   ]
  },
  {
   "cell_type": "code",
   "execution_count": 31,
   "metadata": {},
   "outputs": [
    {
     "name": "stdout",
     "output_type": "stream",
     "text": [
      "CNN預測是 Dress\n"
     ]
    },
    {
     "data": {
      "image/png": "[encoded data removed]",
      "text/plain": [
       "<Figure size 432x288 with 1 Axes>"
      ]
     },
     "metadata": {
      "needs_background": "light"
     },
     "output_type": "display_data"
    }
   ],
   "source": [
    "mypre(9898)"
   ]
  },
  {
   "cell_type": "code",
   "execution_count": 32,
   "metadata": {},
   "outputs": [
    {
     "data": {
      "application/vnd.jupyter.widget-view+json": {
       "model_id": "099144ebaba34130b96b6510188cbf91",
       "version_major": 2,
       "version_minor": 0
      },
      "text/plain": [
       "interactive(children=(IntSlider(value=4999, description='n', max=9999), Button(description='Run Interact', sty…"
      ]
     },
     "metadata": {},
     "output_type": "display_data"
    },
    {
     "data": {
      "text/plain": [
       "<function __main__.mypre(n)>"
      ]
     },
     "execution_count": 32,
     "metadata": {},
     "output_type": "execute_result"
    }
   ],
   "source": [
    "from ipywidgets import interact_manual\n",
    "interact_manual(mypre,n=(0,9999))"
   ]
  },
  {
   "cell_type": "code",
   "execution_count": 33,
   "metadata": {},
   "outputs": [
    {
     "name": "stdout",
     "output_type": "stream",
     "text": [
      "10000/10000 [==============================] - 8s 759us/sample - loss: 0.0189 - accuracy: 0.8682\n"
     ]
    }
   ],
   "source": [
    "score=model.evaluate(x_test,y_test)"
   ]
  },
  {
   "cell_type": "code",
   "execution_count": 34,
   "metadata": {},
   "outputs": [],
   "source": [
    "loss,acc=score"
   ]
  },
  {
   "cell_type": "code",
   "execution_count": 35,
   "metadata": {},
   "outputs": [
    {
     "name": "stdout",
     "output_type": "stream",
     "text": [
      "測試資料正確率為 0.8682\n"
     ]
    }
   ],
   "source": [
    "print(\"測試資料正確率為\",acc)"
   ]
  },
  {
   "cell_type": "code",
   "execution_count": 36,
   "metadata": {},
   "outputs": [],
   "source": [
    "model.save(\"myCNNmodel.h5\")"
   ]
  },
  {
   "cell_type": "markdown",
   "metadata": {},
   "source": [
    "## 更改的部分"
   ]
  },
  {
   "cell_type": "markdown",
   "metadata": {},
   "source": [
    "* Filter數量依序改為32，64,128\n",
    "* 隱藏層變成兩層，並有66個神經元\n",
    "* optimizer=SGD(lr=0.092)\n",
    "* model.fit做了四次，每次的batch_size和epochs都不一樣"
   ]
  },
  {
   "cell_type": "code",
   "execution_count": null,
   "metadata": {},
   "outputs": [],
   "source": []
  }
 ],
 "metadata": {
  "kernelspec": {
   "display_name": "Python 3",
   "language": "python",
   "name": "python3"
  },
  "language_info": {
   "codemirror_mode": {
    "name": "ipython",
    "version": 3
   },
   "file_extension": ".py",
   "mimetype": "text/x-python",
   "name": "python",
   "nbconvert_exporter": "python",
   "pygments_lexer": "ipython3",
   "version": "3.7.4"
  }
 },
 "nbformat": 4,
 "nbformat_minor": 2
}
