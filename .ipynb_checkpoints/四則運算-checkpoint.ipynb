{
 "cells": [
  {
   "cell_type": "code",
   "execution_count": 2,
   "metadata": {},
   "outputs": [
    {
     "name": "stdout",
     "output_type": "stream",
     "text": [
      "運算方法功能選單\n",
      "0:離開程式\n",
      "1:加法\n",
      "2:減法\n",
      "3:乘法\n",
      "4:除法\n",
      "請輸入0/1/2/3/4: 5\n",
      "輸入的並非選項之一\n",
      "運算方法功能選單\n",
      "0:離開程式\n",
      "1:加法\n",
      "2:減法\n",
      "3:乘法\n",
      "4:除法\n",
      "請輸入0/1/2/3/4: 3\n",
      "a = 2\n",
      "b = t\n",
      "請輸入阿拉伯數字\n",
      "運算方法功能選單\n",
      "0:離開程式\n",
      "1:加法\n",
      "2:減法\n",
      "3:乘法\n",
      "4:除法\n",
      "請輸入0/1/2/3/4: 2\n",
      "a = 3\n",
      "b = 4\n",
      "a - b =  -1.0\n",
      "運算方法功能選單\n",
      "0:離開程式\n",
      "1:加法\n",
      "2:減法\n",
      "3:乘法\n",
      "4:除法\n",
      "請輸入0/1/2/3/4: 0\n",
      "離開程式\n"
     ]
    }
   ],
   "source": [
    "def subtract(x1, x2):\n",
    "    return x1 - x2                     \n",
    "def addition(x1, x2):\n",
    "    return x1 + x2                     \n",
    "def product(x1, x2):\n",
    "    return x1 * x2\n",
    "def division(x1, x2):\n",
    "    return x1 / x2\n",
    "op=\"\"\n",
    "while op != \"0\":\n",
    "    print(\"運算方法功能選單\")\n",
    "    print(\"0:離開程式\")\n",
    "    print(\"1:加法\")\n",
    "    print(\"2:減法\")\n",
    "    print(\"3:乘法\")\n",
    "    print(\"4:除法\")\n",
    "    op = (input(\"請輸入0/1/2/3/4: \"))\n",
    "    if op == \"0\":\n",
    "        print(\"離開程式\")\n",
    "    elif op==\"1\" or op==\"2\" or op==\"3\" or op==\"4\":\n",
    "            try:\n",
    "                a = float(input(\"a = \"))\n",
    "                b = float(input(\"b = \"))\n",
    "                if op == \"1\":\n",
    "                    print(\"a + b = \", addition(a, b))   \n",
    "                elif op == \"2\":\n",
    "                    print(\"a - b = \", subtract(a, b))   \n",
    "                elif op == \"3\":\n",
    "                    print(\"a * b = \", product(a, b))\n",
    "                elif op == \"4\":\n",
    "                    if b!=0:\n",
    "                        print(\"a / b =\", division(a, b))\n",
    "                    elif b==0:\n",
    "                        print(\"b不可為0\")\n",
    "            except ValueError:\n",
    "                print(\"請輸入阿拉伯數字\")\n",
    "    else:\n",
    "        print(\"輸入的並非選項之一\")\n"
   ]
  },
  {
   "cell_type": "code",
   "execution_count": null,
   "metadata": {},
   "outputs": [],
   "source": []
  }
 ],
 "metadata": {
  "kernelspec": {
   "display_name": "Python 3",
   "language": "python",
   "name": "python3"
  },
  "language_info": {
   "codemirror_mode": {
    "name": "ipython",
    "version": 3
   },
   "file_extension": ".py",
   "mimetype": "text/x-python",
   "name": "python",
   "nbconvert_exporter": "python",
   "pygments_lexer": "ipython3",
   "version": "3.7.4"
  }
 },
 "nbformat": 4,
 "nbformat_minor": 2
}
