{
 "cells": [
  {
   "cell_type": "code",
   "execution_count": 1,
   "metadata": {},
   "outputs": [],
   "source": [
    "%matplotlib inline\n",
    "import numpy as np\n"
   ]
  },
  {
   "cell_type": "code",
   "execution_count": 19,
   "metadata": {},
   "outputs": [],
   "source": [
    "def p(X,Y):\n",
    "    np.random.shuffle(X)\n",
    "    np.random.shuffle(Y)\n",
    "    for i in range(len(X)):\n",
    "        print(X[i]+\"配\"+Y[i])"
   ]
  },
  {
   "cell_type": "markdown",
   "metadata": {},
   "source": [
    "測試:"
   ]
  },
  {
   "cell_type": "code",
   "execution_count": 21,
   "metadata": {},
   "outputs": [
    {
     "name": "stdout",
     "output_type": "stream",
     "text": [
      "壬配倒垃圾\n",
      "甲配掃地\n",
      "戊配拖地\n",
      "丁配洗碗\n",
      "丙配擦窗戶\n",
      "癸配收衣服\n",
      "己配買便當\n",
      "乙配通馬桶\n",
      "辛配洗衣服\n",
      "庚配耍廢\n"
     ]
    }
   ],
   "source": [
    "X=['甲','乙','丙','丁','戊','己','庚','辛','壬','癸']\n",
    "Y=['掃地','買便當','擦窗戶','通馬桶','耍廢','拖地','洗碗','洗衣服','收衣服','倒垃圾']\n",
    "p(X,Y)"
   ]
  },
  {
   "cell_type": "code",
   "execution_count": null,
   "metadata": {},
   "outputs": [],
   "source": []
  }
 ],
 "metadata": {
  "kernelspec": {
   "display_name": "Python 3",
   "language": "python",
   "name": "python3"
  },
  "language_info": {
   "codemirror_mode": {
    "name": "ipython",
    "version": 3
   },
   "file_extension": ".py",
   "mimetype": "text/x-python",
   "name": "python",
   "nbconvert_exporter": "python",
   "pygments_lexer": "ipython3",
   "version": "3.7.4"
  }
 },
 "nbformat": 4,
 "nbformat_minor": 2
}
