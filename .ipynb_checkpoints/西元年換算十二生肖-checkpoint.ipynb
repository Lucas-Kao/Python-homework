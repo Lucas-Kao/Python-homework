{
 "cells": [
  {
   "cell_type": "code",
   "execution_count": 2,
   "metadata": {},
   "outputs": [],
   "source": [
    "%matplotlib inline\n",
    "import numpy as np"
   ]
  },
  {
   "cell_type": "code",
   "execution_count": 23,
   "metadata": {},
   "outputs": [],
   "source": [
    "def S(X):\n",
    "    for i in range(-99999,99999):\n",
    "        if X==(2020+12*i):\n",
    "            return(\"鼠\")\n",
    "        elif X==(2021+12*i):\n",
    "            return(\"牛\")\n",
    "        elif X==(2022+12*i):\n",
    "            return(\"虎\")\n",
    "        elif X==(2023+12*i):\n",
    "            return(\"兔\")\n",
    "        elif X==(2024+12*i):\n",
    "            return(\"龍\")\n",
    "        elif X==(2025+12*i):\n",
    "            return(\"蛇\")\n",
    "        elif X==(2026+12*i):\n",
    "            return(\"馬\")\n",
    "        elif X==(2027+12*i):\n",
    "            return(\"羊\")\n",
    "        elif X==(2028+12*i):\n",
    "            return(\"猴\")\n",
    "        elif X==(2029+12*i):\n",
    "            return(\"雞\")\n",
    "        elif X==(2030+12*i):\n",
    "            return(\"狗\")\n",
    "        elif X==(2031+12*i):\n",
    "            return(\"豬\")"
   ]
  },
  {
   "cell_type": "code",
   "execution_count": 24,
   "metadata": {},
   "outputs": [
    {
     "data": {
      "text/plain": [
       "'豬'"
      ]
     },
     "execution_count": 24,
     "metadata": {},
     "output_type": "execute_result"
    }
   ],
   "source": [
    "S(99999)"
   ]
  },
  {
   "cell_type": "code",
   "execution_count": null,
   "metadata": {},
   "outputs": [],
   "source": []
  }
 ],
 "metadata": {
  "kernelspec": {
   "display_name": "Python 3",
   "language": "python",
   "name": "python3"
  },
  "language_info": {
   "codemirror_mode": {
    "name": "ipython",
    "version": 3
   },
   "file_extension": ".py",
   "mimetype": "text/x-python",
   "name": "python",
   "nbconvert_exporter": "python",
   "pygments_lexer": "ipython3",
   "version": "3.7.4"
  }
 },
 "nbformat": 4,
 "nbformat_minor": 2
}
