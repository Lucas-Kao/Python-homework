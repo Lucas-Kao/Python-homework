{
 "cells": [
  {
   "cell_type": "markdown",
   "metadata": {},
   "source": [
    "## 讀入套件\n"
   ]
  },
  {
   "cell_type": "code",
   "execution_count": 26,
   "metadata": {},
   "outputs": [],
   "source": [
    "import matplotlib.pyplot as plt\n",
    "import numpy as np\n",
    "from tensorflow.keras.models import Sequential\n",
    "from tensorflow.keras.layers import Dense\n",
    "from tensorflow.keras.layers import Flatten\n",
    "from tensorflow.keras.layers import Conv2D, MaxPool2D, GlobalAveragePooling2D\n",
    "from tensorflow.keras.optimizers import SGD, Adam\n",
    "from tensorflow.keras import datasets\n",
    "from tensorflow.keras.utils import to_categorical"
   ]
  },
  {
   "cell_type": "markdown",
   "metadata": {},
   "source": [
    "## 讀入fashion_mnist數據集"
   ]
  },
  {
   "cell_type": "code",
   "execution_count": 5,
   "metadata": {},
   "outputs": [],
   "source": [
    "from tensorflow.keras.datasets import fashion_mnist\n",
    "(x_train, y_train), (x_test, y_test) = fashion_mnist.load_data()\n",
    "class_names = ['T-shirt/top', 'Trouser', 'Pullover', 'Dress', 'Coat',\n",
    "               'Sandal', 'Shirt', 'Sneaker', 'Bag', 'Ankle boot']"
   ]
  },
  {
   "cell_type": "markdown",
   "metadata": {},
   "source": [
    "## 查看數據集"
   ]
  },
  {
   "cell_type": "code",
   "execution_count": 6,
   "metadata": {},
   "outputs": [
    {
     "data": {
      "text/plain": [
       "60000"
      ]
     },
     "execution_count": 6,
     "metadata": {},
     "output_type": "execute_result"
    }
   ],
   "source": [
    "len(x_train)"
   ]
  },
  {
   "cell_type": "code",
   "execution_count": 7,
   "metadata": {},
   "outputs": [
    {
     "data": {
      "text/plain": [
       "60000"
      ]
     },
     "execution_count": 7,
     "metadata": {},
     "output_type": "execute_result"
    }
   ],
   "source": [
    "len(y_train)"
   ]
  },
  {
   "cell_type": "code",
   "execution_count": 9,
   "metadata": {},
   "outputs": [
    {
     "data": {
      "text/plain": [
       "10000"
      ]
     },
     "execution_count": 9,
     "metadata": {},
     "output_type": "execute_result"
    }
   ],
   "source": [
    "len(x_test)"
   ]
  },
  {
   "cell_type": "code",
   "execution_count": 10,
   "metadata": {},
   "outputs": [
    {
     "data": {
      "text/plain": [
       "10000"
      ]
     },
     "execution_count": 10,
     "metadata": {},
     "output_type": "execute_result"
    }
   ],
   "source": [
    "len(y_test)"
   ]
  },
  {
   "cell_type": "code",
   "execution_count": 23,
   "metadata": {},
   "outputs": [
    {
     "name": "stdout",
     "output_type": "stream",
     "text": [
      "Trouser\n"
     ]
    },
    {
     "data": {
      "image/png": "[encoded data removed]",
      "text/plain": [
       "<Figure size 432x288 with 1 Axes>"
      ]
     },
     "metadata": {
      "needs_background": "light"
     },
     "output_type": "display_data"
    }
   ],
   "source": [
    "print(class_names[y_train[2617]])\n",
    "plt.imshow(x_train[2617],cmap='Purples');"
   ]
  },
  {
   "cell_type": "markdown",
   "metadata": {},
   "source": [
    "## 整理資料"
   ]
  },
  {
   "cell_type": "code",
   "execution_count": 24,
   "metadata": {},
   "outputs": [],
   "source": [
    "#normalize\n",
    "x_train=x_train/255\n",
    "x_test=x_test/255\n",
    "x_train=x_train.reshape(60000,28,28,1)\n",
    "x_test=x_test.reshape(10000,28,28,1)\n",
    "#one-hot encoding\n",
    "y_train=to_categorical(y_train,10)\n",
    "y_test=to_categorical(y_train,10)"
   ]
  },
  {
   "cell_type": "markdown",
   "metadata": {},
   "source": [
    "## 建立卷積神經網路與模型"
   ]
  },
  {
   "cell_type": "code",
   "execution_count": 29,
   "metadata": {},
   "outputs": [],
   "source": [
    "CNNlayer=[Conv2D(32, (3, 3), padding='same', input_shape=(28, 28, 1), activation='relu'),\n",
    "              MaxPool2D(pool_size = (2,2)),\n",
    "              Conv2D(64, (3, 3), padding='same', activation='relu'),\n",
    "              MaxPool2D(pool_size = (2,2)),\n",
    "              Conv2D(128, (3, 3), padding='same', activation='relu'),\n",
    "              MaxPool2D(pool_size = (2,2))]\n",
    "\n",
    "FClayer=[Flatten(),\n",
    "        Dense(units=128, activation='relu'),\n",
    "        Dense(units=10, activation='softmax')]\n",
    "\n",
    "modelfa= Sequential(CNNlayer+FClayer)\n"
   ]
  },
  {
   "cell_type": "markdown",
   "metadata": {},
   "source": [
    "## 模型架構"
   ]
  },
  {
   "cell_type": "code",
   "execution_count": 30,
   "metadata": {},
   "outputs": [
    {
     "name": "stdout",
     "output_type": "stream",
     "text": [
      "Model: \"sequential\"\n",
      "_________________________________________________________________\n",
      "Layer (type)                 Output Shape              Param #   \n",
      "=================================================================\n",
      "conv2d_5 (Conv2D)            (None, 28, 28, 32)        320       \n",
      "_________________________________________________________________\n",
      "max_pooling2d_3 (MaxPooling2 (None, 14, 14, 32)        0         \n",
      "_________________________________________________________________\n",
      "conv2d_6 (Conv2D)            (None, 14, 14, 64)        18496     \n",
      "_________________________________________________________________\n",
      "max_pooling2d_4 (MaxPooling2 (None, 7, 7, 64)          0         \n",
      "_________________________________________________________________\n",
      "conv2d_7 (Conv2D)            (None, 7, 7, 128)         73856     \n",
      "_________________________________________________________________\n",
      "max_pooling2d_5 (MaxPooling2 (None, 3, 3, 128)         0         \n",
      "_________________________________________________________________\n",
      "flatten_1 (Flatten)          (None, 1152)              0         \n",
      "_________________________________________________________________\n",
      "dense_2 (Dense)              (None, 128)               147584    \n",
      "_________________________________________________________________\n",
      "dense_3 (Dense)              (None, 10)                1290      \n",
      "=================================================================\n",
      "Total params: 241,546\n",
      "Trainable params: 241,546\n",
      "Non-trainable params: 0\n",
      "_________________________________________________________________\n"
     ]
    }
   ],
   "source": [
    "modelfa.summary()"
   ]
  },
  {
   "cell_type": "markdown",
   "metadata": {},
   "source": [
    "## 組裝神經網路並訓練模型"
   ]
  },
  {
   "cell_type": "code",
   "execution_count": 33,
   "metadata": {},
   "outputs": [
    {
     "name": "stdout",
     "output_type": "stream",
     "text": [
      "Train on 60000 samples\n",
      "Epoch 1/10\n",
      "60000/60000 [==============================] - 109s 2ms/sample - loss: 0.0854 - accuracy: 0.3399\n",
      "Epoch 2/10\n",
      "60000/60000 [==============================] - 105s 2ms/sample - loss: 0.0741 - accuracy: 0.4461\n",
      "Epoch 3/10\n",
      "60000/60000 [==============================] - 107s 2ms/sample - loss: 0.0513 - accuracy: 0.6472\n",
      "Epoch 4/10\n",
      "60000/60000 [==============================] - 107s 2ms/sample - loss: 0.0422 - accuracy: 0.6970\n",
      "Epoch 5/10\n",
      "60000/60000 [==============================] - 108s 2ms/sample - loss: 0.0392 - accuracy: 0.7157\n",
      "Epoch 6/10\n",
      "60000/60000 [==============================] - 106s 2ms/sample - loss: 0.0370 - accuracy: 0.7351\n",
      "Epoch 7/10\n",
      "60000/60000 [==============================] - 107s 2ms/sample - loss: 0.0351 - accuracy: 0.7491\n",
      "Epoch 8/10\n",
      "60000/60000 [==============================] - 107s 2ms/sample - loss: 0.0338 - accuracy: 0.7608\n",
      "Epoch 9/10\n",
      "60000/60000 [==============================] - 108s 2ms/sample - loss: 0.0327 - accuracy: 0.7702\n",
      "Epoch 10/10\n",
      "60000/60000 [==============================] - 106s 2ms/sample - loss: 0.0317 - accuracy: 0.7792\n"
     ]
    },
    {
     "data": {
      "text/plain": [
       "<tensorflow.python.keras.callbacks.History at 0x27585e07488>"
      ]
     },
     "execution_count": 33,
     "metadata": {},
     "output_type": "execute_result"
    }
   ],
   "source": [
    "modelfa.compile(loss = 'mse', optimizer = SGD(lr = 0.0617), metrics = ['accuracy'])\n",
    "modelfa.fit(x_train,y_train,batch_size=200,epochs=10)\n"
   ]
  },
  {
   "cell_type": "markdown",
   "metadata": {},
   "source": [
    "## 查看準確率"
   ]
  },
  {
   "cell_type": "code",
   "execution_count": 34,
   "metadata": {},
   "outputs": [
    {
     "name": "stdout",
     "output_type": "stream",
     "text": [
      "60000/60000 [==============================] - 38s 641us/sample - loss: 0.0318 - accuracy: 0.7718\n"
     ]
    }
   ],
   "source": [
    "train_score = modelfa.evaluate(x_train, y_train)"
   ]
  },
  {
   "cell_type": "markdown",
   "metadata": {},
   "source": [
    "## 使用mnist數據集並整理"
   ]
  },
  {
   "cell_type": "code",
   "execution_count": 35,
   "metadata": {},
   "outputs": [],
   "source": [
    "from tensorflow.keras.datasets import mnist\n",
    "(u_train, v_train), (u_test, v_test) = mnist.load_data()\n",
    "\n",
    "u_train = u_train.reshape(60000, 28, 28, 1) / 255\n",
    "u_test = u_test.reshape(10000, 28, 28, 1) / 255\n",
    "\n",
    "v_train = to_categorical(v_train, 10)\n",
    "v_test = to_categorical(v_test, 10)"
   ]
  },
  {
   "cell_type": "markdown",
   "metadata": {},
   "source": [
    "## 建立新的FC層與新模型"
   ]
  },
  {
   "cell_type": "code",
   "execution_count": 36,
   "metadata": {},
   "outputs": [],
   "source": [
    "FClayer_new = [Flatten(),\n",
    "                Dense(66, activation = 'relu'),\n",
    "                Dense(88, activation = 'relu'),\n",
    "                Dense(10, activation = 'softmax')]\n",
    "\n",
    "model_new = Sequential(CNNlayer+FClayer_new)"
   ]
  },
  {
   "cell_type": "markdown",
   "metadata": {},
   "source": [
    "## 查看新模型架構"
   ]
  },
  {
   "cell_type": "code",
   "execution_count": 37,
   "metadata": {},
   "outputs": [
    {
     "name": "stdout",
     "output_type": "stream",
     "text": [
      "Model: \"sequential_1\"\n",
      "_________________________________________________________________\n",
      "Layer (type)                 Output Shape              Param #   \n",
      "=================================================================\n",
      "conv2d_5 (Conv2D)            (None, 28, 28, 32)        320       \n",
      "_________________________________________________________________\n",
      "max_pooling2d_3 (MaxPooling2 (None, 14, 14, 32)        0         \n",
      "_________________________________________________________________\n",
      "conv2d_6 (Conv2D)            (None, 14, 14, 64)        18496     \n",
      "_________________________________________________________________\n",
      "max_pooling2d_4 (MaxPooling2 (None, 7, 7, 64)          0         \n",
      "_________________________________________________________________\n",
      "conv2d_7 (Conv2D)            (None, 7, 7, 128)         73856     \n",
      "_________________________________________________________________\n",
      "max_pooling2d_5 (MaxPooling2 (None, 3, 3, 128)         0         \n",
      "_________________________________________________________________\n",
      "flatten_2 (Flatten)          (None, 1152)              0         \n",
      "_________________________________________________________________\n",
      "dense_4 (Dense)              (None, 66)                76098     \n",
      "_________________________________________________________________\n",
      "dense_5 (Dense)              (None, 88)                5896      \n",
      "_________________________________________________________________\n",
      "dense_6 (Dense)              (None, 10)                890       \n",
      "=================================================================\n",
      "Total params: 175,556\n",
      "Trainable params: 175,556\n",
      "Non-trainable params: 0\n",
      "_________________________________________________________________\n"
     ]
    }
   ],
   "source": [
    "model_new.summary()"
   ]
  },
  {
   "cell_type": "markdown",
   "metadata": {},
   "source": [
    "## 用frozen訓練方式"
   ]
  },
  {
   "cell_type": "code",
   "execution_count": 39,
   "metadata": {},
   "outputs": [],
   "source": [
    "for layer in CNNlayer:\n",
    "    layer.trainable = False"
   ]
  },
  {
   "cell_type": "code",
   "execution_count": 41,
   "metadata": {},
   "outputs": [
    {
     "name": "stdout",
     "output_type": "stream",
     "text": [
      "Train on 60000 samples\n",
      "Epoch 1/10\n",
      "60000/60000 [==============================] - 52s 860us/sample - loss: 0.0769 - accuracy: 0.3703\n",
      "Epoch 2/10\n",
      "60000/60000 [==============================] - 51s 854us/sample - loss: 0.0555 - accuracy: 0.6196\n",
      "Epoch 3/10\n",
      "60000/60000 [==============================] - 52s 860us/sample - loss: 0.0413 - accuracy: 0.7424\n",
      "Epoch 4/10\n",
      "60000/60000 [==============================] - 53s 876us/sample - loss: 0.0330 - accuracy: 0.8019- loss: 0.0330 - accuracy: \n",
      "Epoch 5/10\n",
      "60000/60000 [==============================] - 52s 869us/sample - loss: 0.0279 - accuracy: 0.8328\n",
      "Epoch 6/10\n",
      "60000/60000 [==============================] - 51s 854us/sample - loss: 0.0245 - accuracy: 0.8542\n",
      "Epoch 7/10\n",
      "60000/60000 [==============================] - 52s 868us/sample - loss: 0.0222 - accuracy: 0.8651\n",
      "Epoch 8/10\n",
      "60000/60000 [==============================] - 51s 856us/sample - loss: 0.0206 - accuracy: 0.8735\n",
      "Epoch 9/10\n",
      "60000/60000 [==============================] - 51s 858us/sample - loss: 0.0192 - accuracy: 0.8809\n",
      "Epoch 10/10\n",
      "60000/60000 [==============================] - 51s 853us/sample - loss: 0.0181 - accuracy: 0.8877\n"
     ]
    },
    {
     "data": {
      "text/plain": [
       "<tensorflow.python.keras.callbacks.History at 0x275b2a3ae48>"
      ]
     },
     "execution_count": 41,
     "metadata": {},
     "output_type": "execute_result"
    }
   ],
   "source": [
    "model_new.compile(loss = 'mse', optimizer = SGD(lr = 0.0617), metrics = ['accuracy'])\n",
    "model_new.fit(u_train, v_train, batch_size = 200, epochs =10)"
   ]
  },
  {
   "cell_type": "markdown",
   "metadata": {},
   "source": [
    "## 查看準確率"
   ]
  },
  {
   "cell_type": "code",
   "execution_count": 42,
   "metadata": {},
   "outputs": [
    {
     "name": "stdout",
     "output_type": "stream",
     "text": [
      "60000/60000 [==============================] - 42s 706us/sample - loss: 0.0174 - accuracy: 0.8918\n"
     ]
    }
   ],
   "source": [
    "train_score_new = model_new.evaluate(u_train, v_train)"
   ]
  },
  {
   "cell_type": "code",
   "execution_count": null,
   "metadata": {},
   "outputs": [],
   "source": []
  }
 ],
 "metadata": {
  "kernelspec": {
   "display_name": "Python 3",
   "language": "python",
   "name": "python3"
  },
  "language_info": {
   "codemirror_mode": {
    "name": "ipython",
    "version": 3
   },
   "file_extension": ".py",
   "mimetype": "text/x-python",
   "name": "python",
   "nbconvert_exporter": "python",
   "pygments_lexer": "ipython3",
   "version": "3.7.4"
  }
 },
 "nbformat": 4,
 "nbformat_minor": 2
}
