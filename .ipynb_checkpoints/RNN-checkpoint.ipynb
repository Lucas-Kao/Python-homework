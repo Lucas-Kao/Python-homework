{
 "cells": [
  {
   "cell_type": "code",
   "execution_count": 1,
   "metadata": {},
   "outputs": [],
   "source": [
    "%matplotlib inline\n",
    "import numpy as np\n",
    "import matplotlib.pyplot as plt\n",
    "import pandas as pd"
   ]
  },
  {
   "cell_type": "code",
   "execution_count": 2,
   "metadata": {},
   "outputs": [],
   "source": [
    "from tensorflow.keras.preprocessing import sequence\n",
    "from tensorflow.keras.models import Sequential\n",
    "from tensorflow.keras.layers import Dense, Embedding\n",
    "from tensorflow.keras.layers import LSTM\n",
    "from tensorflow.keras.datasets import imdb"
   ]
  },
  {
   "cell_type": "code",
   "execution_count": 3,
   "metadata": {},
   "outputs": [],
   "source": [
    "(x_train, y_train), (x_test, y_test) = imdb.load_data(num_words=10000)"
   ]
  },
  {
   "cell_type": "markdown",
   "metadata": {},
   "source": [
    "# maxlen 改 166"
   ]
  },
  {
   "cell_type": "code",
   "execution_count": 4,
   "metadata": {},
   "outputs": [],
   "source": [
    "x_train = sequence.pad_sequences(x_train, maxlen=166)\n",
    "x_test = sequence.pad_sequences(x_test, maxlen=166)"
   ]
  },
  {
   "cell_type": "code",
   "execution_count": 5,
   "metadata": {},
   "outputs": [],
   "source": [
    "model=Sequential()\n",
    "model.add(Embedding(10000, 128))"
   ]
  },
  {
   "cell_type": "markdown",
   "metadata": {},
   "source": [
    "# dropout 改 0.15"
   ]
  },
  {
   "cell_type": "code",
   "execution_count": 6,
   "metadata": {},
   "outputs": [],
   "source": [
    "model.add(LSTM(128, dropout=0.15, recurrent_dropout=0.15))\n",
    "model.add(Dense(1, activation='sigmoid'))"
   ]
  },
  {
   "cell_type": "code",
   "execution_count": 7,
   "metadata": {},
   "outputs": [],
   "source": [
    "model.compile(loss='binary_crossentropy',\n",
    "             optimizer='adam',\n",
    "             metrics=['accuracy'])"
   ]
  },
  {
   "cell_type": "code",
   "execution_count": 8,
   "metadata": {},
   "outputs": [
    {
     "name": "stdout",
     "output_type": "stream",
     "text": [
      "Model: \"sequential\"\n",
      "_________________________________________________________________\n",
      "Layer (type)                 Output Shape              Param #   \n",
      "=================================================================\n",
      "embedding (Embedding)        (None, None, 128)         1280000   \n",
      "_________________________________________________________________\n",
      "lstm (LSTM)                  (None, 128)               131584    \n",
      "_________________________________________________________________\n",
      "dense (Dense)                (None, 1)                 129       \n",
      "=================================================================\n",
      "Total params: 1,411,713\n",
      "Trainable params: 1,411,713\n",
      "Non-trainable params: 0\n",
      "_________________________________________________________________\n"
     ]
    }
   ],
   "source": [
    "model.summary()"
   ]
  },
  {
   "cell_type": "markdown",
   "metadata": {},
   "source": [
    "# batch size 改成30，epochs 改13"
   ]
  },
  {
   "cell_type": "code",
   "execution_count": 9,
   "metadata": {},
   "outputs": [
    {
     "name": "stdout",
     "output_type": "stream",
     "text": [
      "Train on 25000 samples, validate on 25000 samples\n",
      "Epoch 1/13\n",
      "25000/25000 [==============================] - 539s 22ms/sample - loss: 0.4966 - accuracy: 0.7615 - val_loss: 0.4574 - val_accuracy: 0.7903\n",
      "Epoch 2/13\n",
      "25000/25000 [==============================] - 538s 22ms/sample - loss: 0.3465 - accuracy: 0.8544 - val_loss: 0.3634 - val_accuracy: 0.8360\n",
      "Epoch 3/13\n",
      "25000/25000 [==============================] - 538s 22ms/sample - loss: 0.3092 - accuracy: 0.8749 - val_loss: 0.5321 - val_accuracy: 0.8082\n",
      "Epoch 4/13\n",
      "25000/25000 [==============================] - 539s 22ms/sample - loss: 0.2315 - accuracy: 0.9091 - val_loss: 0.3742 - val_accuracy: 0.8410\n",
      "Epoch 5/13\n",
      "25000/25000 [==============================] - 549s 22ms/sample - loss: 0.1759 - accuracy: 0.9349 - val_loss: 0.4256 - val_accuracy: 0.8548\n",
      "Epoch 6/13\n",
      "25000/25000 [==============================] - 546s 22ms/sample - loss: 0.1341 - accuracy: 0.9513 - val_loss: 0.4392 - val_accuracy: 0.8554\n",
      "Epoch 7/13\n",
      "25000/25000 [==============================] - 538s 22ms/sample - loss: 0.1130 - accuracy: 0.9583 - val_loss: 0.5337 - val_accuracy: 0.8533\n",
      "Epoch 8/13\n",
      "25000/25000 [==============================] - 541s 22ms/sample - loss: 0.0910 - accuracy: 0.9687 - val_loss: 0.5020 - val_accuracy: 0.8511\n",
      "Epoch 9/13\n",
      "25000/25000 [==============================] - 539s 22ms/sample - loss: 0.0705 - accuracy: 0.9751 - val_loss: 0.5418 - val_accuracy: 0.8485\n",
      "Epoch 10/13\n",
      "25000/25000 [==============================] - 540s 22ms/sample - loss: 0.0497 - accuracy: 0.9838 - val_loss: 0.5886 - val_accuracy: 0.8396\n",
      "Epoch 11/13\n",
      "25000/25000 [==============================] - 540s 22ms/sample - loss: 0.0410 - accuracy: 0.9865 - val_loss: 0.6897 - val_accuracy: 0.8399\n",
      "Epoch 12/13\n",
      "25000/25000 [==============================] - 540s 22ms/sample - loss: 0.0334 - accuracy: 0.9884 - val_loss: 0.6763 - val_accuracy: 0.8402\n",
      "Epoch 13/13\n",
      "25000/25000 [==============================] - 542s 22ms/sample - loss: 0.0264 - accuracy: 0.9915 - val_loss: 0.7321 - val_accuracy: 0.8481\n"
     ]
    },
    {
     "data": {
      "text/plain": [
       "<tensorflow.python.keras.callbacks.History at 0x2ba3c279048>"
      ]
     },
     "execution_count": 9,
     "metadata": {},
     "output_type": "execute_result"
    }
   ],
   "source": [
    "model.fit(x_train, y_train, batch_size=30, epochs=13,validation_data=(x_test, y_test))"
   ]
  },
  {
   "cell_type": "code",
   "execution_count": null,
   "metadata": {},
   "outputs": [],
   "source": []
  }
 ],
 "metadata": {
  "kernelspec": {
   "display_name": "Python 3",
   "language": "python",
   "name": "python3"
  },
  "language_info": {
   "codemirror_mode": {
    "name": "ipython",
    "version": 3
   },
   "file_extension": ".py",
   "mimetype": "text/x-python",
   "name": "python",
   "nbconvert_exporter": "python",
   "pygments_lexer": "ipython3",
   "version": "3.7.4"
  }
 },
 "nbformat": 4,
 "nbformat_minor": 2
}
