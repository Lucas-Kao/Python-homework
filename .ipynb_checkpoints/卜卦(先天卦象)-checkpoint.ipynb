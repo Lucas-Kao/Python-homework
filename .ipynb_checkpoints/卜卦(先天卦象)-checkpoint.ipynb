{
 "cells": [
  {
   "cell_type": "markdown",
   "metadata": {},
   "source": [
    "# 卜卦注意事項\n",
    "* 適合問\"開放性問題\"，而非\"是非題\"，因為卦辭給的是一個\"情境\"，而你要對該情境與問題做聯想，自己解釋其中的涵義\n",
    "* 只能問與自己有關的問題，比方說你不能問隔壁老王如果收對街小花當乾女兒會怎樣\n",
    "* 不能問不道德或是不正當的問題，比方說不能問賭博下注某遊戲的狀況會如何\n",
    "* 問題必須是自己真的有疑惑的，也就是說不能問已知的問題"
   ]
  },
  {
   "cell_type": "markdown",
   "metadata": {},
   "source": [
    "# 卜卦順序\n",
    "* 1.誠心誠意地相信\n",
    "* 2.在心裡問好你的問題\n",
    "* 3.給出隨機想到的，三組的三個數字\n",
    "* 4.Google你卜出的卦象名稱(可在易學網找到對應的解釋)\n",
    "\n"
   ]
  },
  {
   "cell_type": "code",
   "execution_count": 1,
   "metadata": {},
   "outputs": [],
   "source": [
    "%matplotlib inline\n",
    "import numpy as np\n",
    "import matplotlib.pyplot as plt\n",
    "from ipywidgets import interact_manual"
   ]
  },
  {
   "cell_type": "code",
   "execution_count": 2,
   "metadata": {},
   "outputs": [],
   "source": [
    "def num(A,B,C):\n",
    "    a=int(A)%8\n",
    "    b=int(B)%8\n",
    "    c=int(C)%6\n",
    "    L=[\"天\",\"澤\",\"火\",\"雷\",\"風\",\"水\",\"山\",\"地\"]\n",
    "    N=[\"乾\",\"兌\",\"離\",\"震\",\"巽\",\"坎\",\"艮\",\"坤\"]\n",
    "    if c==0:\n",
    "        print(\"下卦為\"+N[a-1]+\",上卦為\"+N[b-1]+\",此卦為\"+L[b-1]+L[a-1]+\"卦第\"+str(6)+\"爻\")\n",
    "    else:\n",
    "        print(\"下卦為\"+N[a-1]+\",上卦為\"+N[b-1]+\",此卦為\"+L[b-1]+L[a-1]+\"卦第\"+str(c)+\"爻\")\n",
    "            "
   ]
  },
  {
   "cell_type": "code",
   "execution_count": 4,
   "metadata": {},
   "outputs": [
    {
     "data": {
      "application/vnd.jupyter.widget-view+json": {
       "model_id": "d5eb12793d4b4c9ba44f917c6e830f19",
       "version_major": 2,
       "version_minor": 0
      },
      "text/plain": [
       "interactive(children=(Text(value='請輸入隨機想到的三個數字', description='A'), Text(value='請輸入隨機想到的三個數字', description='B')…"
      ]
     },
     "metadata": {},
     "output_type": "display_data"
    },
    {
     "data": {
      "text/plain": [
       "<function __main__.num(A, B, C)>"
      ]
     },
     "execution_count": 4,
     "metadata": {},
     "output_type": "execute_result"
    }
   ],
   "source": [
    "interact_manual(num,A=\"請輸入隨機想到的三個數字\",B=\"請輸入隨機想到的三個數字\",C=\"請輸入隨機想到的三個數字\")"
   ]
  },
  {
   "cell_type": "code",
   "execution_count": null,
   "metadata": {},
   "outputs": [],
   "source": []
  }
 ],
 "metadata": {
  "kernelspec": {
   "display_name": "Python 3",
   "language": "python",
   "name": "python3"
  },
  "language_info": {
   "codemirror_mode": {
    "name": "ipython",
    "version": 3
   },
   "file_extension": ".py",
   "mimetype": "text/x-python",
   "name": "python",
   "nbconvert_exporter": "python",
   "pygments_lexer": "ipython3",
   "version": "3.7.4"
  }
 },
 "nbformat": 4,
 "nbformat_minor": 2
}
