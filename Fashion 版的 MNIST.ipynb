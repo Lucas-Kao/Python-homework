{
 "cells": [
  {
   "cell_type": "code",
   "execution_count": 2,
   "metadata": {},
   "outputs": [],
   "source": [
    "%matplotlib inline\n",
    "\n",
    "import numpy as np\n",
    "import matplotlib.pyplot as plt"
   ]
  },
  {
   "cell_type": "code",
   "execution_count": 3,
   "metadata": {},
   "outputs": [],
   "source": [
    "from tensorflow.keras.datasets import fashion_mnist\n",
    "(x_train, y_train), (x_test, y_test) = fashion_mnist.load_data()"
   ]
  },
  {
   "cell_type": "code",
   "execution_count": 3,
   "metadata": {},
   "outputs": [
    {
     "data": {
      "text/plain": [
       "60000"
      ]
     },
     "execution_count": 3,
     "metadata": {},
     "output_type": "execute_result"
    }
   ],
   "source": [
    "len(x_train)"
   ]
  },
  {
   "cell_type": "code",
   "execution_count": 4,
   "metadata": {},
   "outputs": [
    {
     "name": "stdout",
     "output_type": "stream",
     "text": [
      "這是 Bag\n"
     ]
    },
    {
     "data": {
      "image/png": "[encoded data removed]",
      "text/plain": [
       "<Figure size 432x288 with 1 Axes>"
      ]
     },
     "metadata": {
      "needs_background": "light"
     },
     "output_type": "display_data"
    }
   ],
   "source": [
    "class_names = ['T-shirt/top', 'Trouser', 'Pullover', 'Dress', 'Coat',\n",
    "               'Sandal', 'Shirt', 'Sneaker', 'Bag', 'Ankle boot']\n",
    "n = 1234\n",
    "print('這是', class_names[y_train[n]])\n",
    "plt.imshow(x_train[n], cmap='Greys');"
   ]
  },
  {
   "cell_type": "code",
   "execution_count": 5,
   "metadata": {},
   "outputs": [
    {
     "data": {
      "image/png": "[encoded data removed]",
      "text/plain": [
       "<Figure size 432x288 with 5 Axes>"
      ]
     },
     "metadata": {},
     "output_type": "display_data"
    }
   ],
   "source": [
    "pick = np.random.choice(60000, 5, replace=False)\n",
    "\n",
    "for i in range(5):\n",
    "    n = pick[i]\n",
    "    ax = plt.subplot(151+i)\n",
    "    ax.set_xticks([])\n",
    "    ax.set_yticks([])\n",
    "    ax.set_title(class_names[y_train[n]], fontsize=10)\n",
    "    plt.imshow(x_train[n], cmap='Greys') "
   ]
  },
  {
   "cell_type": "code",
   "execution_count": 6,
   "metadata": {},
   "outputs": [
    {
     "data": {
      "text/plain": [
       "0"
      ]
     },
     "execution_count": 6,
     "metadata": {},
     "output_type": "execute_result"
    }
   ],
   "source": [
    "y_train[n]"
   ]
  },
  {
   "cell_type": "code",
   "execution_count": 7,
   "metadata": {},
   "outputs": [],
   "source": [
    "x_train=x_train/255\n",
    "x_test=x_test/255\n",
    "x_train=x_train.reshape(60000,784)\n",
    "x_test=x_test.reshape(10000,784)"
   ]
  },
  {
   "cell_type": "code",
   "execution_count": 8,
   "metadata": {},
   "outputs": [],
   "source": [
    "from tensorflow.keras.utils import to_categorical\n",
    "y_train=to_categorical(y_train,10)\n",
    "y_test=to_categorical(y_train,10)"
   ]
  },
  {
   "cell_type": "code",
   "execution_count": 9,
   "metadata": {},
   "outputs": [],
   "source": [
    "from tensorflow.keras.models import Sequential\n",
    "from tensorflow.keras.layers import Dense\n",
    "from tensorflow.keras.optimizers import SGD"
   ]
  },
  {
   "cell_type": "code",
   "execution_count": 10,
   "metadata": {},
   "outputs": [],
   "source": [
    "model=Sequential()"
   ]
  },
  {
   "cell_type": "code",
   "execution_count": 11,
   "metadata": {},
   "outputs": [],
   "source": [
    "model.add(Dense(99,input_dim=784,activation='relu'))\n",
    "model.add(Dense(99,activation='relu'))\n",
    "model.add(Dense(99,activation='relu'))"
   ]
  },
  {
   "cell_type": "code",
   "execution_count": 12,
   "metadata": {},
   "outputs": [],
   "source": [
    "model.add(Dense(10,activation='softmax'))"
   ]
  },
  {
   "cell_type": "code",
   "execution_count": 1,
   "metadata": {},
   "outputs": [
    {
     "ename": "NameError",
     "evalue": "name 'x_train' is not defined",
     "output_type": "error",
     "traceback": [
      "\u001b[1;31m---------------------------------------------------------------------------\u001b[0m",
      "\u001b[1;31mNameError\u001b[0m                                 Traceback (most recent call last)",
      "\u001b[1;32m<ipython-input-1-b22f69f3f0f7>\u001b[0m in \u001b[0;36m<module>\u001b[1;34m\u001b[0m\n\u001b[1;32m----> 1\u001b[1;33m \u001b[0mprint\u001b[0m\u001b[1;33m(\u001b[0m\u001b[0mx_train\u001b[0m\u001b[1;33m.\u001b[0m\u001b[0mshape\u001b[0m\u001b[1;33m)\u001b[0m\u001b[1;33m\u001b[0m\u001b[1;33m\u001b[0m\u001b[0m\n\u001b[0m\u001b[0;32m      2\u001b[0m \u001b[0mprint\u001b[0m\u001b[1;33m(\u001b[0m\u001b[0my_train\u001b[0m\u001b[1;33m.\u001b[0m\u001b[0mshape\u001b[0m\u001b[1;33m)\u001b[0m\u001b[1;33m\u001b[0m\u001b[1;33m\u001b[0m\u001b[0m\n",
      "\u001b[1;31mNameError\u001b[0m: name 'x_train' is not defined"
     ]
    }
   ],
   "source": []
  },
  {
   "cell_type": "code",
   "execution_count": 13,
   "metadata": {},
   "outputs": [],
   "source": [
    "model.compile(loss='mse',optimizer=SGD(lr=0.08877),metrics=['accuracy'])"
   ]
  },
  {
   "cell_type": "code",
   "execution_count": 14,
   "metadata": {},
   "outputs": [
    {
     "name": "stdout",
     "output_type": "stream",
     "text": [
      "Model: \"sequential\"\n",
      "_________________________________________________________________\n",
      "Layer (type)                 Output Shape              Param #   \n",
      "=================================================================\n",
      "dense (Dense)                (None, 99)                77715     \n",
      "_________________________________________________________________\n",
      "dense_1 (Dense)              (None, 99)                9900      \n",
      "_________________________________________________________________\n",
      "dense_2 (Dense)              (None, 99)                9900      \n",
      "_________________________________________________________________\n",
      "dense_3 (Dense)              (None, 10)                1000      \n",
      "=================================================================\n",
      "Total params: 98,515\n",
      "Trainable params: 98,515\n",
      "Non-trainable params: 0\n",
      "_________________________________________________________________\n"
     ]
    }
   ],
   "source": [
    "model.summary()"
   ]
  },
  {
   "cell_type": "code",
   "execution_count": 15,
   "metadata": {},
   "outputs": [
    {
     "name": "stdout",
     "output_type": "stream",
     "text": [
      "Train on 60000 samples\n",
      "Epoch 1/23\n",
      "60000/60000 [==============================] - 4s 73us/sample - loss: 0.0737 - accuracy: 0.4461\n",
      "Epoch 2/23\n",
      "60000/60000 [==============================] - 4s 60us/sample - loss: 0.0438 - accuracy: 0.6988\n",
      "Epoch 3/23\n",
      "60000/60000 [==============================] - 3s 57us/sample - loss: 0.0346 - accuracy: 0.7680\n",
      "Epoch 4/23\n",
      "60000/60000 [==============================] - 3s 58us/sample - loss: 0.0304 - accuracy: 0.7981\n",
      "Epoch 5/23\n",
      "60000/60000 [==============================] - 3s 57us/sample - loss: 0.0279 - accuracy: 0.8121\n",
      "Epoch 6/23\n",
      "60000/60000 [==============================] - 3s 57us/sample - loss: 0.0263 - accuracy: 0.8220\n",
      "Epoch 7/23\n",
      "60000/60000 [==============================] - 3s 57us/sample - loss: 0.0252 - accuracy: 0.8288\n",
      "Epoch 8/23\n",
      "60000/60000 [==============================] - 3s 58us/sample - loss: 0.0245 - accuracy: 0.8346s -\n",
      "Epoch 9/23\n",
      "60000/60000 [==============================] - 2s 38us/sample - loss: 0.0238 - accuracy: 0.8383\n",
      "Epoch 10/23\n",
      "60000/60000 [==============================] - 2s 37us/sample - loss: 0.0232 - accuracy: 0.8412\n",
      "Epoch 11/23\n",
      "60000/60000 [==============================] - 2s 36us/sample - loss: 0.0227 - accuracy: 0.8445\n",
      "Epoch 12/23\n",
      "60000/60000 [==============================] - 2s 35us/sample - loss: 0.0224 - accuracy: 0.8474\n",
      "Epoch 13/23\n",
      "60000/60000 [==============================] - 2s 35us/sample - loss: 0.0220 - accuracy: 0.8508\n",
      "Epoch 14/23\n",
      "60000/60000 [==============================] - 2s 35us/sample - loss: 0.0216 - accuracy: 0.8536\n",
      "Epoch 15/23\n",
      "60000/60000 [==============================] - 2s 37us/sample - loss: 0.0213 - accuracy: 0.8561\n",
      "Epoch 16/23\n",
      "60000/60000 [==============================] - 2s 36us/sample - loss: 0.0211 - accuracy: 0.8569\n",
      "Epoch 17/23\n",
      "60000/60000 [==============================] - 2s 35us/sample - loss: 0.0208 - accuracy: 0.8594\n",
      "Epoch 18/23\n",
      "60000/60000 [==============================] - 2s 35us/sample - loss: 0.0206 - accuracy: 0.8613\n",
      "Epoch 19/23\n",
      "60000/60000 [==============================] - 2s 34us/sample - loss: 0.0204 - accuracy: 0.8625\n",
      "Epoch 20/23\n",
      "60000/60000 [==============================] - 2s 34us/sample - loss: 0.0202 - accuracy: 0.8639\n",
      "Epoch 21/23\n",
      "60000/60000 [==============================] - 2s 34us/sample - loss: 0.0200 - accuracy: 0.8640\n",
      "Epoch 22/23\n",
      "60000/60000 [==============================] - 2s 34us/sample - loss: 0.0198 - accuracy: 0.8667\n",
      "Epoch 23/23\n",
      "60000/60000 [==============================] - 2s 35us/sample - loss: 0.0196 - accuracy: 0.8674\n"
     ]
    },
    {
     "data": {
      "text/plain": [
       "<tensorflow.python.keras.callbacks.History at 0x1e0f5262f48>"
      ]
     },
     "execution_count": 15,
     "metadata": {},
     "output_type": "execute_result"
    }
   ],
   "source": [
    "model.fit(x_train,y_train,batch_size=87,epochs=23)"
   ]
  },
  {
   "cell_type": "code",
   "execution_count": 16,
   "metadata": {},
   "outputs": [
    {
     "name": "stdout",
     "output_type": "stream",
     "text": [
      "Train on 60000 samples\n",
      "Epoch 1/20\n",
      "60000/60000 [==============================] - 2s 34us/sample - loss: 0.0195 - accuracy: 0.8694\n",
      "Epoch 2/20\n",
      "60000/60000 [==============================] - 2s 34us/sample - loss: 0.0193 - accuracy: 0.8712\n",
      "Epoch 3/20\n",
      "60000/60000 [==============================] - 2s 33us/sample - loss: 0.0191 - accuracy: 0.8719\n",
      "Epoch 4/20\n",
      "60000/60000 [==============================] - 2s 34us/sample - loss: 0.0190 - accuracy: 0.8722\n",
      "Epoch 5/20\n",
      "60000/60000 [==============================] - 2s 34us/sample - loss: 0.0188 - accuracy: 0.8740\n",
      "Epoch 6/20\n",
      "60000/60000 [==============================] - 2s 34us/sample - loss: 0.0187 - accuracy: 0.8748\n",
      "Epoch 7/20\n",
      "60000/60000 [==============================] - 2s 34us/sample - loss: 0.0185 - accuracy: 0.8759\n",
      "Epoch 8/20\n",
      "60000/60000 [==============================] - 2s 34us/sample - loss: 0.0184 - accuracy: 0.8771\n",
      "Epoch 9/20\n",
      "60000/60000 [==============================] - 2s 34us/sample - loss: 0.0183 - accuracy: 0.8783\n",
      "Epoch 10/20\n",
      "60000/60000 [==============================] - 2s 34us/sample - loss: 0.0182 - accuracy: 0.8788\n",
      "Epoch 11/20\n",
      "60000/60000 [==============================] - 2s 35us/sample - loss: 0.0180 - accuracy: 0.8802\n",
      "Epoch 12/20\n",
      "60000/60000 [==============================] - 2s 34us/sample - loss: 0.0179 - accuracy: 0.8807\n",
      "Epoch 13/20\n",
      "60000/60000 [==============================] - 2s 34us/sample - loss: 0.0178 - accuracy: 0.8813\n",
      "Epoch 14/20\n",
      "60000/60000 [==============================] - 2s 34us/sample - loss: 0.0177 - accuracy: 0.8821\n",
      "Epoch 15/20\n",
      "60000/60000 [==============================] - 2s 34us/sample - loss: 0.0175 - accuracy: 0.8835\n",
      "Epoch 16/20\n",
      "60000/60000 [==============================] - 2s 34us/sample - loss: 0.0175 - accuracy: 0.8826\n",
      "Epoch 17/20\n",
      "60000/60000 [==============================] - 2s 34us/sample - loss: 0.0173 - accuracy: 0.8838\n",
      "Epoch 18/20\n",
      "60000/60000 [==============================] - 2s 35us/sample - loss: 0.0172 - accuracy: 0.8856\n",
      "Epoch 19/20\n",
      "60000/60000 [==============================] - 2s 34us/sample - loss: 0.0171 - accuracy: 0.8871\n",
      "Epoch 20/20\n",
      "60000/60000 [==============================] - 2s 34us/sample - loss: 0.0170 - accuracy: 0.8864\n"
     ]
    },
    {
     "data": {
      "text/plain": [
       "<tensorflow.python.keras.callbacks.History at 0x1e0f6d97e48>"
      ]
     },
     "execution_count": 16,
     "metadata": {},
     "output_type": "execute_result"
    }
   ],
   "source": [
    "model.fit(x_train,y_train,batch_size=87,epochs=20)"
   ]
  },
  {
   "cell_type": "code",
   "execution_count": 17,
   "metadata": {},
   "outputs": [],
   "source": [
    "result=model.predict_classes(x_test)"
   ]
  },
  {
   "cell_type": "code",
   "execution_count": 19,
   "metadata": {},
   "outputs": [],
   "source": [
    "def show_predict(p):\n",
    "    print('神經網路說是:',class_names[result[p]])\n",
    "    plt.imshow(x_test[p].reshape(28,28),cmap='Greys')"
   ]
  },
  {
   "cell_type": "code",
   "execution_count": 20,
   "metadata": {},
   "outputs": [
    {
     "name": "stdout",
     "output_type": "stream",
     "text": [
      "神經網路說是: Sandal\n"
     ]
    },
    {
     "data": {
      "image/png": "[encoded data removed]",
      "text/plain": [
       "<Figure size 432x288 with 1 Axes>"
      ]
     },
     "metadata": {
      "needs_background": "light"
     },
     "output_type": "display_data"
    }
   ],
   "source": [
    "show_predict(8)"
   ]
  },
  {
   "cell_type": "code",
   "execution_count": 21,
   "metadata": {},
   "outputs": [
    {
     "name": "stdout",
     "output_type": "stream",
     "text": [
      "神經網路說是: Dress\n"
     ]
    },
    {
     "data": {
      "image/png": "[encoded data removed]",
      "text/plain": [
       "<Figure size 432x288 with 1 Axes>"
      ]
     },
     "metadata": {
      "needs_background": "light"
     },
     "output_type": "display_data"
    }
   ],
   "source": [
    "show_predict(666)"
   ]
  },
  {
   "cell_type": "code",
   "execution_count": 23,
   "metadata": {},
   "outputs": [
    {
     "name": "stdout",
     "output_type": "stream",
     "text": [
      "神經網路說是: Shirt\n"
     ]
    },
    {
     "data": {
      "image/png": "[encoded data removed]",
      "text/plain": [
       "<Figure size 432x288 with 1 Axes>"
      ]
     },
     "metadata": {
      "needs_background": "light"
     },
     "output_type": "display_data"
    }
   ],
   "source": [
    "show_predict(8787)"
   ]
  },
  {
   "cell_type": "code",
   "execution_count": 24,
   "metadata": {},
   "outputs": [
    {
     "name": "stdout",
     "output_type": "stream",
     "text": [
      "神經網路說是: Sneaker\n"
     ]
    },
    {
     "data": {
      "image/png": "[encoded data removed]",
      "text/plain": [
       "<Figure size 432x288 with 1 Axes>"
      ]
     },
     "metadata": {
      "needs_background": "light"
     },
     "output_type": "display_data"
    }
   ],
   "source": [
    "show_predict(6666)print(x_train.shape)\n",
    "print(y_train.shape)print(x_train.shape)\n",
    "print(y_train.shape)"
   ]
  },
  {
   "cell_type": "code",
   "execution_count": 4,
   "metadata": {},
   "outputs": [
    {
     "name": "stdout",
     "output_type": "stream",
     "text": [
      "(60000, 28, 28)\n",
      "(60000,)\n"
     ]
    }
   ],
   "source": [
    "print(x_train.shape)\n",
    "print(y_train.shape)"
   ]
  },
  {
   "cell_type": "markdown",
   "metadata": {},
   "source": [
    "### 更改的部分:\n",
    "* 將神經元的個數變成99個\n",
    "* 將隱藏層變成三層\n",
    "* model.compile的lr設成0.08877\n",
    "* model.fit的batch_size與epoch皆有調整，並做了兩次訓練"
   ]
  }
 ],
 "metadata": {
  "kernelspec": {
   "display_name": "Python 3",
   "language": "python",
   "name": "python3"
  },
  "language_info": {
   "codemirror_mode": {
    "name": "ipython",
    "version": 3
   },
   "file_extension": ".py",
   "mimetype": "text/x-python",
   "name": "python",
   "nbconvert_exporter": "python",
   "pygments_lexer": "ipython3",
   "version": "3.7.4"
  }
 },
 "nbformat": 4,
 "nbformat_minor": 2
}
