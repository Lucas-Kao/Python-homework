{
 "cells": [
  {
   "cell_type": "code",
   "execution_count": 1,
   "metadata": {},
   "outputs": [
    {
     "name": "stdout",
     "output_type": "stream",
     "text": [
      "輸入三學分課成績，格式為:成績一,成績二,...，若沒有成績就空著98\n",
      "輸入二學分課成績，格式為:成績一,成績二,...，若沒有成績就空著98\n"
     ]
    },
    {
     "data": {
      "application/vnd.jupyter.widget-view+json": {
       "model_id": "408332c3751247c2a0877f4c0a2c19fb",
       "version_major": 2,
       "version_minor": 0
      },
      "text/plain": [
       "interactive(children=(Text(value='98', description='三學分課成績'), Text(value='98', description='二學分課成績'), Output()…"
      ]
     },
     "metadata": {},
     "output_type": "display_data"
    },
    {
     "data": {
      "text/plain": [
       "<function __main__.avr(三學分課成績, 二學分課成績)>"
      ]
     },
     "execution_count": 1,
     "metadata": {},
     "output_type": "execute_result"
    }
   ],
   "source": [
    "import numpy as np\n",
    "from ipywidgets import interact\n",
    "def avr(三學分課成績,二學分課成績):\n",
    "    try:\n",
    "        if 三學分課成績!='' and  二學分課成績!='':\n",
    "            三學分課成績=三學分課成績.split(\",\")\n",
    "            二學分課成績=二學分課成績.split(\",\")\n",
    "            for i in range(len(三學分課成績)):\n",
    "                三學分課成績[i]=float(三學分課成績[i])\n",
    "            for i in range(len(二學分課成績)):\n",
    "                二學分課成績[i]=float(二學分課成績[i])\n",
    "            print((3*sum(np.array(三學分課成績))+2*sum(np.array(二學分課成績)))/(3*(len(三學分課成績))+2*len(二學分課成績)))\n",
    "    \n",
    "        if 三學分課成績=='' and  二學分課成績!='':\n",
    "            二學分課成績=二學分課成績.split(\",\")\n",
    "            for i in range(len(二學分課成績)):\n",
    "                二學分課成績[i]=float(二學分課成績[i])\n",
    "            print(sum(np.array(二學分課成績))/len(二學分課成績))\n",
    "    \n",
    "        if 三學分課成績!='' and  二學分課成績=='':\n",
    "            三學分課成績=三學分課成績.split(\",\")\n",
    "            for i in range(len(三學分課成績)):\n",
    "                三學分課成績[i]=float(三學分課成績[i])\n",
    "            print(sum(np.array(三學分課成績))/len(三學分課成績))\n",
    "    \n",
    "        if 三學分課成績=='' and  二學分課成績=='':\n",
    "            print(\"請輸入成績\")\n",
    "    except ValueError:\n",
    "        print(\"格式錯誤\")\n",
    "    \n",
    "interact(avr,三學分課成績=input(\"輸入三學分課成績，格式為:成績一,成績二,...，若沒有成績就空著\"),二學分課成績=input(\"輸入二學分課成績，格式為:成績一,成績二,...，若沒有成績就空著\"))"
   ]
  },
  {
   "cell_type": "code",
   "execution_count": null,
   "metadata": {},
   "outputs": [],
   "source": []
  }
 ],
 "metadata": {
  "kernelspec": {
   "display_name": "Python 3",
   "language": "python",
   "name": "python3"
  },
  "language_info": {
   "codemirror_mode": {
    "name": "ipython",
    "version": 3
   },
   "file_extension": ".py",
   "mimetype": "text/x-python",
   "name": "python",
   "nbconvert_exporter": "python",
   "pygments_lexer": "ipython3",
   "version": "3.7.4"
  }
 },
 "nbformat": 4,
 "nbformat_minor": 2
}
