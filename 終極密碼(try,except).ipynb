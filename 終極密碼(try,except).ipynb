{
 "cells": [
  {
   "cell_type": "code",
   "execution_count": null,
   "metadata": {},
   "outputs": [
    {
     "name": "stdout",
     "output_type": "stream",
     "text": [
      "請輸入1~1000中的任一整數\n",
      "888\n",
      "比888還小呵呵呵\n",
      "請輸入1到887的整數\n",
      "889\n",
      "請注意範圍\n",
      "請輸入1到887的整數\n"
     ]
    }
   ],
   "source": [
    "%matplotlib inline\n",
    "import numpy as np\n",
    "X=np.random.randint(1,1001)\n",
    "print(\"請輸入1~1000中的任一整數\")\n",
    "ans=0\n",
    "a=1\n",
    "b=1000\n",
    "while int(ans)!=X:\n",
    "    try:\n",
    "        ans=input(\"\")\n",
    "        if a<=int(ans) and b>=int(ans):\n",
    "            if int(ans)<X:\n",
    "                a=int(ans)+1\n",
    "                print(\"比\"+str(ans)+\"再大唷嘿嘿嘿\")\n",
    "                print(\"請輸入\"+str(a)+\"到\"+str(b)+\"的整數\")\n",
    "            elif X<int(ans):\n",
    "                b=int(ans)-1\n",
    "                print(\"比\"+str(ans)+\"還小呵呵呵\")\n",
    "                print(\"請輸入\"+str(a)+\"到\"+str(b)+\"的整數\")\n",
    "            elif X ==int(ans):\n",
    "                print(\"哇，中了耶\")\n",
    "        else:\n",
    "            print(\"請注意範圍\")\n",
    "            print(\"請輸入\"+str(a)+\"到\"+str(b)+\"的整數\")\n",
    "    except ValueError:\n",
    "        print(\"請輸入整數\")\n",
    "        print(\"請輸入\"+str(a)+\"到\"+str(b)+\"的整數\")"
   ]
  },
  {
   "cell_type": "code",
   "execution_count": null,
   "metadata": {},
   "outputs": [],
   "source": []
  }
 ],
 "metadata": {
  "kernelspec": {
   "display_name": "Python 3",
   "language": "python",
   "name": "python3"
  },
  "language_info": {
   "codemirror_mode": {
    "name": "ipython",
    "version": 3
   },
   "file_extension": ".py",
   "mimetype": "text/x-python",
   "name": "python",
   "nbconvert_exporter": "python",
   "pygments_lexer": "ipython3",
   "version": "3.7.4"
  }
 },
 "nbformat": 4,
 "nbformat_minor": 2
}
